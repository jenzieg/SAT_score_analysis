{
 "cells": [
  {
   "cell_type": "markdown",
   "metadata": {},
   "source": [
    "<img src=\"http://imgur.com/1ZcRyrc.png\" style=\"float: left; margin: 20px; height: 55px\">\n",
    "\n",
    "# Project 1: Standardized Test Analysis"
   ]
  },
  {
   "cell_type": "markdown",
   "metadata": {},
   "source": [
    "--- \n",
    "# Part 1\n",
    "\n",
    "Part 1 requires knowledge of basic Python.\n",
    "\n",
    "---"
   ]
  },
  {
   "cell_type": "markdown",
   "metadata": {},
   "source": [
    "## Problem Statement"
   ]
  },
  {
   "cell_type": "markdown",
   "metadata": {},
   "source": [
    "Does the level of parental education affect student scores and participation?"
   ]
  },
  {
   "cell_type": "markdown",
   "metadata": {},
   "source": [
    "### Contents:\n",
    "- [Background](#Background)\n",
    "- [Data Import & Cleaning](#Data-Import-and-Cleaning)\n",
    "- [Exploratory Data Analysis](#Exploratory-Data-Analysis)\n",
    "- [Data Visualization](#Visualize-the-Data)\n",
    "- [Conclusions and Recommendations](#Conclusions-and-Recommendations)"
   ]
  },
  {
   "cell_type": "markdown",
   "metadata": {},
   "source": [
    "## Background"
   ]
  },
  {
   "cell_type": "markdown",
   "metadata": {},
   "source": [
    "The SAT and ACT are standardized tests that many colleges and universities in the United States require for their admissions process. This score is used along with other materials such as grade point average (GPA) and essay responses to determine whether or not a potential student will be accepted to the university.\n",
    "\n",
    "The SAT has two sections of the test: Evidence-Based Reading and Writing and Math ([*source*](https://www.princetonreview.com/college/sat-sections)). The ACT has 4 sections: English, Mathematics, Reading, and Science, with an additional optional writing section ([*source*](https://www.act.org/content/act/en/products-and-services/the-act/scores/understanding-your-scores.html)). They have different score ranges, which you can read more about on their websites or additional outside sources (a quick Google search will help you understand the scores for each test):\n",
    "* [SAT](https://collegereadiness.collegeboard.org/sat)\n",
    "* [ACT](https://www.act.org/content/act/en.html)\n",
    "\n",
    "Standardized tests have long been a controversial topic for students, administrators, and legislators. Since the 1940's, an increasing number of colleges have been using scores from sudents' performances on tests like the SAT and the ACT as a measure for college readiness and aptitude ([*source*](https://www.minotdailynews.com/news/local-news/2017/04/a-brief-history-of-the-sat-and-act/)). Supporters of these tests argue that these scores can be used as an objective measure to determine college admittance. Opponents of these tests claim that these tests are not accurate measures of students potential or ability and serve as an inequitable barrier to entry. Lately, more and more schools are opting to drop the SAT/ACT requirement for their Fall 2021 applications ([*read more about this here*](https://www.cnn.com/2020/04/14/us/coronavirus-colleges-sat-act-test-trnd/index.html))."
   ]
  },
  {
   "cell_type": "markdown",
   "metadata": {
    "tags": []
   },
   "source": [
    "**Background:** \n",
    "<br> In 2020, over 2.1 million students took the SAT. As school districts continue to educate and prepare students to achieve their best results on standardized tests, the level of the students parental education may impact student scores. We will be looking at the relationship between parental education achieved and SAT student scores and participation from 2017 to 2020.\n"
   ]
  },
  {
   "cell_type": "markdown",
   "metadata": {},
   "source": [
    "### Choose your Data\n",
    "\n",
    "There are 10 datasets included in the [`data`](./data/) folder for this project. You are required to pick **at least two** of these to complete your analysis. Feel free to use more than two if you would like, or add other relevant datasets you find online.\n",
    "\n",
    "* [`act_2017.csv`](./data/act_2017.csv): 2017 ACT Scores by State\n",
    "* [`act_2018.csv`](./data/act_2018.csv): 2018 ACT Scores by State\n",
    "* [`act_2019.csv`](./data/act_2019.csv): 2019 ACT Scores by State\n",
    "* [`act_2019_ca.csv`](./data/act_2019_ca.csv): 2019 ACT Scores in California by School\n",
    "* [`sat_2017.csv`](./data/sat_2017.csv): 2017 SAT Scores by State\n",
    "* [`sat_2018.csv`](./data/sat_2018.csv): 2018 SAT Scores by State\n",
    "* [`sat_2019.csv`](./data/sat_2019.csv): 2019 SAT Scores by State\n",
    "* [`sat_2019_by_intended_college_major.csv`](./data/sat_2019_by_intended_college_major.csv): 2019 SAT Scores by Intended College Major\n",
    "* [`sat_2019_ca.csv`](./data/sat_2019_ca.csv): 2019 SAT Scores in California by School\n",
    "* [`sat_act_by_college.csv`](./data/sat_act_by_college.csv): Ranges of Accepted ACT & SAT Student Scores by Colleges"
   ]
  },
  {
   "cell_type": "markdown",
   "metadata": {},
   "source": [
    "**Datasets** \n",
    "<br> sat_2017.csv: 2017 SAT Scores by State \n",
    "<br> sat_2018.csv: 2018 SAT Scores by State\n",
    "<br> sat_2019.csv: 2019 SAT Scores by State\n",
    "<br> I will be using these datasets to look at the U.S. average scores per year. \n",
    "\n",
    "<br> sat_parental_education_2017.csv: 2017 SAT Scores by Level of Parental Education\n",
    "<br> sat_parental_education_2018.csv: 2018 SAT Scores by Level of Parental Education\n",
    "<br> sat_parental_education_2019.csv: 2019 SAT Scores by Level of Parental Education\n",
    "<br> sat_parental_education_2020.csv: 2020 SAT Scores by Level of Parental Education\n",
    "<br> I will be using these datasets to look at the levels of parental education and how they correlate with student SAT scores and participation.\n"
   ]
  },
  {
   "cell_type": "markdown",
   "metadata": {},
   "source": [
    "### Outside Research"
   ]
  },
  {
   "cell_type": "markdown",
   "metadata": {},
   "source": [
    "Based on your problem statement and your chosen datasets, spend some time doing outside research on state policies or additional information that might be relevant. Summarize your findings below. If you bring in any outside tables or charts, make sure you are explicit about having borrowed them. If you quote any text, make sure that it renders as being quoted. **Make sure that you cite your sources.**"
   ]
  },
  {
   "cell_type": "markdown",
   "metadata": {},
   "source": [
    "**Outside Research** \n",
    "\n",
    "<br> I created csv datasets based on the parental education data from the following reports from CollegeBoard: \n",
    "- https://reports.collegeboard.org/pdf/2020-total-group-sat-suite-assessments-annual-report.pdf\n",
    "- https://reports.collegeboard.org/pdf/2019-total-group-sat-suite-assessments-annual-report.pdf\n",
    "- https://reports.collegeboard.org/pdf/2018-total-group-sat-suite-assessments-annual-report.pdf\n",
    "- https://reports.collegeboard.org/pdf/2017-total-group-sat-suite-assessments-annual-report.pdf\n"
   ]
  },
  {
   "cell_type": "markdown",
   "metadata": {},
   "source": [
    "### Coding Challenges\n",
    "\n",
    "1. Manually calculate mean:\n",
    "\n",
    "    Write a function that takes in values and returns the mean of the values. Create a list of numbers that you test on your function to check to make sure your function works!\n",
    "    \n",
    "    *Note*: Do not use any mean methods built-in to any Python libraries to do this! This should be done without importing any additional libraries."
   ]
  },
  {
   "cell_type": "code",
   "execution_count": 3,
   "metadata": {},
   "outputs": [],
   "source": [
    "# Mean Function\n",
    "\n",
    "def calc_mean(numbers):\n",
    "    return sum(numbers) / len(numbers)"
   ]
  },
  {
   "cell_type": "code",
   "execution_count": 4,
   "metadata": {},
   "outputs": [
    {
     "data": {
      "text/plain": [
       "5.0"
      ]
     },
     "execution_count": 4,
     "metadata": {},
     "output_type": "execute_result"
    }
   ],
   "source": [
    "number_list = [2,4,6,8]\n",
    "calc_mean(number_list)"
   ]
  },
  {
   "cell_type": "markdown",
   "metadata": {},
   "source": [
    "2. Manually calculate standard deviation:\n",
    "\n",
    "    The formula for standard deviation is below:\n",
    "\n",
    "    $$\\sigma = \\sqrt{\\frac{1}{n}\\sum_{i=1}^n(x_i - \\mu)^2}$$\n",
    "\n",
    "    Where $x_i$ represents each value in the dataset, $\\mu$ represents the mean of all values in the dataset and $n$ represents the number of values in the dataset.\n",
    "\n",
    "    Write a function that takes in values and returns the standard deviation of the values using the formula above. Hint: use the function you wrote above to calculate the mean! Use the list of numbers you created above to test on your function.\n",
    "    \n",
    "    *Note*: Do not use any standard deviation methods built-in to any Python libraries to do this! This should be done without importing any additional libraries."
   ]
  },
  {
   "cell_type": "code",
   "execution_count": 5,
   "metadata": {},
   "outputs": [],
   "source": [
    "# Standard Deviation Function\n",
    "def calc_sd(numbers):\n",
    "    try:\n",
    "        m = calc_mean(numbers)               # calls the mean function\n",
    "        var = 0\n",
    "        for num in numbers:\n",
    "            v = ((num - m)**2)/len(numbers)  # calculates the variance\n",
    "            var += v\n",
    "        return var ** .5                     # returns the standard deviation\n",
    "    except:\n",
    "        return f'{numbers} is not a numeric value.'"
   ]
  },
  {
   "cell_type": "code",
   "execution_count": 6,
   "metadata": {},
   "outputs": [
    {
     "data": {
      "text/plain": [
       "2.23606797749979"
      ]
     },
     "execution_count": 6,
     "metadata": {},
     "output_type": "execute_result"
    }
   ],
   "source": [
    "calc_sd(number_list)"
   ]
  },
  {
   "cell_type": "markdown",
   "metadata": {},
   "source": [
    "3. Data cleaning function:\n",
    "    \n",
    "    Write a function that takes in a string that is a number and a percent symbol (ex. '50%', '30.5%', etc.) and converts this to a float that is the decimal approximation of the percent. For example, inputting '50%' in your function should return 0.5, '30.5%' should return 0.305, etc. Make sure to test your function to make sure it works!\n",
    "\n",
    "You will use these functions later on in the project!"
   ]
  },
  {
   "cell_type": "code",
   "execution_count": 7,
   "metadata": {},
   "outputs": [],
   "source": [
    "# Percent to Float Function\n",
    "\n",
    "def no_percent(s):\n",
    "    try:\n",
    "        i = (float(s.strip('%'))/100)\n",
    "    except: \n",
    "        return s\n",
    "    return i"
   ]
  },
  {
   "cell_type": "code",
   "execution_count": 8,
   "metadata": {},
   "outputs": [
    {
     "data": {
      "text/plain": [
       "0.99"
      ]
     },
     "execution_count": 8,
     "metadata": {},
     "output_type": "execute_result"
    }
   ],
   "source": [
    "no_percent('99%')"
   ]
  },
  {
   "cell_type": "markdown",
   "metadata": {},
   "source": [
    "--- \n",
    "# Part 2\n",
    "\n",
    "Part 2 requires knowledge of Pandas, EDA, data cleaning, and data visualization.\n",
    "\n",
    "---"
   ]
  },
  {
   "cell_type": "markdown",
   "metadata": {},
   "source": [
    "*All libraries used should be added here*"
   ]
  },
  {
   "cell_type": "code",
   "execution_count": 9,
   "metadata": {},
   "outputs": [],
   "source": [
    "# Importing libraries\n",
    "\n",
    "import numpy as np\n",
    "import pandas as pd\n",
    "import matplotlib.pyplot as plt\n",
    "import scipy.stats as stats\n",
    "import seaborn as sns"
   ]
  },
  {
   "cell_type": "markdown",
   "metadata": {},
   "source": [
    "## Data Import and Cleaning"
   ]
  },
  {
   "cell_type": "markdown",
   "metadata": {},
   "source": [
    "### Data Import & Cleaning\n",
    "\n",
    "Import the datasets that you selected for this project and go through the following steps at a minimum. You are welcome to do further cleaning as you feel necessary:\n",
    "1. Display the data: print the first 5 rows of each dataframe to your Jupyter notebook.\n",
    "2. Check for missing values.\n",
    "3. Check for any obvious issues with the observations (keep in mind the minimum & maximum possible values for each test/subtest).\n",
    "4. Fix any errors you identified in steps 2-3.\n",
    "5. Display the data types of each feature.\n",
    "6. Fix any incorrect data types found in step 5.\n",
    "    - Fix any individual values preventing other columns from being the appropriate type.\n",
    "    - If your dataset has a column of percents (ex. '50%', '30.5%', etc.), use the function you wrote in Part 1 (coding challenges, number 3) to convert this to floats! *Hint*: use `.map()` or `.apply()`.\n",
    "7. Rename Columns.\n",
    "    - Column names should be all lowercase.\n",
    "    - Column names should not contain spaces (underscores will suffice--this allows for using the `df.column_name` method to access columns in addition to `df['column_name']`).\n",
    "    - Column names should be unique and informative.\n",
    "8. Drop unnecessary rows (if needed).\n",
    "9. Merge dataframes that can be merged.\n",
    "10. Perform any additional cleaning that you feel is necessary.\n",
    "11. Save your cleaned and merged dataframes as csv files."
   ]
  },
  {
   "cell_type": "markdown",
   "metadata": {},
   "source": [
    "#### Step 1. Import datasets and print the first 5 rows of each dataframe"
   ]
  },
  {
   "cell_type": "code",
   "execution_count": 10,
   "metadata": {},
   "outputs": [],
   "source": [
    "# Importing datasets\n",
    "\n",
    "sat_2017 = pd.read_csv('/Users/jenz/Desktop/GA/submissions/projects/project_1-master/data/sat_2017.csv')\n",
    "sat_2018 = pd.read_csv('/Users/jenz/Desktop/GA/submissions/projects/project_1-master/data/sat_2018.csv')\n",
    "sat_2019 = pd.read_csv('/Users/jenz/Desktop/GA/submissions/projects/project_1-master/data/sat_2019.csv')\n",
    "edu_2017 = pd.read_csv('/Users/jenz/Desktop/GA/submissions/projects/project_1-master/data/sat_parental_education_2017.csv')\n",
    "edu_2018 = pd.read_csv('/Users/jenz/Desktop/GA/submissions/projects/project_1-master/data/sat_parental_education_2018.csv')\n",
    "edu_2019 = pd.read_csv('/Users/jenz/Desktop/GA/submissions/projects/project_1-master/data/sat_parental_education_2019.csv')\n",
    "edu_2020 = pd.read_csv('/Users/jenz/Desktop/GA/submissions/projects/project_1-master/data/sat_parental_education_2020.csv')"
   ]
  },
  {
   "cell_type": "code",
   "execution_count": 11,
   "metadata": {
    "tags": []
   },
   "outputs": [
    {
     "name": "stdout",
     "output_type": "stream",
     "text": [
      "        State Participation  Evidence-Based Reading and Writing  Math  Total\n",
      "0     Alabama            5%                                 593   572   1165\n",
      "1      Alaska           38%                                 547   533   1080\n",
      "2     Arizona           30%                                 563   553   1116\n",
      "3    Arkansas            3%                                 614   594   1208\n",
      "4  California           53%                                 531   524   1055\n"
     ]
    }
   ],
   "source": [
    "# Printing first 5 rows of each dataframe\n",
    "print(sat_2017.head())"
   ]
  },
  {
   "cell_type": "code",
   "execution_count": 12,
   "metadata": {
    "tags": []
   },
   "outputs": [
    {
     "name": "stdout",
     "output_type": "stream",
     "text": [
      "        State Participation  Evidence-Based Reading and Writing  Math  Total\n",
      "0     Alabama            6%                                 595   571   1166\n",
      "1      Alaska           43%                                 562   544   1106\n",
      "2     Arizona           29%                                 577   572   1149\n",
      "3    Arkansas            5%                                 592   576   1169\n",
      "4  California           60%                                 540   536   1076\n"
     ]
    }
   ],
   "source": [
    "# Printing first 5 rows of each dataframe\n",
    "print(sat_2018.head())"
   ]
  },
  {
   "cell_type": "code",
   "execution_count": 13,
   "metadata": {
    "tags": []
   },
   "outputs": [
    {
     "name": "stdout",
     "output_type": "stream",
     "text": [
      "        State Participation Rate  EBRW  Math  Total\n",
      "0     Alabama                 7%   583   560   1143\n",
      "1      Alaska                41%   556   541   1097\n",
      "2     Arizona                31%   569   565   1134\n",
      "3    Arkansas                 6%   582   559   1141\n",
      "4  California                63%   534   531   1065\n"
     ]
    }
   ],
   "source": [
    "# Printing first 5 rows of each dataframe\n",
    "# Note - Virgin Islands and Puerto Rico were included in the data for 2019\n",
    "print(sat_2019.head())"
   ]
  },
  {
   "cell_type": "code",
   "execution_count": 14,
   "metadata": {
    "tags": []
   },
   "outputs": [
    {
     "name": "stdout",
     "output_type": "stream",
     "text": [
      "   year highest_level_of_parental_education  number_of_test_takers  \\\n",
      "0  2017              No High School Diploma                 137437   \n",
      "1  2017                 High School Diploma                 482194   \n",
      "2  2017                    Associate Degree                 134451   \n",
      "3  2017                    Bachelors Degree                 473103   \n",
      "4  2017                     Graduate Degree                 339743   \n",
      "\n",
      "  percentage_of_test_takers  total_mean_score  erw_mean_score  \\\n",
      "0                        8%               944             472   \n",
      "1                       28%              1003             507   \n",
      "2                        8%              1036             525   \n",
      "3                       28%              1118             562   \n",
      "4                       20%              1177             591   \n",
      "\n",
      "   math_mean_score met_both_benchmarks met_erw_benchmarks met_math_benchmarks  \\\n",
      "0              472                 22%                46%                 26%   \n",
      "1              497                 33%                62%                 36%   \n",
      "2              511                 40%                71%                 43%   \n",
      "3              556                 59%                83%                 62%   \n",
      "4              586                 69%                88%                 71%   \n",
      "\n",
      "  did_not_meet_benchmarks  \n",
      "0                     50%  \n",
      "1                     35%  \n",
      "2                     27%  \n",
      "3                     15%  \n",
      "4                     10%  \n"
     ]
    }
   ],
   "source": [
    "# Printing first 5 rows of each dataframe\n",
    "print(edu_2017.head())"
   ]
  },
  {
   "cell_type": "code",
   "execution_count": 15,
   "metadata": {
    "tags": []
   },
   "outputs": [
    {
     "name": "stdout",
     "output_type": "stream",
     "text": [
      "   year highest_level_of_parental_education  number_of_test_takers  \\\n",
      "0  2018              No High School Diploma                 172575   \n",
      "1  2018                 High School Diploma                 576612   \n",
      "2  2018                    Associate Degree                 158228   \n",
      "3  2018                    Bachelors Degree                 588211   \n",
      "4  2018                     Graduate Degree                 442830   \n",
      "\n",
      "  percentage_of_test_takers  total_mean_score  erw_mean_score  \\\n",
      "0                        8%               944             473   \n",
      "1                       27%              1005             507   \n",
      "2                        7%              1039             526   \n",
      "3                       28%              1129             566   \n",
      "4                       21%              1197             599   \n",
      "\n",
      "   math_mean_score met_both_benchmarks met_erw_benchmarks met_math_benchmarks  \\\n",
      "0              471                 22%                45%                 25%   \n",
      "1              497                 33%                62%                 36%   \n",
      "2              513                 41%                71%                 43%   \n",
      "3              563                 61%                83%                 63%   \n",
      "4              598                 72%                88%                 73%   \n",
      "\n",
      "  did_not_meet_benchmarks  \n",
      "0                     51%  \n",
      "1                     36%  \n",
      "2                     27%  \n",
      "3                     15%  \n",
      "4                     10%  \n"
     ]
    }
   ],
   "source": [
    "# Printing first 5 rows of each dataframe\n",
    "print(edu_2018.head())"
   ]
  },
  {
   "cell_type": "code",
   "execution_count": 16,
   "metadata": {
    "tags": []
   },
   "outputs": [
    {
     "name": "stdout",
     "output_type": "stream",
     "text": [
      "   year highest_level_of_parental_education  number_of_test_takers  \\\n",
      "0  2019              No High School Diploma                 198564   \n",
      "1  2019                 High School Diploma                 608174   \n",
      "2  2019                    Associate Degree                 159521   \n",
      "3  2019                    Bachelors Degree                 620711   \n",
      "4  2019                     Graduate Degree                 461235   \n",
      "\n",
      "  percentage_of_test_takers  total_mean_score  erw_mean_score  \\\n",
      "0                        9%               926             464   \n",
      "1                       27%               989             500   \n",
      "2                        7%              1027             519   \n",
      "3                       28%              1121             561   \n",
      "4                       21%              1194             596   \n",
      "\n",
      "   math_mean_score met_both_benchmarks met_erw_benchmarks met_math_benchmarks  \\\n",
      "0              462                 19%                40%                 23%   \n",
      "1              490                 31%                58%                 33%   \n",
      "2              508                 38%                67%                 41%   \n",
      "3              560                 59%                81%                 61%   \n",
      "4              598                 71%                87%                 73%   \n",
      "\n",
      "  did_not_meet_benchmarks  \n",
      "0                     56%  \n",
      "1                     40%  \n",
      "2                     30%  \n",
      "3                     17%  \n",
      "4                     11%  \n"
     ]
    }
   ],
   "source": [
    "# Printing first 5 rows of each dataframe\n",
    "print(edu_2019.head())"
   ]
  },
  {
   "cell_type": "code",
   "execution_count": 17,
   "metadata": {
    "tags": []
   },
   "outputs": [
    {
     "name": "stdout",
     "output_type": "stream",
     "text": [
      "   year highest_level_of_parental_education  number_of_test_takers  \\\n",
      "0  2020              No High School Diploma                 198122   \n",
      "1  2020                 High School Diploma                 588120   \n",
      "2  2020                    Associate Degree                 149371   \n",
      "3  2020                    Bachelors Degree                 625091   \n",
      "4  2020                     Graduate Degree                 462711   \n",
      "\n",
      "  percentage_of_test_takers  total_mean_score  erw_mean_score  \\\n",
      "0                        9%               919             461   \n",
      "1                       27%               981             495   \n",
      "2                        7%              1019             516   \n",
      "3                       28%              1114             558   \n",
      "4                       21%              1186             592   \n",
      "\n",
      "   math_mean_score met_both_benchmarks met_erw_benchmarks met_math_benchmarks  \\\n",
      "0              458                 19%                39%                 23%   \n",
      "1              485                 30%                56%                 33%   \n",
      "2              503                 37%                66%                 40%   \n",
      "3              556                 58%                80%                 61%   \n",
      "4              594                 70%                86%                 72%   \n",
      "\n",
      "  did_not_meet_benchmarks  \n",
      "0                     58%  \n",
      "1                     42%  \n",
      "2                     32%  \n",
      "3                     17%  \n",
      "4                     12%  \n"
     ]
    }
   ],
   "source": [
    "# Printing first 5 rows of each dataframe\n",
    "print(edu_2020.head())"
   ]
  },
  {
   "cell_type": "markdown",
   "metadata": {},
   "source": [
    "#### Step 2. Check for missing values.\n",
    "There are no missing values in these datasets."
   ]
  },
  {
   "cell_type": "code",
   "execution_count": 18,
   "metadata": {
    "tags": []
   },
   "outputs": [
    {
     "data": {
      "text/plain": [
       "State                                 0\n",
       "Participation                         0\n",
       "Evidence-Based Reading and Writing    0\n",
       "Math                                  0\n",
       "Total                                 0\n",
       "dtype: int64"
      ]
     },
     "execution_count": 18,
     "metadata": {},
     "output_type": "execute_result"
    }
   ],
   "source": [
    "# Checking for null values\n",
    "sat_2017.isnull().sum()"
   ]
  },
  {
   "cell_type": "code",
   "execution_count": 19,
   "metadata": {
    "tags": []
   },
   "outputs": [
    {
     "data": {
      "text/plain": [
       "State                                 0\n",
       "Participation                         0\n",
       "Evidence-Based Reading and Writing    0\n",
       "Math                                  0\n",
       "Total                                 0\n",
       "dtype: int64"
      ]
     },
     "execution_count": 19,
     "metadata": {},
     "output_type": "execute_result"
    }
   ],
   "source": [
    "# Checking for null values\n",
    "sat_2018.isnull().sum()"
   ]
  },
  {
   "cell_type": "code",
   "execution_count": 20,
   "metadata": {
    "tags": []
   },
   "outputs": [
    {
     "data": {
      "text/plain": [
       "State                 0\n",
       "Participation Rate    0\n",
       "EBRW                  0\n",
       "Math                  0\n",
       "Total                 0\n",
       "dtype: int64"
      ]
     },
     "execution_count": 20,
     "metadata": {},
     "output_type": "execute_result"
    }
   ],
   "source": [
    "# Checking for null values\n",
    "sat_2019.isnull().sum()"
   ]
  },
  {
   "cell_type": "code",
   "execution_count": 21,
   "metadata": {
    "tags": []
   },
   "outputs": [
    {
     "data": {
      "text/plain": [
       "year                                   0\n",
       "highest_level_of_parental_education    0\n",
       "number_of_test_takers                  0\n",
       "percentage_of_test_takers              0\n",
       "total_mean_score                       0\n",
       "erw_mean_score                         0\n",
       "math_mean_score                        0\n",
       "met_both_benchmarks                    0\n",
       "met_erw_benchmarks                     0\n",
       "met_math_benchmarks                    0\n",
       "did_not_meet_benchmarks                0\n",
       "dtype: int64"
      ]
     },
     "execution_count": 21,
     "metadata": {},
     "output_type": "execute_result"
    }
   ],
   "source": [
    "# Checking for null values\n",
    "edu_2017.isnull().sum()"
   ]
  },
  {
   "cell_type": "code",
   "execution_count": 22,
   "metadata": {
    "tags": []
   },
   "outputs": [
    {
     "data": {
      "text/plain": [
       "year                                   0\n",
       "highest_level_of_parental_education    0\n",
       "number_of_test_takers                  0\n",
       "percentage_of_test_takers              0\n",
       "total_mean_score                       0\n",
       "erw_mean_score                         0\n",
       "math_mean_score                        0\n",
       "met_both_benchmarks                    0\n",
       "met_erw_benchmarks                     0\n",
       "met_math_benchmarks                    0\n",
       "did_not_meet_benchmarks                0\n",
       "dtype: int64"
      ]
     },
     "execution_count": 22,
     "metadata": {},
     "output_type": "execute_result"
    }
   ],
   "source": [
    "# Checking for null values\n",
    "edu_2018.isnull().sum()"
   ]
  },
  {
   "cell_type": "code",
   "execution_count": 23,
   "metadata": {
    "tags": []
   },
   "outputs": [
    {
     "data": {
      "text/plain": [
       "year                                   0\n",
       "highest_level_of_parental_education    0\n",
       "number_of_test_takers                  0\n",
       "percentage_of_test_takers              0\n",
       "total_mean_score                       0\n",
       "erw_mean_score                         0\n",
       "math_mean_score                        0\n",
       "met_both_benchmarks                    0\n",
       "met_erw_benchmarks                     0\n",
       "met_math_benchmarks                    0\n",
       "did_not_meet_benchmarks                0\n",
       "dtype: int64"
      ]
     },
     "execution_count": 23,
     "metadata": {},
     "output_type": "execute_result"
    }
   ],
   "source": [
    "# Checking for null values\n",
    "edu_2019.isnull().sum()"
   ]
  },
  {
   "cell_type": "code",
   "execution_count": 24,
   "metadata": {
    "tags": []
   },
   "outputs": [
    {
     "data": {
      "text/plain": [
       "year                                   0\n",
       "highest_level_of_parental_education    0\n",
       "number_of_test_takers                  0\n",
       "percentage_of_test_takers              0\n",
       "total_mean_score                       0\n",
       "erw_mean_score                         0\n",
       "math_mean_score                        0\n",
       "met_both_benchmarks                    0\n",
       "met_erw_benchmarks                     0\n",
       "met_math_benchmarks                    0\n",
       "did_not_meet_benchmarks                0\n",
       "dtype: int64"
      ]
     },
     "execution_count": 24,
     "metadata": {},
     "output_type": "execute_result"
    }
   ],
   "source": [
    "# Checking for null values\n",
    "edu_2020.isnull().sum()"
   ]
  },
  {
   "cell_type": "markdown",
   "metadata": {},
   "source": [
    "#### Step 3. Check for any obvious issues with the observations (keep in mind the minimum & maximum possible values for each test/subtest).\n",
    "\n",
    "No errors identified."
   ]
  },
  {
   "cell_type": "code",
   "execution_count": 25,
   "metadata": {},
   "outputs": [
    {
     "data": {
      "text/plain": [
       "State                                 Wyoming\n",
       "Participation                             96%\n",
       "Evidence-Based Reading and Writing        644\n",
       "Math                                      651\n",
       "Total                                    1295\n",
       "dtype: object"
      ]
     },
     "execution_count": 25,
     "metadata": {},
     "output_type": "execute_result"
    }
   ],
   "source": [
    "# Checking max values to see if there are any obvious issues with observations\n",
    "sat_2017.max()"
   ]
  },
  {
   "cell_type": "code",
   "execution_count": 26,
   "metadata": {},
   "outputs": [
    {
     "data": {
      "text/plain": [
       "State                                 Wyoming\n",
       "Participation                             99%\n",
       "Evidence-Based Reading and Writing        643\n",
       "Math                                      655\n",
       "Total                                    1298\n",
       "dtype: object"
      ]
     },
     "execution_count": 26,
     "metadata": {},
     "output_type": "execute_result"
    }
   ],
   "source": [
    "# Checking max values to see if there are any obvious issues with observations\n",
    "sat_2018.max()"
   ]
  },
  {
   "cell_type": "code",
   "execution_count": 27,
   "metadata": {},
   "outputs": [
    {
     "data": {
      "text/plain": [
       "State                 Wyoming\n",
       "Participation Rate          —\n",
       "EBRW                      636\n",
       "Math                      648\n",
       "Total                    1284\n",
       "dtype: object"
      ]
     },
     "execution_count": 27,
     "metadata": {},
     "output_type": "execute_result"
    }
   ],
   "source": [
    "# Checking max values to see if there are any obvious issues with observations\n",
    "sat_2019.max() "
   ]
  },
  {
   "cell_type": "code",
   "execution_count": 28,
   "metadata": {},
   "outputs": [
    {
     "data": {
      "text/plain": [
       "State                                 Alabama\n",
       "Participation                             10%\n",
       "Evidence-Based Reading and Writing        482\n",
       "Math                                       52\n",
       "Total                                     950\n",
       "dtype: object"
      ]
     },
     "execution_count": 28,
     "metadata": {},
     "output_type": "execute_result"
    }
   ],
   "source": [
    "# Checking min values to see if there are any obvious issues with observations\n",
    "sat_2017.min()"
   ]
  },
  {
   "cell_type": "code",
   "execution_count": 29,
   "metadata": {},
   "outputs": [
    {
     "data": {
      "text/plain": [
       "State                                 Alabama\n",
       "Participation                             10%\n",
       "Evidence-Based Reading and Writing        480\n",
       "Math                                      480\n",
       "Total                                     977\n",
       "dtype: object"
      ]
     },
     "execution_count": 29,
     "metadata": {},
     "output_type": "execute_result"
    }
   ],
   "source": [
    "# Checking min values to see if there are any obvious issues with observations\n",
    "sat_2018.min()"
   ]
  },
  {
   "cell_type": "code",
   "execution_count": 30,
   "metadata": {},
   "outputs": [
    {
     "data": {
      "text/plain": [
       "State                 Alabama\n",
       "Participation Rate       100%\n",
       "EBRW                      483\n",
       "Math                      445\n",
       "Total                     935\n",
       "dtype: object"
      ]
     },
     "execution_count": 30,
     "metadata": {},
     "output_type": "execute_result"
    }
   ],
   "source": [
    "# Checking min values to see if there are any obvious issues with observations\n",
    "sat_2019.min()"
   ]
  },
  {
   "cell_type": "code",
   "execution_count": 31,
   "metadata": {},
   "outputs": [
    {
     "data": {
      "text/plain": [
       "year                                          2017\n",
       "highest_level_of_parental_education    No Response\n",
       "number_of_test_takers                       482194\n",
       "percentage_of_test_takers                       9%\n",
       "total_mean_score                              1177\n",
       "erw_mean_score                                 591\n",
       "math_mean_score                                586\n",
       "met_both_benchmarks                            69%\n",
       "met_erw_benchmarks                             88%\n",
       "met_math_benchmarks                            71%\n",
       "did_not_meet_benchmarks                        58%\n",
       "dtype: object"
      ]
     },
     "execution_count": 31,
     "metadata": {},
     "output_type": "execute_result"
    }
   ],
   "source": [
    "# Checking max values to see if there are any obvious issues with observations\n",
    "edu_2017.max()"
   ]
  },
  {
   "cell_type": "code",
   "execution_count": 32,
   "metadata": {},
   "outputs": [
    {
     "data": {
      "text/plain": [
       "year                                          2018\n",
       "highest_level_of_parental_education    No Response\n",
       "number_of_test_takers                       588211\n",
       "percentage_of_test_takers                       9%\n",
       "total_mean_score                              1197\n",
       "erw_mean_score                                 599\n",
       "math_mean_score                                598\n",
       "met_both_benchmarks                            72%\n",
       "met_erw_benchmarks                             88%\n",
       "met_math_benchmarks                            73%\n",
       "did_not_meet_benchmarks                        59%\n",
       "dtype: object"
      ]
     },
     "execution_count": 32,
     "metadata": {},
     "output_type": "execute_result"
    }
   ],
   "source": [
    "# Checking max values to see if there are any obvious issues with observations\n",
    "edu_2018.max()"
   ]
  },
  {
   "cell_type": "code",
   "execution_count": 33,
   "metadata": {},
   "outputs": [
    {
     "data": {
      "text/plain": [
       "year                                          2019\n",
       "highest_level_of_parental_education    No Response\n",
       "number_of_test_takers                       620711\n",
       "percentage_of_test_takers                       9%\n",
       "total_mean_score                              1194\n",
       "erw_mean_score                                 596\n",
       "math_mean_score                                598\n",
       "met_both_benchmarks                            71%\n",
       "met_erw_benchmarks                             87%\n",
       "met_math_benchmarks                            73%\n",
       "did_not_meet_benchmarks                        61%\n",
       "dtype: object"
      ]
     },
     "execution_count": 33,
     "metadata": {},
     "output_type": "execute_result"
    }
   ],
   "source": [
    "# Checking max values to see if there are any obvious issues with observations\n",
    "edu_2019.max()"
   ]
  },
  {
   "cell_type": "code",
   "execution_count": 34,
   "metadata": {},
   "outputs": [
    {
     "data": {
      "text/plain": [
       "year                                          2020\n",
       "highest_level_of_parental_education    No Response\n",
       "number_of_test_takers                       625091\n",
       "percentage_of_test_takers                       9%\n",
       "total_mean_score                              1186\n",
       "erw_mean_score                                 592\n",
       "math_mean_score                                594\n",
       "met_both_benchmarks                            70%\n",
       "met_erw_benchmarks                             86%\n",
       "met_math_benchmarks                            72%\n",
       "did_not_meet_benchmarks                        65%\n",
       "dtype: object"
      ]
     },
     "execution_count": 34,
     "metadata": {},
     "output_type": "execute_result"
    }
   ],
   "source": [
    "# Checking max values to see if there are any obvious issues with observations\n",
    "edu_2020.max()"
   ]
  },
  {
   "cell_type": "code",
   "execution_count": 35,
   "metadata": {},
   "outputs": [
    {
     "data": {
      "text/plain": [
       "year                                               2017\n",
       "highest_level_of_parental_education    Associate Degree\n",
       "number_of_test_takers                            134451\n",
       "percentage_of_test_takers                           20%\n",
       "total_mean_score                                    914\n",
       "erw_mean_score                                      455\n",
       "math_mean_score                                     460\n",
       "met_both_benchmarks                                 19%\n",
       "met_erw_benchmarks                                  38%\n",
       "met_math_benchmarks                                 23%\n",
       "did_not_meet_benchmarks                             10%\n",
       "dtype: object"
      ]
     },
     "execution_count": 35,
     "metadata": {},
     "output_type": "execute_result"
    }
   ],
   "source": [
    "# Checking min values to see if there are any obvious issues with observations\n",
    "edu_2017.min()"
   ]
  },
  {
   "cell_type": "code",
   "execution_count": 36,
   "metadata": {},
   "outputs": [
    {
     "data": {
      "text/plain": [
       "year                                               2018\n",
       "highest_level_of_parental_education    Associate Degree\n",
       "number_of_test_takers                            158228\n",
       "percentage_of_test_takers                           21%\n",
       "total_mean_score                                    911\n",
       "erw_mean_score                                      454\n",
       "math_mean_score                                     457\n",
       "met_both_benchmarks                                 18%\n",
       "met_erw_benchmarks                                  37%\n",
       "met_math_benchmarks                                 22%\n",
       "did_not_meet_benchmarks                             10%\n",
       "dtype: object"
      ]
     },
     "execution_count": 36,
     "metadata": {},
     "output_type": "execute_result"
    }
   ],
   "source": [
    "# Checking min values to see if there are any obvious issues with observations\n",
    "edu_2018.min()"
   ]
  },
  {
   "cell_type": "code",
   "execution_count": 37,
   "metadata": {},
   "outputs": [
    {
     "data": {
      "text/plain": [
       "year                                               2019\n",
       "highest_level_of_parental_education    Associate Degree\n",
       "number_of_test_takers                            159521\n",
       "percentage_of_test_takers                           21%\n",
       "total_mean_score                                    902\n",
       "erw_mean_score                                      450\n",
       "math_mean_score                                     452\n",
       "met_both_benchmarks                                 18%\n",
       "met_erw_benchmarks                                  34%\n",
       "met_math_benchmarks                                 22%\n",
       "did_not_meet_benchmarks                             11%\n",
       "dtype: object"
      ]
     },
     "execution_count": 37,
     "metadata": {},
     "output_type": "execute_result"
    }
   ],
   "source": [
    "# Checking min values to see if there are any obvious issues with observations\n",
    "edu_2019.min()"
   ]
  },
  {
   "cell_type": "code",
   "execution_count": 38,
   "metadata": {},
   "outputs": [
    {
     "data": {
      "text/plain": [
       "year                                               2020\n",
       "highest_level_of_parental_education    Associate Degree\n",
       "number_of_test_takers                            149371\n",
       "percentage_of_test_takers                           21%\n",
       "total_mean_score                                    883\n",
       "erw_mean_score                                      443\n",
       "math_mean_score                                     440\n",
       "met_both_benchmarks                                 15%\n",
       "met_erw_benchmarks                                  31%\n",
       "met_math_benchmarks                                 19%\n",
       "did_not_meet_benchmarks                             12%\n",
       "dtype: object"
      ]
     },
     "execution_count": 38,
     "metadata": {},
     "output_type": "execute_result"
    }
   ],
   "source": [
    "# Checking min values to see if there are any obvious issues with observations\n",
    "edu_2020.min()"
   ]
  },
  {
   "cell_type": "markdown",
   "metadata": {},
   "source": [
    "#### Step 4. Fix any errors you identified in steps 2-3."
   ]
  },
  {
   "cell_type": "code",
   "execution_count": 39,
   "metadata": {
    "tags": []
   },
   "outputs": [],
   "source": [
    "# Removing Puerto Rico and Virgin Islands rows, as they do not have participation rates. \n",
    "sat_2019.drop(sat_2019.loc[sat_2019['State']=='Puerto Rico'].index, inplace=True)\n",
    "sat_2019.drop(sat_2019.loc[sat_2019['State']=='Virgin Islands'].index, inplace=True)"
   ]
  },
  {
   "cell_type": "code",
   "execution_count": 40,
   "metadata": {
    "tags": []
   },
   "outputs": [
    {
     "data": {
      "text/plain": [
       "State                 51\n",
       "Participation Rate    51\n",
       "EBRW                  51\n",
       "Math                  51\n",
       "Total                 51\n",
       "dtype: int64"
      ]
     },
     "execution_count": 40,
     "metadata": {},
     "output_type": "execute_result"
    }
   ],
   "source": [
    "# Checking count to ensure Puerto Rico and Virgin Islands have been dropped\n",
    "sat_2019.count()"
   ]
  },
  {
   "cell_type": "markdown",
   "metadata": {},
   "source": [
    "#### Step 5. Display the data types of each feature."
   ]
  },
  {
   "cell_type": "code",
   "execution_count": 41,
   "metadata": {},
   "outputs": [
    {
     "name": "stdout",
     "output_type": "stream",
     "text": [
      "State                                 object\n",
      "Participation                         object\n",
      "Evidence-Based Reading and Writing     int64\n",
      "Math                                   int64\n",
      "Total                                  int64\n",
      "dtype: object\n",
      "State                                 object\n",
      "Participation                         object\n",
      "Evidence-Based Reading and Writing     int64\n",
      "Math                                   int64\n",
      "Total                                  int64\n",
      "dtype: object\n",
      "State                 object\n",
      "Participation Rate    object\n",
      "EBRW                   int64\n",
      "Math                   int64\n",
      "Total                  int64\n",
      "dtype: object\n"
     ]
    }
   ],
   "source": [
    "# Displaying data types of each feature\n",
    "print(sat_2017.dtypes)\n",
    "print(sat_2018.dtypes)\n",
    "print(sat_2019.dtypes)"
   ]
  },
  {
   "cell_type": "code",
   "execution_count": 42,
   "metadata": {},
   "outputs": [
    {
     "name": "stdout",
     "output_type": "stream",
     "text": [
      "year                                    int64\n",
      "highest_level_of_parental_education    object\n",
      "number_of_test_takers                   int64\n",
      "percentage_of_test_takers              object\n",
      "total_mean_score                        int64\n",
      "erw_mean_score                          int64\n",
      "math_mean_score                         int64\n",
      "met_both_benchmarks                    object\n",
      "met_erw_benchmarks                     object\n",
      "met_math_benchmarks                    object\n",
      "did_not_meet_benchmarks                object\n",
      "dtype: object\n",
      "year                                    int64\n",
      "highest_level_of_parental_education    object\n",
      "number_of_test_takers                   int64\n",
      "percentage_of_test_takers              object\n",
      "total_mean_score                        int64\n",
      "erw_mean_score                          int64\n",
      "math_mean_score                         int64\n",
      "met_both_benchmarks                    object\n",
      "met_erw_benchmarks                     object\n",
      "met_math_benchmarks                    object\n",
      "did_not_meet_benchmarks                object\n",
      "dtype: object\n",
      "year                                    int64\n",
      "highest_level_of_parental_education    object\n",
      "number_of_test_takers                   int64\n",
      "percentage_of_test_takers              object\n",
      "total_mean_score                        int64\n",
      "erw_mean_score                          int64\n",
      "math_mean_score                         int64\n",
      "met_both_benchmarks                    object\n",
      "met_erw_benchmarks                     object\n",
      "met_math_benchmarks                    object\n",
      "did_not_meet_benchmarks                object\n",
      "dtype: object\n",
      "year                                    int64\n",
      "highest_level_of_parental_education    object\n",
      "number_of_test_takers                   int64\n",
      "percentage_of_test_takers              object\n",
      "total_mean_score                        int64\n",
      "erw_mean_score                          int64\n",
      "math_mean_score                         int64\n",
      "met_both_benchmarks                    object\n",
      "met_erw_benchmarks                     object\n",
      "met_math_benchmarks                    object\n",
      "did_not_meet_benchmarks                object\n",
      "dtype: object\n"
     ]
    }
   ],
   "source": [
    "# Displaying data types of each feature\n",
    "print(edu_2017.dtypes)\n",
    "print(edu_2018.dtypes)\n",
    "print(edu_2019.dtypes)\n",
    "print(edu_2020.dtypes)"
   ]
  },
  {
   "cell_type": "markdown",
   "metadata": {},
   "source": [
    "#### Step 6. Fix any incorrect data types found in step 5.\n",
    "- Fix any individual values preventing other columns from being the appropriate type.\n",
    "- If your dataset has a column of percents (ex. '50%', '30.5%', etc.), use the function you wrote in Part 1 (coding challenges, number 3) to convert this to floats! Hint: use .map() or .apply()."
   ]
  },
  {
   "cell_type": "code",
   "execution_count": 43,
   "metadata": {
    "tags": []
   },
   "outputs": [
    {
     "name": "stdout",
     "output_type": "stream",
     "text": [
      "State                                  object\n",
      "Participation                         float64\n",
      "Evidence-Based Reading and Writing      int64\n",
      "Math                                    int64\n",
      "Total                                   int64\n",
      "dtype: object\n",
      "State                                  object\n",
      "Participation                         float64\n",
      "Evidence-Based Reading and Writing      int64\n",
      "Math                                    int64\n",
      "Total                                   int64\n",
      "dtype: object\n",
      "State                  object\n",
      "Participation Rate    float64\n",
      "EBRW                    int64\n",
      "Math                    int64\n",
      "Total                   int64\n",
      "dtype: object\n"
     ]
    }
   ],
   "source": [
    "# Converting percentages to floats\n",
    "\n",
    "sat_2017['Participation'] = sat_2017['Participation'].map(no_percent)\n",
    "sat_2018['Participation'] = sat_2018['Participation'].map(no_percent)\n",
    "sat_2019['Participation Rate'] = sat_2019['Participation Rate'].map(no_percent)  \n",
    "\n",
    "# Checking to ensure percentages have been converted to floats\n",
    "\n",
    "print(sat_2017.dtypes)\n",
    "print(sat_2018.dtypes)\n",
    "print(sat_2019.dtypes)"
   ]
  },
  {
   "cell_type": "code",
   "execution_count": 44,
   "metadata": {},
   "outputs": [],
   "source": [
    "# Converting percentages to floats\n",
    "\n",
    "edu_2017['percentage_of_test_takers'] = edu_2017['percentage_of_test_takers'].map(no_percent)\n",
    "edu_2017['met_both_benchmarks'] = edu_2017['met_both_benchmarks'].map(no_percent)\n",
    "edu_2017['met_erw_benchmarks'] = edu_2017['met_erw_benchmarks'].map(no_percent)\n",
    "edu_2017['met_math_benchmarks'] = edu_2017['met_math_benchmarks'].map(no_percent)\n",
    "edu_2017['did_not_meet_benchmarks'] = edu_2017['did_not_meet_benchmarks'].map(no_percent)\n",
    "\n",
    "edu_2018['percentage_of_test_takers'] = edu_2018['percentage_of_test_takers'].map(no_percent)\n",
    "edu_2018['met_both_benchmarks'] = edu_2018['met_both_benchmarks'].map(no_percent)\n",
    "edu_2018['met_erw_benchmarks'] = edu_2018['met_erw_benchmarks'].map(no_percent)\n",
    "edu_2018['met_math_benchmarks'] = edu_2018['met_math_benchmarks'].map(no_percent)\n",
    "edu_2018['did_not_meet_benchmarks'] = edu_2018['did_not_meet_benchmarks'].map(no_percent)\n",
    "\n",
    "edu_2019['percentage_of_test_takers'] = edu_2019['percentage_of_test_takers'].map(no_percent)\n",
    "edu_2019['met_both_benchmarks'] = edu_2019['met_both_benchmarks'].map(no_percent)\n",
    "edu_2019['met_erw_benchmarks'] = edu_2019['met_erw_benchmarks'].map(no_percent)\n",
    "edu_2019['met_math_benchmarks'] = edu_2019['met_math_benchmarks'].map(no_percent)\n",
    "edu_2019['did_not_meet_benchmarks'] = edu_2019['did_not_meet_benchmarks'].map(no_percent)\n",
    "\n",
    "edu_2020['percentage_of_test_takers'] = edu_2020['percentage_of_test_takers'].map(no_percent)\n",
    "edu_2020['met_both_benchmarks'] = edu_2020['met_both_benchmarks'].map(no_percent)\n",
    "edu_2020['met_erw_benchmarks'] = edu_2020['met_erw_benchmarks'].map(no_percent)\n",
    "edu_2020['met_math_benchmarks'] = edu_2020['met_math_benchmarks'].map(no_percent)\n",
    "edu_2020['did_not_meet_benchmarks'] = edu_2020['did_not_meet_benchmarks'].map(no_percent)"
   ]
  },
  {
   "cell_type": "code",
   "execution_count": 45,
   "metadata": {
    "tags": []
   },
   "outputs": [
    {
     "name": "stdout",
     "output_type": "stream",
     "text": [
      "year                                     int64\n",
      "highest_level_of_parental_education     object\n",
      "number_of_test_takers                    int64\n",
      "percentage_of_test_takers              float64\n",
      "total_mean_score                         int64\n",
      "erw_mean_score                           int64\n",
      "math_mean_score                          int64\n",
      "met_both_benchmarks                    float64\n",
      "met_erw_benchmarks                     float64\n",
      "met_math_benchmarks                    float64\n",
      "did_not_meet_benchmarks                float64\n",
      "dtype: object\n",
      "year                                     int64\n",
      "highest_level_of_parental_education     object\n",
      "number_of_test_takers                    int64\n",
      "percentage_of_test_takers              float64\n",
      "total_mean_score                         int64\n",
      "erw_mean_score                           int64\n",
      "math_mean_score                          int64\n",
      "met_both_benchmarks                    float64\n",
      "met_erw_benchmarks                     float64\n",
      "met_math_benchmarks                    float64\n",
      "did_not_meet_benchmarks                float64\n",
      "dtype: object\n",
      "year                                     int64\n",
      "highest_level_of_parental_education     object\n",
      "number_of_test_takers                    int64\n",
      "percentage_of_test_takers              float64\n",
      "total_mean_score                         int64\n",
      "erw_mean_score                           int64\n",
      "math_mean_score                          int64\n",
      "met_both_benchmarks                    float64\n",
      "met_erw_benchmarks                     float64\n",
      "met_math_benchmarks                    float64\n",
      "did_not_meet_benchmarks                float64\n",
      "dtype: object\n",
      "year                                     int64\n",
      "highest_level_of_parental_education     object\n",
      "number_of_test_takers                    int64\n",
      "percentage_of_test_takers              float64\n",
      "total_mean_score                         int64\n",
      "erw_mean_score                           int64\n",
      "math_mean_score                          int64\n",
      "met_both_benchmarks                    float64\n",
      "met_erw_benchmarks                     float64\n",
      "met_math_benchmarks                    float64\n",
      "did_not_meet_benchmarks                float64\n",
      "dtype: object\n"
     ]
    }
   ],
   "source": [
    "# Checking to ensure percentages have been converted to floats\n",
    "\n",
    "print(edu_2017.dtypes)\n",
    "print(edu_2018.dtypes)\n",
    "print(edu_2019.dtypes)\n",
    "print(edu_2020.dtypes)"
   ]
  },
  {
   "cell_type": "markdown",
   "metadata": {},
   "source": [
    "#### Step 7. Rename Columns\n",
    "- Column names should be all lowercase.\n",
    "- Column names should not contain spaces (underscores will suffice--this allows for using the df.column_name method to access columns in addition to df['column_name'])."
   ]
  },
  {
   "cell_type": "code",
   "execution_count": 46,
   "metadata": {
    "tags": []
   },
   "outputs": [],
   "source": [
    "# Creating column dictionaries to update column names for sat score datasets\n",
    "# Column dictionary for 2017 - 2018 sat score datasets\n",
    "\n",
    "columns_dict_sat = {\n",
    "    'State': 'state',\n",
    "    'Participation': 'participation',\n",
    "    'Evidence-Based Reading and Writing': 'erw',\n",
    "    'Math': 'math',\n",
    "    'Total': 'total',\n",
    "}\n",
    "\n",
    "# Column dictionary for 2019 sat score dataset\n",
    "\n",
    "columns_dict_sat_2019 = {\n",
    "    'State': 'state',\n",
    "    'Participation Rate': 'participation',\n",
    "    'EBRW': 'erw',\n",
    "    'Math': 'math',\n",
    "    'Total': 'total',\n",
    "}\n",
    "\n",
    "# Renaming columns\n",
    "\n",
    "sat_2017.rename(columns = columns_dict_sat, inplace = True)\n",
    "sat_2018.rename(columns = columns_dict_sat, inplace = True)\n",
    "sat_2019.rename(columns = columns_dict_sat_2019, inplace = True)"
   ]
  },
  {
   "cell_type": "code",
   "execution_count": 47,
   "metadata": {},
   "outputs": [
    {
     "name": "stdout",
     "output_type": "stream",
     "text": [
      "Index(['state', 'participation', 'erw', 'math', 'total'], dtype='object')\n",
      "Index(['state', 'participation', 'erw', 'math', 'total'], dtype='object')\n",
      "Index(['state', 'participation', 'erw', 'math', 'total'], dtype='object')\n"
     ]
    }
   ],
   "source": [
    "# Checking column names\n",
    "\n",
    "print(sat_2017.columns)\n",
    "print(sat_2018.columns)\n",
    "print(sat_2019.columns)"
   ]
  },
  {
   "cell_type": "code",
   "execution_count": 48,
   "metadata": {},
   "outputs": [],
   "source": [
    "# Creating columns for year\n",
    "\n",
    "sat_2017['year'] = 2017\n",
    "sat_2018['year'] = 2018\n",
    "sat_2019['year'] = 2019"
   ]
  },
  {
   "cell_type": "code",
   "execution_count": 49,
   "metadata": {},
   "outputs": [
    {
     "name": "stdout",
     "output_type": "stream",
     "text": [
      "Index(['state', 'participation', 'erw', 'math', 'total', 'year'], dtype='object')\n",
      "Index(['state', 'participation', 'erw', 'math', 'total', 'year'], dtype='object')\n",
      "Index(['state', 'participation', 'erw', 'math', 'total', 'year'], dtype='object')\n"
     ]
    }
   ],
   "source": [
    "# Checking column names to see if year has been added \n",
    "\n",
    "print(sat_2017.columns)\n",
    "print(sat_2018.columns)\n",
    "print(sat_2019.columns)"
   ]
  },
  {
   "cell_type": "code",
   "execution_count": 50,
   "metadata": {},
   "outputs": [],
   "source": [
    "# Creating education column dictionary for renaming\n",
    "\n",
    "edu_columns = {\n",
    "    'total_mean_score':'total',\n",
    "    'erw_mean_score':'erw',\n",
    "    'math_mean_score':'math',\n",
    "    'highest_level_of_parental_education':'parental_education'\n",
    "}\n",
    "\n",
    "# Renaming parental education and mean score columns for education datasets\n",
    "\n",
    "edu_2017.rename(columns = edu_columns, inplace = True)\n",
    "edu_2018.rename(columns = edu_columns, inplace = True)\n",
    "edu_2019.rename(columns = edu_columns, inplace = True)\n",
    "edu_2020.rename(columns = edu_columns, inplace = True)"
   ]
  },
  {
   "cell_type": "markdown",
   "metadata": {},
   "source": [
    "#### 8. Drop unnecessary rows (if needed).\n",
    "\n",
    "No rows to drop"
   ]
  },
  {
   "cell_type": "markdown",
   "metadata": {},
   "source": [
    "#### 9. Perform any additional cleaning that you feel is necessary."
   ]
  },
  {
   "cell_type": "code",
   "execution_count": 51,
   "metadata": {},
   "outputs": [],
   "source": [
    "# Creating Sat Score Dataframe to show averages\n",
    "\n",
    "sat_scores = sat_2017.merge(sat_2018, how = 'outer')\n",
    "sat_scores = sat_scores.merge(sat_2019, how = 'outer')"
   ]
  },
  {
   "cell_type": "code",
   "execution_count": 52,
   "metadata": {},
   "outputs": [
    {
     "data": {
      "text/html": [
       "<div>\n",
       "<style scoped>\n",
       "    .dataframe tbody tr th:only-of-type {\n",
       "        vertical-align: middle;\n",
       "    }\n",
       "\n",
       "    .dataframe tbody tr th {\n",
       "        vertical-align: top;\n",
       "    }\n",
       "\n",
       "    .dataframe thead th {\n",
       "        text-align: right;\n",
       "    }\n",
       "</style>\n",
       "<table border=\"1\" class=\"dataframe\">\n",
       "  <thead>\n",
       "    <tr style=\"text-align: right;\">\n",
       "      <th></th>\n",
       "      <th>state</th>\n",
       "      <th>participation</th>\n",
       "      <th>erw</th>\n",
       "      <th>math</th>\n",
       "      <th>total</th>\n",
       "      <th>year</th>\n",
       "    </tr>\n",
       "  </thead>\n",
       "  <tbody>\n",
       "    <tr>\n",
       "      <th>0</th>\n",
       "      <td>Alabama</td>\n",
       "      <td>0.05</td>\n",
       "      <td>593</td>\n",
       "      <td>572</td>\n",
       "      <td>1165</td>\n",
       "      <td>2017</td>\n",
       "    </tr>\n",
       "    <tr>\n",
       "      <th>1</th>\n",
       "      <td>Alaska</td>\n",
       "      <td>0.38</td>\n",
       "      <td>547</td>\n",
       "      <td>533</td>\n",
       "      <td>1080</td>\n",
       "      <td>2017</td>\n",
       "    </tr>\n",
       "    <tr>\n",
       "      <th>2</th>\n",
       "      <td>Arizona</td>\n",
       "      <td>0.30</td>\n",
       "      <td>563</td>\n",
       "      <td>553</td>\n",
       "      <td>1116</td>\n",
       "      <td>2017</td>\n",
       "    </tr>\n",
       "    <tr>\n",
       "      <th>3</th>\n",
       "      <td>Arkansas</td>\n",
       "      <td>0.03</td>\n",
       "      <td>614</td>\n",
       "      <td>594</td>\n",
       "      <td>1208</td>\n",
       "      <td>2017</td>\n",
       "    </tr>\n",
       "    <tr>\n",
       "      <th>4</th>\n",
       "      <td>California</td>\n",
       "      <td>0.53</td>\n",
       "      <td>531</td>\n",
       "      <td>524</td>\n",
       "      <td>1055</td>\n",
       "      <td>2017</td>\n",
       "    </tr>\n",
       "    <tr>\n",
       "      <th>...</th>\n",
       "      <td>...</td>\n",
       "      <td>...</td>\n",
       "      <td>...</td>\n",
       "      <td>...</td>\n",
       "      <td>...</td>\n",
       "      <td>...</td>\n",
       "    </tr>\n",
       "    <tr>\n",
       "      <th>148</th>\n",
       "      <td>Virginia</td>\n",
       "      <td>0.68</td>\n",
       "      <td>567</td>\n",
       "      <td>551</td>\n",
       "      <td>1119</td>\n",
       "      <td>2019</td>\n",
       "    </tr>\n",
       "    <tr>\n",
       "      <th>149</th>\n",
       "      <td>Washington</td>\n",
       "      <td>0.70</td>\n",
       "      <td>539</td>\n",
       "      <td>535</td>\n",
       "      <td>1074</td>\n",
       "      <td>2019</td>\n",
       "    </tr>\n",
       "    <tr>\n",
       "      <th>150</th>\n",
       "      <td>West Virginia</td>\n",
       "      <td>0.99</td>\n",
       "      <td>483</td>\n",
       "      <td>460</td>\n",
       "      <td>943</td>\n",
       "      <td>2019</td>\n",
       "    </tr>\n",
       "    <tr>\n",
       "      <th>151</th>\n",
       "      <td>Wisconsin</td>\n",
       "      <td>0.03</td>\n",
       "      <td>635</td>\n",
       "      <td>648</td>\n",
       "      <td>1283</td>\n",
       "      <td>2019</td>\n",
       "    </tr>\n",
       "    <tr>\n",
       "      <th>152</th>\n",
       "      <td>Wyoming</td>\n",
       "      <td>0.03</td>\n",
       "      <td>623</td>\n",
       "      <td>615</td>\n",
       "      <td>1238</td>\n",
       "      <td>2019</td>\n",
       "    </tr>\n",
       "  </tbody>\n",
       "</table>\n",
       "<p>153 rows × 6 columns</p>\n",
       "</div>"
      ],
      "text/plain": [
       "             state  participation  erw  math  total  year\n",
       "0          Alabama           0.05  593   572   1165  2017\n",
       "1           Alaska           0.38  547   533   1080  2017\n",
       "2          Arizona           0.30  563   553   1116  2017\n",
       "3         Arkansas           0.03  614   594   1208  2017\n",
       "4       California           0.53  531   524   1055  2017\n",
       "..             ...            ...  ...   ...    ...   ...\n",
       "148       Virginia           0.68  567   551   1119  2019\n",
       "149     Washington           0.70  539   535   1074  2019\n",
       "150  West Virginia           0.99  483   460    943  2019\n",
       "151      Wisconsin           0.03  635   648   1283  2019\n",
       "152        Wyoming           0.03  623   615   1238  2019\n",
       "\n",
       "[153 rows x 6 columns]"
      ]
     },
     "execution_count": 52,
     "metadata": {},
     "output_type": "execute_result"
    }
   ],
   "source": [
    "# New Dataframe\n",
    "sat_scores"
   ]
  },
  {
   "cell_type": "code",
   "execution_count": 53,
   "metadata": {},
   "outputs": [
    {
     "data": {
      "text/html": [
       "<div>\n",
       "<style scoped>\n",
       "    .dataframe tbody tr th:only-of-type {\n",
       "        vertical-align: middle;\n",
       "    }\n",
       "\n",
       "    .dataframe tbody tr th {\n",
       "        vertical-align: top;\n",
       "    }\n",
       "\n",
       "    .dataframe thead th {\n",
       "        text-align: right;\n",
       "    }\n",
       "</style>\n",
       "<table border=\"1\" class=\"dataframe\">\n",
       "  <thead>\n",
       "    <tr style=\"text-align: right;\">\n",
       "      <th></th>\n",
       "      <th>year</th>\n",
       "      <th>state</th>\n",
       "      <th>participation</th>\n",
       "      <th>total</th>\n",
       "      <th>erw</th>\n",
       "      <th>math</th>\n",
       "    </tr>\n",
       "  </thead>\n",
       "  <tbody>\n",
       "    <tr>\n",
       "      <th>0</th>\n",
       "      <td>2017</td>\n",
       "      <td>Alabama</td>\n",
       "      <td>0.05</td>\n",
       "      <td>1165</td>\n",
       "      <td>593</td>\n",
       "      <td>572</td>\n",
       "    </tr>\n",
       "    <tr>\n",
       "      <th>1</th>\n",
       "      <td>2017</td>\n",
       "      <td>Alaska</td>\n",
       "      <td>0.38</td>\n",
       "      <td>1080</td>\n",
       "      <td>547</td>\n",
       "      <td>533</td>\n",
       "    </tr>\n",
       "    <tr>\n",
       "      <th>2</th>\n",
       "      <td>2017</td>\n",
       "      <td>Arizona</td>\n",
       "      <td>0.30</td>\n",
       "      <td>1116</td>\n",
       "      <td>563</td>\n",
       "      <td>553</td>\n",
       "    </tr>\n",
       "    <tr>\n",
       "      <th>3</th>\n",
       "      <td>2017</td>\n",
       "      <td>Arkansas</td>\n",
       "      <td>0.03</td>\n",
       "      <td>1208</td>\n",
       "      <td>614</td>\n",
       "      <td>594</td>\n",
       "    </tr>\n",
       "    <tr>\n",
       "      <th>4</th>\n",
       "      <td>2017</td>\n",
       "      <td>California</td>\n",
       "      <td>0.53</td>\n",
       "      <td>1055</td>\n",
       "      <td>531</td>\n",
       "      <td>524</td>\n",
       "    </tr>\n",
       "    <tr>\n",
       "      <th>...</th>\n",
       "      <td>...</td>\n",
       "      <td>...</td>\n",
       "      <td>...</td>\n",
       "      <td>...</td>\n",
       "      <td>...</td>\n",
       "      <td>...</td>\n",
       "    </tr>\n",
       "    <tr>\n",
       "      <th>148</th>\n",
       "      <td>2019</td>\n",
       "      <td>Virginia</td>\n",
       "      <td>0.68</td>\n",
       "      <td>1119</td>\n",
       "      <td>567</td>\n",
       "      <td>551</td>\n",
       "    </tr>\n",
       "    <tr>\n",
       "      <th>149</th>\n",
       "      <td>2019</td>\n",
       "      <td>Washington</td>\n",
       "      <td>0.70</td>\n",
       "      <td>1074</td>\n",
       "      <td>539</td>\n",
       "      <td>535</td>\n",
       "    </tr>\n",
       "    <tr>\n",
       "      <th>150</th>\n",
       "      <td>2019</td>\n",
       "      <td>West Virginia</td>\n",
       "      <td>0.99</td>\n",
       "      <td>943</td>\n",
       "      <td>483</td>\n",
       "      <td>460</td>\n",
       "    </tr>\n",
       "    <tr>\n",
       "      <th>151</th>\n",
       "      <td>2019</td>\n",
       "      <td>Wisconsin</td>\n",
       "      <td>0.03</td>\n",
       "      <td>1283</td>\n",
       "      <td>635</td>\n",
       "      <td>648</td>\n",
       "    </tr>\n",
       "    <tr>\n",
       "      <th>152</th>\n",
       "      <td>2019</td>\n",
       "      <td>Wyoming</td>\n",
       "      <td>0.03</td>\n",
       "      <td>1238</td>\n",
       "      <td>623</td>\n",
       "      <td>615</td>\n",
       "    </tr>\n",
       "  </tbody>\n",
       "</table>\n",
       "<p>153 rows × 6 columns</p>\n",
       "</div>"
      ],
      "text/plain": [
       "     year          state  participation  total  erw  math\n",
       "0    2017        Alabama           0.05   1165  593   572\n",
       "1    2017         Alaska           0.38   1080  547   533\n",
       "2    2017        Arizona           0.30   1116  563   553\n",
       "3    2017       Arkansas           0.03   1208  614   594\n",
       "4    2017     California           0.53   1055  531   524\n",
       "..    ...            ...            ...    ...  ...   ...\n",
       "148  2019       Virginia           0.68   1119  567   551\n",
       "149  2019     Washington           0.70   1074  539   535\n",
       "150  2019  West Virginia           0.99    943  483   460\n",
       "151  2019      Wisconsin           0.03   1283  635   648\n",
       "152  2019        Wyoming           0.03   1238  623   615\n",
       "\n",
       "[153 rows x 6 columns]"
      ]
     },
     "execution_count": 53,
     "metadata": {},
     "output_type": "execute_result"
    }
   ],
   "source": [
    "# Reordering Columns to view year first\n",
    "\n",
    "sat_scores = sat_scores[['year','state','participation','total','erw','math']]\n",
    "sat_scores"
   ]
  },
  {
   "cell_type": "code",
   "execution_count": 54,
   "metadata": {},
   "outputs": [
    {
     "data": {
      "text/html": [
       "<div>\n",
       "<style scoped>\n",
       "    .dataframe tbody tr th:only-of-type {\n",
       "        vertical-align: middle;\n",
       "    }\n",
       "\n",
       "    .dataframe tbody tr th {\n",
       "        vertical-align: top;\n",
       "    }\n",
       "\n",
       "    .dataframe thead th {\n",
       "        text-align: right;\n",
       "    }\n",
       "</style>\n",
       "<table border=\"1\" class=\"dataframe\">\n",
       "  <thead>\n",
       "    <tr style=\"text-align: right;\">\n",
       "      <th></th>\n",
       "      <th>year</th>\n",
       "      <th>parental_education</th>\n",
       "      <th>number_of_test_takers</th>\n",
       "      <th>percentage_of_test_takers</th>\n",
       "      <th>total</th>\n",
       "      <th>erw</th>\n",
       "      <th>math</th>\n",
       "      <th>met_both_benchmarks</th>\n",
       "      <th>met_erw_benchmarks</th>\n",
       "      <th>met_math_benchmarks</th>\n",
       "      <th>did_not_meet_benchmarks</th>\n",
       "    </tr>\n",
       "  </thead>\n",
       "  <tbody>\n",
       "    <tr>\n",
       "      <th>0</th>\n",
       "      <td>2017</td>\n",
       "      <td>No High School Diploma</td>\n",
       "      <td>137437</td>\n",
       "      <td>0.08</td>\n",
       "      <td>944</td>\n",
       "      <td>472</td>\n",
       "      <td>472</td>\n",
       "      <td>0.22</td>\n",
       "      <td>0.46</td>\n",
       "      <td>0.26</td>\n",
       "      <td>0.50</td>\n",
       "    </tr>\n",
       "    <tr>\n",
       "      <th>1</th>\n",
       "      <td>2017</td>\n",
       "      <td>High School Diploma</td>\n",
       "      <td>482194</td>\n",
       "      <td>0.28</td>\n",
       "      <td>1003</td>\n",
       "      <td>507</td>\n",
       "      <td>497</td>\n",
       "      <td>0.33</td>\n",
       "      <td>0.62</td>\n",
       "      <td>0.36</td>\n",
       "      <td>0.35</td>\n",
       "    </tr>\n",
       "    <tr>\n",
       "      <th>2</th>\n",
       "      <td>2017</td>\n",
       "      <td>Associate Degree</td>\n",
       "      <td>134451</td>\n",
       "      <td>0.08</td>\n",
       "      <td>1036</td>\n",
       "      <td>525</td>\n",
       "      <td>511</td>\n",
       "      <td>0.40</td>\n",
       "      <td>0.71</td>\n",
       "      <td>0.43</td>\n",
       "      <td>0.27</td>\n",
       "    </tr>\n",
       "    <tr>\n",
       "      <th>3</th>\n",
       "      <td>2017</td>\n",
       "      <td>Bachelors Degree</td>\n",
       "      <td>473103</td>\n",
       "      <td>0.28</td>\n",
       "      <td>1118</td>\n",
       "      <td>562</td>\n",
       "      <td>556</td>\n",
       "      <td>0.59</td>\n",
       "      <td>0.83</td>\n",
       "      <td>0.62</td>\n",
       "      <td>0.15</td>\n",
       "    </tr>\n",
       "    <tr>\n",
       "      <th>4</th>\n",
       "      <td>2017</td>\n",
       "      <td>Graduate Degree</td>\n",
       "      <td>339743</td>\n",
       "      <td>0.20</td>\n",
       "      <td>1177</td>\n",
       "      <td>591</td>\n",
       "      <td>586</td>\n",
       "      <td>0.69</td>\n",
       "      <td>0.88</td>\n",
       "      <td>0.71</td>\n",
       "      <td>0.10</td>\n",
       "    </tr>\n",
       "    <tr>\n",
       "      <th>5</th>\n",
       "      <td>2017</td>\n",
       "      <td>No Response</td>\n",
       "      <td>148553</td>\n",
       "      <td>0.09</td>\n",
       "      <td>914</td>\n",
       "      <td>455</td>\n",
       "      <td>460</td>\n",
       "      <td>0.19</td>\n",
       "      <td>0.38</td>\n",
       "      <td>0.23</td>\n",
       "      <td>0.58</td>\n",
       "    </tr>\n",
       "    <tr>\n",
       "      <th>6</th>\n",
       "      <td>2018</td>\n",
       "      <td>No High School Diploma</td>\n",
       "      <td>172575</td>\n",
       "      <td>0.08</td>\n",
       "      <td>944</td>\n",
       "      <td>473</td>\n",
       "      <td>471</td>\n",
       "      <td>0.22</td>\n",
       "      <td>0.45</td>\n",
       "      <td>0.25</td>\n",
       "      <td>0.51</td>\n",
       "    </tr>\n",
       "    <tr>\n",
       "      <th>7</th>\n",
       "      <td>2018</td>\n",
       "      <td>High School Diploma</td>\n",
       "      <td>576612</td>\n",
       "      <td>0.27</td>\n",
       "      <td>1005</td>\n",
       "      <td>507</td>\n",
       "      <td>497</td>\n",
       "      <td>0.33</td>\n",
       "      <td>0.62</td>\n",
       "      <td>0.36</td>\n",
       "      <td>0.36</td>\n",
       "    </tr>\n",
       "    <tr>\n",
       "      <th>8</th>\n",
       "      <td>2018</td>\n",
       "      <td>Associate Degree</td>\n",
       "      <td>158228</td>\n",
       "      <td>0.07</td>\n",
       "      <td>1039</td>\n",
       "      <td>526</td>\n",
       "      <td>513</td>\n",
       "      <td>0.41</td>\n",
       "      <td>0.71</td>\n",
       "      <td>0.43</td>\n",
       "      <td>0.27</td>\n",
       "    </tr>\n",
       "    <tr>\n",
       "      <th>9</th>\n",
       "      <td>2018</td>\n",
       "      <td>Bachelors Degree</td>\n",
       "      <td>588211</td>\n",
       "      <td>0.28</td>\n",
       "      <td>1129</td>\n",
       "      <td>566</td>\n",
       "      <td>563</td>\n",
       "      <td>0.61</td>\n",
       "      <td>0.83</td>\n",
       "      <td>0.63</td>\n",
       "      <td>0.15</td>\n",
       "    </tr>\n",
       "    <tr>\n",
       "      <th>10</th>\n",
       "      <td>2018</td>\n",
       "      <td>Graduate Degree</td>\n",
       "      <td>442830</td>\n",
       "      <td>0.21</td>\n",
       "      <td>1197</td>\n",
       "      <td>599</td>\n",
       "      <td>598</td>\n",
       "      <td>0.72</td>\n",
       "      <td>0.88</td>\n",
       "      <td>0.73</td>\n",
       "      <td>0.10</td>\n",
       "    </tr>\n",
       "    <tr>\n",
       "      <th>11</th>\n",
       "      <td>2018</td>\n",
       "      <td>No Response</td>\n",
       "      <td>198083</td>\n",
       "      <td>0.09</td>\n",
       "      <td>911</td>\n",
       "      <td>454</td>\n",
       "      <td>457</td>\n",
       "      <td>0.18</td>\n",
       "      <td>0.37</td>\n",
       "      <td>0.22</td>\n",
       "      <td>0.59</td>\n",
       "    </tr>\n",
       "    <tr>\n",
       "      <th>12</th>\n",
       "      <td>2019</td>\n",
       "      <td>No High School Diploma</td>\n",
       "      <td>198564</td>\n",
       "      <td>0.09</td>\n",
       "      <td>926</td>\n",
       "      <td>464</td>\n",
       "      <td>462</td>\n",
       "      <td>0.19</td>\n",
       "      <td>0.40</td>\n",
       "      <td>0.23</td>\n",
       "      <td>0.56</td>\n",
       "    </tr>\n",
       "    <tr>\n",
       "      <th>13</th>\n",
       "      <td>2019</td>\n",
       "      <td>High School Diploma</td>\n",
       "      <td>608174</td>\n",
       "      <td>0.27</td>\n",
       "      <td>989</td>\n",
       "      <td>500</td>\n",
       "      <td>490</td>\n",
       "      <td>0.31</td>\n",
       "      <td>0.58</td>\n",
       "      <td>0.33</td>\n",
       "      <td>0.40</td>\n",
       "    </tr>\n",
       "    <tr>\n",
       "      <th>14</th>\n",
       "      <td>2019</td>\n",
       "      <td>Associate Degree</td>\n",
       "      <td>159521</td>\n",
       "      <td>0.07</td>\n",
       "      <td>1027</td>\n",
       "      <td>519</td>\n",
       "      <td>508</td>\n",
       "      <td>0.38</td>\n",
       "      <td>0.67</td>\n",
       "      <td>0.41</td>\n",
       "      <td>0.30</td>\n",
       "    </tr>\n",
       "    <tr>\n",
       "      <th>15</th>\n",
       "      <td>2019</td>\n",
       "      <td>Bachelors Degree</td>\n",
       "      <td>620711</td>\n",
       "      <td>0.28</td>\n",
       "      <td>1121</td>\n",
       "      <td>561</td>\n",
       "      <td>560</td>\n",
       "      <td>0.59</td>\n",
       "      <td>0.81</td>\n",
       "      <td>0.61</td>\n",
       "      <td>0.17</td>\n",
       "    </tr>\n",
       "    <tr>\n",
       "      <th>16</th>\n",
       "      <td>2019</td>\n",
       "      <td>Graduate Degree</td>\n",
       "      <td>461235</td>\n",
       "      <td>0.21</td>\n",
       "      <td>1194</td>\n",
       "      <td>596</td>\n",
       "      <td>598</td>\n",
       "      <td>0.71</td>\n",
       "      <td>0.87</td>\n",
       "      <td>0.73</td>\n",
       "      <td>0.11</td>\n",
       "    </tr>\n",
       "    <tr>\n",
       "      <th>17</th>\n",
       "      <td>2019</td>\n",
       "      <td>No Response</td>\n",
       "      <td>171882</td>\n",
       "      <td>0.08</td>\n",
       "      <td>902</td>\n",
       "      <td>450</td>\n",
       "      <td>452</td>\n",
       "      <td>0.18</td>\n",
       "      <td>0.34</td>\n",
       "      <td>0.22</td>\n",
       "      <td>0.61</td>\n",
       "    </tr>\n",
       "    <tr>\n",
       "      <th>18</th>\n",
       "      <td>2020</td>\n",
       "      <td>No High School Diploma</td>\n",
       "      <td>198122</td>\n",
       "      <td>0.09</td>\n",
       "      <td>919</td>\n",
       "      <td>461</td>\n",
       "      <td>458</td>\n",
       "      <td>0.19</td>\n",
       "      <td>0.39</td>\n",
       "      <td>0.23</td>\n",
       "      <td>0.58</td>\n",
       "    </tr>\n",
       "    <tr>\n",
       "      <th>19</th>\n",
       "      <td>2020</td>\n",
       "      <td>High School Diploma</td>\n",
       "      <td>588120</td>\n",
       "      <td>0.27</td>\n",
       "      <td>981</td>\n",
       "      <td>495</td>\n",
       "      <td>485</td>\n",
       "      <td>0.30</td>\n",
       "      <td>0.56</td>\n",
       "      <td>0.33</td>\n",
       "      <td>0.42</td>\n",
       "    </tr>\n",
       "    <tr>\n",
       "      <th>20</th>\n",
       "      <td>2020</td>\n",
       "      <td>Associate Degree</td>\n",
       "      <td>149371</td>\n",
       "      <td>0.07</td>\n",
       "      <td>1019</td>\n",
       "      <td>516</td>\n",
       "      <td>503</td>\n",
       "      <td>0.37</td>\n",
       "      <td>0.66</td>\n",
       "      <td>0.40</td>\n",
       "      <td>0.32</td>\n",
       "    </tr>\n",
       "    <tr>\n",
       "      <th>21</th>\n",
       "      <td>2020</td>\n",
       "      <td>Bachelors Degree</td>\n",
       "      <td>625091</td>\n",
       "      <td>0.28</td>\n",
       "      <td>1114</td>\n",
       "      <td>558</td>\n",
       "      <td>556</td>\n",
       "      <td>0.58</td>\n",
       "      <td>0.80</td>\n",
       "      <td>0.61</td>\n",
       "      <td>0.17</td>\n",
       "    </tr>\n",
       "    <tr>\n",
       "      <th>22</th>\n",
       "      <td>2020</td>\n",
       "      <td>Graduate Degree</td>\n",
       "      <td>462711</td>\n",
       "      <td>0.21</td>\n",
       "      <td>1186</td>\n",
       "      <td>592</td>\n",
       "      <td>594</td>\n",
       "      <td>0.70</td>\n",
       "      <td>0.86</td>\n",
       "      <td>0.72</td>\n",
       "      <td>0.12</td>\n",
       "    </tr>\n",
       "    <tr>\n",
       "      <th>23</th>\n",
       "      <td>2020</td>\n",
       "      <td>No Response</td>\n",
       "      <td>175045</td>\n",
       "      <td>0.08</td>\n",
       "      <td>883</td>\n",
       "      <td>443</td>\n",
       "      <td>440</td>\n",
       "      <td>0.15</td>\n",
       "      <td>0.31</td>\n",
       "      <td>0.19</td>\n",
       "      <td>0.65</td>\n",
       "    </tr>\n",
       "  </tbody>\n",
       "</table>\n",
       "</div>"
      ],
      "text/plain": [
       "    year      parental_education  number_of_test_takers  \\\n",
       "0   2017  No High School Diploma                 137437   \n",
       "1   2017     High School Diploma                 482194   \n",
       "2   2017        Associate Degree                 134451   \n",
       "3   2017        Bachelors Degree                 473103   \n",
       "4   2017         Graduate Degree                 339743   \n",
       "5   2017             No Response                 148553   \n",
       "6   2018  No High School Diploma                 172575   \n",
       "7   2018     High School Diploma                 576612   \n",
       "8   2018        Associate Degree                 158228   \n",
       "9   2018        Bachelors Degree                 588211   \n",
       "10  2018         Graduate Degree                 442830   \n",
       "11  2018             No Response                 198083   \n",
       "12  2019  No High School Diploma                 198564   \n",
       "13  2019     High School Diploma                 608174   \n",
       "14  2019        Associate Degree                 159521   \n",
       "15  2019        Bachelors Degree                 620711   \n",
       "16  2019         Graduate Degree                 461235   \n",
       "17  2019             No Response                 171882   \n",
       "18  2020  No High School Diploma                 198122   \n",
       "19  2020     High School Diploma                 588120   \n",
       "20  2020        Associate Degree                 149371   \n",
       "21  2020        Bachelors Degree                 625091   \n",
       "22  2020         Graduate Degree                 462711   \n",
       "23  2020             No Response                 175045   \n",
       "\n",
       "    percentage_of_test_takers  total  erw  math  met_both_benchmarks  \\\n",
       "0                        0.08    944  472   472                 0.22   \n",
       "1                        0.28   1003  507   497                 0.33   \n",
       "2                        0.08   1036  525   511                 0.40   \n",
       "3                        0.28   1118  562   556                 0.59   \n",
       "4                        0.20   1177  591   586                 0.69   \n",
       "5                        0.09    914  455   460                 0.19   \n",
       "6                        0.08    944  473   471                 0.22   \n",
       "7                        0.27   1005  507   497                 0.33   \n",
       "8                        0.07   1039  526   513                 0.41   \n",
       "9                        0.28   1129  566   563                 0.61   \n",
       "10                       0.21   1197  599   598                 0.72   \n",
       "11                       0.09    911  454   457                 0.18   \n",
       "12                       0.09    926  464   462                 0.19   \n",
       "13                       0.27    989  500   490                 0.31   \n",
       "14                       0.07   1027  519   508                 0.38   \n",
       "15                       0.28   1121  561   560                 0.59   \n",
       "16                       0.21   1194  596   598                 0.71   \n",
       "17                       0.08    902  450   452                 0.18   \n",
       "18                       0.09    919  461   458                 0.19   \n",
       "19                       0.27    981  495   485                 0.30   \n",
       "20                       0.07   1019  516   503                 0.37   \n",
       "21                       0.28   1114  558   556                 0.58   \n",
       "22                       0.21   1186  592   594                 0.70   \n",
       "23                       0.08    883  443   440                 0.15   \n",
       "\n",
       "    met_erw_benchmarks  met_math_benchmarks  did_not_meet_benchmarks  \n",
       "0                 0.46                 0.26                     0.50  \n",
       "1                 0.62                 0.36                     0.35  \n",
       "2                 0.71                 0.43                     0.27  \n",
       "3                 0.83                 0.62                     0.15  \n",
       "4                 0.88                 0.71                     0.10  \n",
       "5                 0.38                 0.23                     0.58  \n",
       "6                 0.45                 0.25                     0.51  \n",
       "7                 0.62                 0.36                     0.36  \n",
       "8                 0.71                 0.43                     0.27  \n",
       "9                 0.83                 0.63                     0.15  \n",
       "10                0.88                 0.73                     0.10  \n",
       "11                0.37                 0.22                     0.59  \n",
       "12                0.40                 0.23                     0.56  \n",
       "13                0.58                 0.33                     0.40  \n",
       "14                0.67                 0.41                     0.30  \n",
       "15                0.81                 0.61                     0.17  \n",
       "16                0.87                 0.73                     0.11  \n",
       "17                0.34                 0.22                     0.61  \n",
       "18                0.39                 0.23                     0.58  \n",
       "19                0.56                 0.33                     0.42  \n",
       "20                0.66                 0.40                     0.32  \n",
       "21                0.80                 0.61                     0.17  \n",
       "22                0.86                 0.72                     0.12  \n",
       "23                0.31                 0.19                     0.65  "
      ]
     },
     "execution_count": 54,
     "metadata": {},
     "output_type": "execute_result"
    }
   ],
   "source": [
    "# Merging Education Dataframes\n",
    "\n",
    "education = edu_2017.merge(edu_2018, how = 'outer')  \n",
    "education = education.merge(edu_2019, how = 'outer') \n",
    "education = education.merge(edu_2020, how = 'outer')\n",
    "education"
   ]
  },
  {
   "cell_type": "code",
   "execution_count": 55,
   "metadata": {},
   "outputs": [],
   "source": [
    "# Dropping columns not needed. Not looking at benchmarks for this analysis.\n",
    "\n",
    "education.drop(columns = ['met_both_benchmarks','met_erw_benchmarks','met_math_benchmarks','did_not_meet_benchmarks'], inplace = True)"
   ]
  },
  {
   "cell_type": "code",
   "execution_count": 56,
   "metadata": {},
   "outputs": [],
   "source": [
    "# Changing year format\n",
    "\n",
    "education['year'] = pd.to_datetime(education['year'], format = '%Y').dt.year\n",
    "sat_scores['year'] = pd.to_datetime(sat_scores['year'], format = '%Y').dt.year"
   ]
  },
  {
   "cell_type": "code",
   "execution_count": 57,
   "metadata": {},
   "outputs": [],
   "source": [
    "# New dict based on parental levels of education to be used for new column to make plotting easier.\n",
    "\n",
    "p_dict = {\n",
    "    'No Response': 0,\n",
    "    'No High School Diploma': 0,\n",
    "    'High School Diploma': 1,\n",
    "    'Associate Degree': 2,\n",
    "    'Bachelors Degree': 3,\n",
    "    'Graduate Degree': 4\n",
    "}"
   ]
  },
  {
   "cell_type": "code",
   "execution_count": 58,
   "metadata": {},
   "outputs": [
    {
     "data": {
      "text/html": [
       "<div>\n",
       "<style scoped>\n",
       "    .dataframe tbody tr th:only-of-type {\n",
       "        vertical-align: middle;\n",
       "    }\n",
       "\n",
       "    .dataframe tbody tr th {\n",
       "        vertical-align: top;\n",
       "    }\n",
       "\n",
       "    .dataframe thead th {\n",
       "        text-align: right;\n",
       "    }\n",
       "</style>\n",
       "<table border=\"1\" class=\"dataframe\">\n",
       "  <thead>\n",
       "    <tr style=\"text-align: right;\">\n",
       "      <th></th>\n",
       "      <th>year</th>\n",
       "      <th>parental_education</th>\n",
       "      <th>number_of_test_takers</th>\n",
       "      <th>percentage_of_test_takers</th>\n",
       "      <th>total</th>\n",
       "      <th>erw</th>\n",
       "      <th>math</th>\n",
       "      <th>p_edu</th>\n",
       "    </tr>\n",
       "  </thead>\n",
       "  <tbody>\n",
       "    <tr>\n",
       "      <th>0</th>\n",
       "      <td>2017</td>\n",
       "      <td>No High School Diploma</td>\n",
       "      <td>137437</td>\n",
       "      <td>0.08</td>\n",
       "      <td>944</td>\n",
       "      <td>472</td>\n",
       "      <td>472</td>\n",
       "      <td>0</td>\n",
       "    </tr>\n",
       "    <tr>\n",
       "      <th>1</th>\n",
       "      <td>2017</td>\n",
       "      <td>High School Diploma</td>\n",
       "      <td>482194</td>\n",
       "      <td>0.28</td>\n",
       "      <td>1003</td>\n",
       "      <td>507</td>\n",
       "      <td>497</td>\n",
       "      <td>1</td>\n",
       "    </tr>\n",
       "    <tr>\n",
       "      <th>2</th>\n",
       "      <td>2017</td>\n",
       "      <td>Associate Degree</td>\n",
       "      <td>134451</td>\n",
       "      <td>0.08</td>\n",
       "      <td>1036</td>\n",
       "      <td>525</td>\n",
       "      <td>511</td>\n",
       "      <td>2</td>\n",
       "    </tr>\n",
       "    <tr>\n",
       "      <th>3</th>\n",
       "      <td>2017</td>\n",
       "      <td>Bachelors Degree</td>\n",
       "      <td>473103</td>\n",
       "      <td>0.28</td>\n",
       "      <td>1118</td>\n",
       "      <td>562</td>\n",
       "      <td>556</td>\n",
       "      <td>3</td>\n",
       "    </tr>\n",
       "    <tr>\n",
       "      <th>4</th>\n",
       "      <td>2017</td>\n",
       "      <td>Graduate Degree</td>\n",
       "      <td>339743</td>\n",
       "      <td>0.20</td>\n",
       "      <td>1177</td>\n",
       "      <td>591</td>\n",
       "      <td>586</td>\n",
       "      <td>4</td>\n",
       "    </tr>\n",
       "    <tr>\n",
       "      <th>5</th>\n",
       "      <td>2017</td>\n",
       "      <td>No Response</td>\n",
       "      <td>148553</td>\n",
       "      <td>0.09</td>\n",
       "      <td>914</td>\n",
       "      <td>455</td>\n",
       "      <td>460</td>\n",
       "      <td>0</td>\n",
       "    </tr>\n",
       "    <tr>\n",
       "      <th>6</th>\n",
       "      <td>2018</td>\n",
       "      <td>No High School Diploma</td>\n",
       "      <td>172575</td>\n",
       "      <td>0.08</td>\n",
       "      <td>944</td>\n",
       "      <td>473</td>\n",
       "      <td>471</td>\n",
       "      <td>0</td>\n",
       "    </tr>\n",
       "    <tr>\n",
       "      <th>7</th>\n",
       "      <td>2018</td>\n",
       "      <td>High School Diploma</td>\n",
       "      <td>576612</td>\n",
       "      <td>0.27</td>\n",
       "      <td>1005</td>\n",
       "      <td>507</td>\n",
       "      <td>497</td>\n",
       "      <td>1</td>\n",
       "    </tr>\n",
       "    <tr>\n",
       "      <th>8</th>\n",
       "      <td>2018</td>\n",
       "      <td>Associate Degree</td>\n",
       "      <td>158228</td>\n",
       "      <td>0.07</td>\n",
       "      <td>1039</td>\n",
       "      <td>526</td>\n",
       "      <td>513</td>\n",
       "      <td>2</td>\n",
       "    </tr>\n",
       "    <tr>\n",
       "      <th>9</th>\n",
       "      <td>2018</td>\n",
       "      <td>Bachelors Degree</td>\n",
       "      <td>588211</td>\n",
       "      <td>0.28</td>\n",
       "      <td>1129</td>\n",
       "      <td>566</td>\n",
       "      <td>563</td>\n",
       "      <td>3</td>\n",
       "    </tr>\n",
       "    <tr>\n",
       "      <th>10</th>\n",
       "      <td>2018</td>\n",
       "      <td>Graduate Degree</td>\n",
       "      <td>442830</td>\n",
       "      <td>0.21</td>\n",
       "      <td>1197</td>\n",
       "      <td>599</td>\n",
       "      <td>598</td>\n",
       "      <td>4</td>\n",
       "    </tr>\n",
       "    <tr>\n",
       "      <th>11</th>\n",
       "      <td>2018</td>\n",
       "      <td>No Response</td>\n",
       "      <td>198083</td>\n",
       "      <td>0.09</td>\n",
       "      <td>911</td>\n",
       "      <td>454</td>\n",
       "      <td>457</td>\n",
       "      <td>0</td>\n",
       "    </tr>\n",
       "    <tr>\n",
       "      <th>12</th>\n",
       "      <td>2019</td>\n",
       "      <td>No High School Diploma</td>\n",
       "      <td>198564</td>\n",
       "      <td>0.09</td>\n",
       "      <td>926</td>\n",
       "      <td>464</td>\n",
       "      <td>462</td>\n",
       "      <td>0</td>\n",
       "    </tr>\n",
       "    <tr>\n",
       "      <th>13</th>\n",
       "      <td>2019</td>\n",
       "      <td>High School Diploma</td>\n",
       "      <td>608174</td>\n",
       "      <td>0.27</td>\n",
       "      <td>989</td>\n",
       "      <td>500</td>\n",
       "      <td>490</td>\n",
       "      <td>1</td>\n",
       "    </tr>\n",
       "    <tr>\n",
       "      <th>14</th>\n",
       "      <td>2019</td>\n",
       "      <td>Associate Degree</td>\n",
       "      <td>159521</td>\n",
       "      <td>0.07</td>\n",
       "      <td>1027</td>\n",
       "      <td>519</td>\n",
       "      <td>508</td>\n",
       "      <td>2</td>\n",
       "    </tr>\n",
       "    <tr>\n",
       "      <th>15</th>\n",
       "      <td>2019</td>\n",
       "      <td>Bachelors Degree</td>\n",
       "      <td>620711</td>\n",
       "      <td>0.28</td>\n",
       "      <td>1121</td>\n",
       "      <td>561</td>\n",
       "      <td>560</td>\n",
       "      <td>3</td>\n",
       "    </tr>\n",
       "    <tr>\n",
       "      <th>16</th>\n",
       "      <td>2019</td>\n",
       "      <td>Graduate Degree</td>\n",
       "      <td>461235</td>\n",
       "      <td>0.21</td>\n",
       "      <td>1194</td>\n",
       "      <td>596</td>\n",
       "      <td>598</td>\n",
       "      <td>4</td>\n",
       "    </tr>\n",
       "    <tr>\n",
       "      <th>17</th>\n",
       "      <td>2019</td>\n",
       "      <td>No Response</td>\n",
       "      <td>171882</td>\n",
       "      <td>0.08</td>\n",
       "      <td>902</td>\n",
       "      <td>450</td>\n",
       "      <td>452</td>\n",
       "      <td>0</td>\n",
       "    </tr>\n",
       "    <tr>\n",
       "      <th>18</th>\n",
       "      <td>2020</td>\n",
       "      <td>No High School Diploma</td>\n",
       "      <td>198122</td>\n",
       "      <td>0.09</td>\n",
       "      <td>919</td>\n",
       "      <td>461</td>\n",
       "      <td>458</td>\n",
       "      <td>0</td>\n",
       "    </tr>\n",
       "    <tr>\n",
       "      <th>19</th>\n",
       "      <td>2020</td>\n",
       "      <td>High School Diploma</td>\n",
       "      <td>588120</td>\n",
       "      <td>0.27</td>\n",
       "      <td>981</td>\n",
       "      <td>495</td>\n",
       "      <td>485</td>\n",
       "      <td>1</td>\n",
       "    </tr>\n",
       "    <tr>\n",
       "      <th>20</th>\n",
       "      <td>2020</td>\n",
       "      <td>Associate Degree</td>\n",
       "      <td>149371</td>\n",
       "      <td>0.07</td>\n",
       "      <td>1019</td>\n",
       "      <td>516</td>\n",
       "      <td>503</td>\n",
       "      <td>2</td>\n",
       "    </tr>\n",
       "    <tr>\n",
       "      <th>21</th>\n",
       "      <td>2020</td>\n",
       "      <td>Bachelors Degree</td>\n",
       "      <td>625091</td>\n",
       "      <td>0.28</td>\n",
       "      <td>1114</td>\n",
       "      <td>558</td>\n",
       "      <td>556</td>\n",
       "      <td>3</td>\n",
       "    </tr>\n",
       "    <tr>\n",
       "      <th>22</th>\n",
       "      <td>2020</td>\n",
       "      <td>Graduate Degree</td>\n",
       "      <td>462711</td>\n",
       "      <td>0.21</td>\n",
       "      <td>1186</td>\n",
       "      <td>592</td>\n",
       "      <td>594</td>\n",
       "      <td>4</td>\n",
       "    </tr>\n",
       "    <tr>\n",
       "      <th>23</th>\n",
       "      <td>2020</td>\n",
       "      <td>No Response</td>\n",
       "      <td>175045</td>\n",
       "      <td>0.08</td>\n",
       "      <td>883</td>\n",
       "      <td>443</td>\n",
       "      <td>440</td>\n",
       "      <td>0</td>\n",
       "    </tr>\n",
       "  </tbody>\n",
       "</table>\n",
       "</div>"
      ],
      "text/plain": [
       "    year      parental_education  number_of_test_takers  \\\n",
       "0   2017  No High School Diploma                 137437   \n",
       "1   2017     High School Diploma                 482194   \n",
       "2   2017        Associate Degree                 134451   \n",
       "3   2017        Bachelors Degree                 473103   \n",
       "4   2017         Graduate Degree                 339743   \n",
       "5   2017             No Response                 148553   \n",
       "6   2018  No High School Diploma                 172575   \n",
       "7   2018     High School Diploma                 576612   \n",
       "8   2018        Associate Degree                 158228   \n",
       "9   2018        Bachelors Degree                 588211   \n",
       "10  2018         Graduate Degree                 442830   \n",
       "11  2018             No Response                 198083   \n",
       "12  2019  No High School Diploma                 198564   \n",
       "13  2019     High School Diploma                 608174   \n",
       "14  2019        Associate Degree                 159521   \n",
       "15  2019        Bachelors Degree                 620711   \n",
       "16  2019         Graduate Degree                 461235   \n",
       "17  2019             No Response                 171882   \n",
       "18  2020  No High School Diploma                 198122   \n",
       "19  2020     High School Diploma                 588120   \n",
       "20  2020        Associate Degree                 149371   \n",
       "21  2020        Bachelors Degree                 625091   \n",
       "22  2020         Graduate Degree                 462711   \n",
       "23  2020             No Response                 175045   \n",
       "\n",
       "    percentage_of_test_takers  total  erw  math  p_edu  \n",
       "0                        0.08    944  472   472      0  \n",
       "1                        0.28   1003  507   497      1  \n",
       "2                        0.08   1036  525   511      2  \n",
       "3                        0.28   1118  562   556      3  \n",
       "4                        0.20   1177  591   586      4  \n",
       "5                        0.09    914  455   460      0  \n",
       "6                        0.08    944  473   471      0  \n",
       "7                        0.27   1005  507   497      1  \n",
       "8                        0.07   1039  526   513      2  \n",
       "9                        0.28   1129  566   563      3  \n",
       "10                       0.21   1197  599   598      4  \n",
       "11                       0.09    911  454   457      0  \n",
       "12                       0.09    926  464   462      0  \n",
       "13                       0.27    989  500   490      1  \n",
       "14                       0.07   1027  519   508      2  \n",
       "15                       0.28   1121  561   560      3  \n",
       "16                       0.21   1194  596   598      4  \n",
       "17                       0.08    902  450   452      0  \n",
       "18                       0.09    919  461   458      0  \n",
       "19                       0.27    981  495   485      1  \n",
       "20                       0.07   1019  516   503      2  \n",
       "21                       0.28   1114  558   556      3  \n",
       "22                       0.21   1186  592   594      4  \n",
       "23                       0.08    883  443   440      0  "
      ]
     },
     "execution_count": 58,
     "metadata": {},
     "output_type": "execute_result"
    }
   ],
   "source": [
    "# Converting parental education into an additional column to indicate levels of education\n",
    "# 0 = No Response or No High School Diploma, 1 = High School Diploma, 2 = Associate Degree, 3 = Bachelors Degree, 4 = Graduate Degree\n",
    "\n",
    "education['p_edu'] = education['parental_education'].map(p_dict)\n",
    "education"
   ]
  },
  {
   "cell_type": "markdown",
   "metadata": {},
   "source": [
    "#### Save your cleaned and merged dataframes as csv files."
   ]
  },
  {
   "cell_type": "code",
   "execution_count": 59,
   "metadata": {},
   "outputs": [],
   "source": [
    "# Saving cleaned and merged dataframes as csv files\n",
    "\n",
    "sat_scores.to_csv('/Users/jenz/Desktop/GA/submissions/projects/project_1-master/data/sat_scores.csv')\n",
    "education.to_csv('/Users/jenz/Desktop/GA/submissions/projects/project_1-master/data/education.csv')"
   ]
  },
  {
   "cell_type": "markdown",
   "metadata": {},
   "source": [
    "### Data Dictionary\n",
    "\n",
    "Now that we've fixed our data, and given it appropriate names, let's create a [data dictionary](http://library.ucmerced.edu/node/10249). \n",
    "\n",
    "A data dictionary provides a quick overview of features/variables/columns, alongside data types and descriptions. The more descriptive you can be, the more useful this document is.\n",
    "\n",
    "Example of a Fictional Data Dictionary Entry: \n",
    "\n",
    "|Feature|Type|Dataset|Description|\n",
    "|---|---|---|---|\n",
    "|**county_pop**|*integer*|2010 census|The population of the county (units in thousands, where 2.5 represents 2500 people).| \n",
    "|**per_poverty**|*float*|2010 census|The percent of the county over the age of 18 living below the 200% of official US poverty rate (units percent to two decimal places 98.10 means 98.1%)|\n",
    "\n",
    "[Here's a quick link to a short guide for formatting markdown in Jupyter notebooks](https://jupyter-notebook.readthedocs.io/en/stable/examples/Notebook/Working%20With%20Markdown%20Cells.html).\n",
    "\n",
    "Provided is the skeleton for formatting a markdown table, with columns headers that will help you create a data dictionary to quickly summarize your data, as well as some examples. **This would be a great thing to copy and paste into your custom README for this project.**\n",
    "\n",
    "*Note*: if you are unsure of what a feature is, check the source of the data! This can be found in the README."
   ]
  },
  {
   "cell_type": "markdown",
   "metadata": {},
   "source": [
    "**To-Do:** *Edit the table below to create your own data dictionary for the datasets you chose.*\n",
    "\n",
    "|Feature|Type|Dataset|Description|\n",
    "|---|---|---|---|\n",
    "|year|int|sat_scores and education|The year represents the year the SAT was completed.| \n",
    "|state|object|sat_scores| The state represents the state the SAT data was collected in.| \n",
    "|participation|float|sat_scores| The average participation rate of SAT test participants by year.| \n",
    "|total|int|sat_scores and education|The SAT Total average score by year.| \n",
    "|erw|int|sat_scores and education|The SAT Evidence-Based Reading and Writing average score by year.| \n",
    "|math|int|sat_scores and education|The SAT Math average score by year.| \n",
    "|parental_education|object|education|The highest level of parental education achieved.|\n",
    "|p_edu|int|education|Indicates level of parental education by integers. 0: No High School Diploma or No Response, 1: High School Diploma, 2: Associate Degree, 3: Bachelors Degree, 4: Graduate Degree |\n",
    "|number_of_test_takers|int|education|The number of test participants grouped by parental education achieved.|\n",
    "|percentage_of_test_takers|float|education|The percentage of test participants grouped by parental education achieved.|\n"
   ]
  },
  {
   "cell_type": "markdown",
   "metadata": {},
   "source": [
    "## Exploratory Data Analysis\n",
    "\n",
    "Complete the following steps to explore your data. You are welcome to do more EDA than the steps outlined here as you feel necessary:\n",
    "1. Summary Statistics.\n",
    "2. Use a **dictionary comprehension** to apply the standard deviation function you create in part 1 to each numeric column in the dataframe.  **No loops**.\n",
    "    - Assign the output to variable `sd` as a dictionary where: \n",
    "        - Each column name is now a key \n",
    "        - That standard deviation of the column is the value \n",
    "        - *Example Output :* `{'ACT_Math': 120, 'ACT_Reading': 120, ...}`\n",
    "3. Investigate trends in the data.\n",
    "    - Using sorting and/or masking (along with the `.head()` method to avoid printing our entire dataframe), consider questions relevant to your problem statement. Some examples are provided below (but feel free to change these questions for your specific problem):\n",
    "        - Which states have the highest and lowest participation rates for the 2017, 2019, or 2019 SAT and ACT?\n",
    "        - Which states have the highest and lowest mean total/composite scores for the 2017, 2019, or 2019 SAT and ACT?\n",
    "        - Do any states with 100% participation on a given test have a rate change year-to-year?\n",
    "        - Do any states show have >50% participation on *both* tests each year?\n",
    "        - Which colleges have the highest median SAT and ACT scores for admittance?\n",
    "        - Which California school districts have the highest and lowest mean test scores?\n",
    "    - **You should comment on your findings at each step in a markdown cell below your code block**. Make sure you include at least one example of sorting your dataframe by a column, and one example of using boolean filtering (i.e., masking) to select a subset of the dataframe."
   ]
  },
  {
   "cell_type": "markdown",
   "metadata": {},
   "source": [
    "#### 1. Summary Statistics"
   ]
  },
  {
   "cell_type": "code",
   "execution_count": 60,
   "metadata": {},
   "outputs": [
    {
     "data": {
      "text/html": [
       "<div>\n",
       "<style scoped>\n",
       "    .dataframe tbody tr th:only-of-type {\n",
       "        vertical-align: middle;\n",
       "    }\n",
       "\n",
       "    .dataframe tbody tr th {\n",
       "        vertical-align: top;\n",
       "    }\n",
       "\n",
       "    .dataframe thead th {\n",
       "        text-align: right;\n",
       "    }\n",
       "</style>\n",
       "<table border=\"1\" class=\"dataframe\">\n",
       "  <thead>\n",
       "    <tr style=\"text-align: right;\">\n",
       "      <th></th>\n",
       "      <th>year</th>\n",
       "      <th>number_of_test_takers</th>\n",
       "      <th>percentage_of_test_takers</th>\n",
       "      <th>total</th>\n",
       "      <th>erw</th>\n",
       "      <th>math</th>\n",
       "      <th>p_edu</th>\n",
       "    </tr>\n",
       "  </thead>\n",
       "  <tbody>\n",
       "    <tr>\n",
       "      <th>count</th>\n",
       "      <td>24.00000</td>\n",
       "      <td>24.000000</td>\n",
       "      <td>24.000000</td>\n",
       "      <td>24.000000</td>\n",
       "      <td>24.000000</td>\n",
       "      <td>24.000000</td>\n",
       "      <td>24.000000</td>\n",
       "    </tr>\n",
       "    <tr>\n",
       "      <th>mean</th>\n",
       "      <td>2018.50000</td>\n",
       "      <td>344606.958333</td>\n",
       "      <td>0.167083</td>\n",
       "      <td>1028.250000</td>\n",
       "      <td>516.333333</td>\n",
       "      <td>511.958333</td>\n",
       "      <td>1.666667</td>\n",
       "    </tr>\n",
       "    <tr>\n",
       "      <th>std</th>\n",
       "      <td>1.14208</td>\n",
       "      <td>192757.181517</td>\n",
       "      <td>0.091389</td>\n",
       "      <td>102.736577</td>\n",
       "      <td>51.459285</td>\n",
       "      <td>51.389797</td>\n",
       "      <td>1.522774</td>\n",
       "    </tr>\n",
       "    <tr>\n",
       "      <th>min</th>\n",
       "      <td>2017.00000</td>\n",
       "      <td>134451.000000</td>\n",
       "      <td>0.070000</td>\n",
       "      <td>883.000000</td>\n",
       "      <td>443.000000</td>\n",
       "      <td>440.000000</td>\n",
       "      <td>0.000000</td>\n",
       "    </tr>\n",
       "    <tr>\n",
       "      <th>25%</th>\n",
       "      <td>2017.75000</td>\n",
       "      <td>168791.750000</td>\n",
       "      <td>0.080000</td>\n",
       "      <td>939.500000</td>\n",
       "      <td>470.000000</td>\n",
       "      <td>468.750000</td>\n",
       "      <td>0.000000</td>\n",
       "    </tr>\n",
       "    <tr>\n",
       "      <th>50%</th>\n",
       "      <td>2018.50000</td>\n",
       "      <td>269153.500000</td>\n",
       "      <td>0.145000</td>\n",
       "      <td>1012.000000</td>\n",
       "      <td>511.500000</td>\n",
       "      <td>500.000000</td>\n",
       "      <td>1.500000</td>\n",
       "    </tr>\n",
       "    <tr>\n",
       "      <th>75%</th>\n",
       "      <td>2019.25000</td>\n",
       "      <td>505798.500000</td>\n",
       "      <td>0.270000</td>\n",
       "      <td>1118.750000</td>\n",
       "      <td>561.250000</td>\n",
       "      <td>557.000000</td>\n",
       "      <td>3.000000</td>\n",
       "    </tr>\n",
       "    <tr>\n",
       "      <th>max</th>\n",
       "      <td>2020.00000</td>\n",
       "      <td>625091.000000</td>\n",
       "      <td>0.280000</td>\n",
       "      <td>1197.000000</td>\n",
       "      <td>599.000000</td>\n",
       "      <td>598.000000</td>\n",
       "      <td>4.000000</td>\n",
       "    </tr>\n",
       "  </tbody>\n",
       "</table>\n",
       "</div>"
      ],
      "text/plain": [
       "             year  number_of_test_takers  percentage_of_test_takers  \\\n",
       "count    24.00000              24.000000                  24.000000   \n",
       "mean   2018.50000          344606.958333                   0.167083   \n",
       "std       1.14208          192757.181517                   0.091389   \n",
       "min    2017.00000          134451.000000                   0.070000   \n",
       "25%    2017.75000          168791.750000                   0.080000   \n",
       "50%    2018.50000          269153.500000                   0.145000   \n",
       "75%    2019.25000          505798.500000                   0.270000   \n",
       "max    2020.00000          625091.000000                   0.280000   \n",
       "\n",
       "             total         erw        math      p_edu  \n",
       "count    24.000000   24.000000   24.000000  24.000000  \n",
       "mean   1028.250000  516.333333  511.958333   1.666667  \n",
       "std     102.736577   51.459285   51.389797   1.522774  \n",
       "min     883.000000  443.000000  440.000000   0.000000  \n",
       "25%     939.500000  470.000000  468.750000   0.000000  \n",
       "50%    1012.000000  511.500000  500.000000   1.500000  \n",
       "75%    1118.750000  561.250000  557.000000   3.000000  \n",
       "max    1197.000000  599.000000  598.000000   4.000000  "
      ]
     },
     "execution_count": 60,
     "metadata": {},
     "output_type": "execute_result"
    }
   ],
   "source": [
    "education.describe()"
   ]
  },
  {
   "cell_type": "markdown",
   "metadata": {},
   "source": [
    "**Education summary statistic call outs:**\n",
    "\n",
    "<table>\n",
    "  <thead>\n",
    "    <tr>\n",
    "      <th>Total Score</th>\n",
    "      <th>ERW Score</th>\n",
    "      <th>Math Score</th>\n",
    "    </tr>\n",
    "  </thead>\n",
    "  <tbody>\n",
    "    <tr>\n",
    "      <td>mean = 1028.25</td>\n",
    "      <td>mean = 516.33</td>\n",
    "      <td>mean = 511.95</td>\n",
    "    </tr>\n",
    "    <tr>\n",
    "      <td>median = 1012 </td>\n",
    "      <td>median = 511.50</td>\n",
    "      <td>median = 500</td>  \n",
    "    </tr>\n",
    "    <tr>\n",
    "       <td>standard deviation = 102.73 </td>\n",
    "       <td>standard deviation = 51.45</td>\n",
    "       <td>standard deviation = 51.38</td>\n",
    "    </tr>  \n",
    "  </tbody>\n",
    "</table>\n",
    "\n"
   ]
  },
  {
   "cell_type": "code",
   "execution_count": 61,
   "metadata": {},
   "outputs": [
    {
     "data": {
      "text/html": [
       "<div>\n",
       "<style scoped>\n",
       "    .dataframe tbody tr th:only-of-type {\n",
       "        vertical-align: middle;\n",
       "    }\n",
       "\n",
       "    .dataframe tbody tr th {\n",
       "        vertical-align: top;\n",
       "    }\n",
       "\n",
       "    .dataframe thead th {\n",
       "        text-align: right;\n",
       "    }\n",
       "</style>\n",
       "<table border=\"1\" class=\"dataframe\">\n",
       "  <thead>\n",
       "    <tr style=\"text-align: right;\">\n",
       "      <th></th>\n",
       "      <th>year</th>\n",
       "      <th>participation</th>\n",
       "      <th>total</th>\n",
       "      <th>erw</th>\n",
       "      <th>math</th>\n",
       "    </tr>\n",
       "  </thead>\n",
       "  <tbody>\n",
       "    <tr>\n",
       "      <th>count</th>\n",
       "      <td>153.000000</td>\n",
       "      <td>153.000000</td>\n",
       "      <td>153.000000</td>\n",
       "      <td>153.000000</td>\n",
       "      <td>153.000000</td>\n",
       "    </tr>\n",
       "    <tr>\n",
       "      <th>mean</th>\n",
       "      <td>2018.000000</td>\n",
       "      <td>0.448693</td>\n",
       "      <td>1119.732026</td>\n",
       "      <td>564.535948</td>\n",
       "      <td>552.019608</td>\n",
       "    </tr>\n",
       "    <tr>\n",
       "      <th>std</th>\n",
       "      <td>0.819178</td>\n",
       "      <td>0.370944</td>\n",
       "      <td>94.162654</td>\n",
       "      <td>46.301362</td>\n",
       "      <td>63.246434</td>\n",
       "    </tr>\n",
       "    <tr>\n",
       "      <th>min</th>\n",
       "      <td>2017.000000</td>\n",
       "      <td>0.020000</td>\n",
       "      <td>943.000000</td>\n",
       "      <td>480.000000</td>\n",
       "      <td>52.000000</td>\n",
       "    </tr>\n",
       "    <tr>\n",
       "      <th>25%</th>\n",
       "      <td>2017.000000</td>\n",
       "      <td>0.040000</td>\n",
       "      <td>1053.000000</td>\n",
       "      <td>531.000000</td>\n",
       "      <td>521.000000</td>\n",
       "    </tr>\n",
       "    <tr>\n",
       "      <th>50%</th>\n",
       "      <td>2018.000000</td>\n",
       "      <td>0.500000</td>\n",
       "      <td>1099.000000</td>\n",
       "      <td>554.000000</td>\n",
       "      <td>546.000000</td>\n",
       "    </tr>\n",
       "    <tr>\n",
       "      <th>75%</th>\n",
       "      <td>2019.000000</td>\n",
       "      <td>0.760000</td>\n",
       "      <td>1210.000000</td>\n",
       "      <td>614.000000</td>\n",
       "      <td>596.000000</td>\n",
       "    </tr>\n",
       "    <tr>\n",
       "      <th>max</th>\n",
       "      <td>2019.000000</td>\n",
       "      <td>1.000000</td>\n",
       "      <td>1298.000000</td>\n",
       "      <td>644.000000</td>\n",
       "      <td>655.000000</td>\n",
       "    </tr>\n",
       "  </tbody>\n",
       "</table>\n",
       "</div>"
      ],
      "text/plain": [
       "              year  participation        total         erw        math\n",
       "count   153.000000     153.000000   153.000000  153.000000  153.000000\n",
       "mean   2018.000000       0.448693  1119.732026  564.535948  552.019608\n",
       "std       0.819178       0.370944    94.162654   46.301362   63.246434\n",
       "min    2017.000000       0.020000   943.000000  480.000000   52.000000\n",
       "25%    2017.000000       0.040000  1053.000000  531.000000  521.000000\n",
       "50%    2018.000000       0.500000  1099.000000  554.000000  546.000000\n",
       "75%    2019.000000       0.760000  1210.000000  614.000000  596.000000\n",
       "max    2019.000000       1.000000  1298.000000  644.000000  655.000000"
      ]
     },
     "execution_count": 61,
     "metadata": {},
     "output_type": "execute_result"
    }
   ],
   "source": [
    "sat_scores.describe()"
   ]
  },
  {
   "cell_type": "markdown",
   "metadata": {},
   "source": [
    "**sat_score summary statistic call outs:**\n",
    "\n",
    "<table>\n",
    "  <thead>\n",
    "    <tr>\n",
    "      <th>Total Score</th>\n",
    "      <th>ERW Score</th>\n",
    "      <th>Math Score</th>\n",
    "    </tr>\n",
    "  </thead>\n",
    "  <tbody>\n",
    "    <tr>\n",
    "      <td>mean = 1119.73</td>\n",
    "      <td>mean = 564.53</td>\n",
    "      <td>mean = 552.01</td>\n",
    "    </tr>\n",
    "    <tr>\n",
    "      <td>median = 1099</td>\n",
    "      <td>median = 554</td>\n",
    "      <td>median = 546</td>  \n",
    "    </tr>\n",
    "    <tr>\n",
    "       <td>standard deviation = 94.16</td>\n",
    "       <td>standard deviation = 46.30</td>\n",
    "       <td>standard deviation = 63.24</td>\n",
    "    </tr>  \n",
    "  </tbody>\n",
    "</table>\n"
   ]
  },
  {
   "cell_type": "markdown",
   "metadata": {},
   "source": [
    "#### 2. Standard Deviations"
   ]
  },
  {
   "cell_type": "code",
   "execution_count": 62,
   "metadata": {},
   "outputs": [
    {
     "data": {
      "text/plain": [
       "{'participation': 0.3697299717899723,\n",
       " 'total': 93.85442813319182,\n",
       " 'erw': 46.14980241905189,\n",
       " 'math': 63.03940780015245}"
      ]
     },
     "execution_count": 62,
     "metadata": {},
     "output_type": "execute_result"
    }
   ],
   "source": [
    "# Using dictionary comprehension to calculate standard deviations for sat_scores dataframe\n",
    "\n",
    "sd_scores = {k : calc_sd(v) for k,v in sat_scores.items() if k != 'state' and k !='year'}\n",
    "sd_scores"
   ]
  },
  {
   "cell_type": "markdown",
   "metadata": {},
   "source": [
    "Participation Rate has a low standard deviation, so its data points are closer to the mean. Total, ERW, and Math Scores have higher standard deviations, meaning the data points are more dispersed. "
   ]
  },
  {
   "cell_type": "code",
   "execution_count": 63,
   "metadata": {},
   "outputs": [
    {
     "data": {
      "text/plain": [
       "{'number_of_test_takers': 188698.68105979596,\n",
       " 'percentage_of_test_takers': 0.08946503817444867,\n",
       " 'total': 100.57345988546548,\n",
       " 'erw': 50.375809891476905,\n",
       " 'math': 50.30778532085157,\n",
       " 'p_edu': 1.4907119849998596}"
      ]
     },
     "execution_count": 63,
     "metadata": {},
     "output_type": "execute_result"
    }
   ],
   "source": [
    "# Using dictionary comprehension to calculate standard deviations for education dataframe\n",
    "sd_edu = {k : calc_sd(v) for k,v in education.items() if k != 'parental_education' and k !='year'}\n",
    "sd_edu"
   ]
  },
  {
   "cell_type": "markdown",
   "metadata": {},
   "source": [
    "Percentage of test takers has a low standard deviation, so its data points are closer to the mean. Total, ERW, and Math Scores have higher standard deviations, meaning the data points are more dispersed. "
   ]
  },
  {
   "cell_type": "code",
   "execution_count": 64,
   "metadata": {
    "tags": []
   },
   "outputs": [
    {
     "data": {
      "text/html": [
       "<div>\n",
       "<style scoped>\n",
       "    .dataframe tbody tr th:only-of-type {\n",
       "        vertical-align: middle;\n",
       "    }\n",
       "\n",
       "    .dataframe tbody tr th {\n",
       "        vertical-align: top;\n",
       "    }\n",
       "\n",
       "    .dataframe thead th {\n",
       "        text-align: right;\n",
       "    }\n",
       "</style>\n",
       "<table border=\"1\" class=\"dataframe\">\n",
       "  <thead>\n",
       "    <tr style=\"text-align: right;\">\n",
       "      <th></th>\n",
       "      <th>parental_education</th>\n",
       "      <th>number_of_test_takers</th>\n",
       "      <th>percentage_of_test_takers</th>\n",
       "      <th>total</th>\n",
       "      <th>erw</th>\n",
       "      <th>math</th>\n",
       "      <th>p_edu</th>\n",
       "    </tr>\n",
       "    <tr>\n",
       "      <th>year</th>\n",
       "      <th></th>\n",
       "      <th></th>\n",
       "      <th></th>\n",
       "      <th></th>\n",
       "      <th></th>\n",
       "      <th></th>\n",
       "      <th></th>\n",
       "    </tr>\n",
       "  </thead>\n",
       "  <tbody>\n",
       "    <tr>\n",
       "      <th>2017</th>\n",
       "      <td>No High School Diploma</td>\n",
       "      <td>137437</td>\n",
       "      <td>0.08</td>\n",
       "      <td>944</td>\n",
       "      <td>472</td>\n",
       "      <td>472</td>\n",
       "      <td>0</td>\n",
       "    </tr>\n",
       "    <tr>\n",
       "      <th>2017</th>\n",
       "      <td>High School Diploma</td>\n",
       "      <td>482194</td>\n",
       "      <td>0.28</td>\n",
       "      <td>1003</td>\n",
       "      <td>507</td>\n",
       "      <td>497</td>\n",
       "      <td>1</td>\n",
       "    </tr>\n",
       "    <tr>\n",
       "      <th>2017</th>\n",
       "      <td>Associate Degree</td>\n",
       "      <td>134451</td>\n",
       "      <td>0.08</td>\n",
       "      <td>1036</td>\n",
       "      <td>525</td>\n",
       "      <td>511</td>\n",
       "      <td>2</td>\n",
       "    </tr>\n",
       "    <tr>\n",
       "      <th>2017</th>\n",
       "      <td>Bachelors Degree</td>\n",
       "      <td>473103</td>\n",
       "      <td>0.28</td>\n",
       "      <td>1118</td>\n",
       "      <td>562</td>\n",
       "      <td>556</td>\n",
       "      <td>3</td>\n",
       "    </tr>\n",
       "    <tr>\n",
       "      <th>2017</th>\n",
       "      <td>Graduate Degree</td>\n",
       "      <td>339743</td>\n",
       "      <td>0.20</td>\n",
       "      <td>1177</td>\n",
       "      <td>591</td>\n",
       "      <td>586</td>\n",
       "      <td>4</td>\n",
       "    </tr>\n",
       "    <tr>\n",
       "      <th>2017</th>\n",
       "      <td>No Response</td>\n",
       "      <td>148553</td>\n",
       "      <td>0.09</td>\n",
       "      <td>914</td>\n",
       "      <td>455</td>\n",
       "      <td>460</td>\n",
       "      <td>0</td>\n",
       "    </tr>\n",
       "    <tr>\n",
       "      <th>2018</th>\n",
       "      <td>No High School Diploma</td>\n",
       "      <td>172575</td>\n",
       "      <td>0.08</td>\n",
       "      <td>944</td>\n",
       "      <td>473</td>\n",
       "      <td>471</td>\n",
       "      <td>0</td>\n",
       "    </tr>\n",
       "    <tr>\n",
       "      <th>2018</th>\n",
       "      <td>High School Diploma</td>\n",
       "      <td>576612</td>\n",
       "      <td>0.27</td>\n",
       "      <td>1005</td>\n",
       "      <td>507</td>\n",
       "      <td>497</td>\n",
       "      <td>1</td>\n",
       "    </tr>\n",
       "    <tr>\n",
       "      <th>2018</th>\n",
       "      <td>Associate Degree</td>\n",
       "      <td>158228</td>\n",
       "      <td>0.07</td>\n",
       "      <td>1039</td>\n",
       "      <td>526</td>\n",
       "      <td>513</td>\n",
       "      <td>2</td>\n",
       "    </tr>\n",
       "    <tr>\n",
       "      <th>2018</th>\n",
       "      <td>Bachelors Degree</td>\n",
       "      <td>588211</td>\n",
       "      <td>0.28</td>\n",
       "      <td>1129</td>\n",
       "      <td>566</td>\n",
       "      <td>563</td>\n",
       "      <td>3</td>\n",
       "    </tr>\n",
       "    <tr>\n",
       "      <th>2018</th>\n",
       "      <td>Graduate Degree</td>\n",
       "      <td>442830</td>\n",
       "      <td>0.21</td>\n",
       "      <td>1197</td>\n",
       "      <td>599</td>\n",
       "      <td>598</td>\n",
       "      <td>4</td>\n",
       "    </tr>\n",
       "    <tr>\n",
       "      <th>2018</th>\n",
       "      <td>No Response</td>\n",
       "      <td>198083</td>\n",
       "      <td>0.09</td>\n",
       "      <td>911</td>\n",
       "      <td>454</td>\n",
       "      <td>457</td>\n",
       "      <td>0</td>\n",
       "    </tr>\n",
       "    <tr>\n",
       "      <th>2019</th>\n",
       "      <td>No High School Diploma</td>\n",
       "      <td>198564</td>\n",
       "      <td>0.09</td>\n",
       "      <td>926</td>\n",
       "      <td>464</td>\n",
       "      <td>462</td>\n",
       "      <td>0</td>\n",
       "    </tr>\n",
       "    <tr>\n",
       "      <th>2019</th>\n",
       "      <td>High School Diploma</td>\n",
       "      <td>608174</td>\n",
       "      <td>0.27</td>\n",
       "      <td>989</td>\n",
       "      <td>500</td>\n",
       "      <td>490</td>\n",
       "      <td>1</td>\n",
       "    </tr>\n",
       "    <tr>\n",
       "      <th>2019</th>\n",
       "      <td>Associate Degree</td>\n",
       "      <td>159521</td>\n",
       "      <td>0.07</td>\n",
       "      <td>1027</td>\n",
       "      <td>519</td>\n",
       "      <td>508</td>\n",
       "      <td>2</td>\n",
       "    </tr>\n",
       "    <tr>\n",
       "      <th>2019</th>\n",
       "      <td>Bachelors Degree</td>\n",
       "      <td>620711</td>\n",
       "      <td>0.28</td>\n",
       "      <td>1121</td>\n",
       "      <td>561</td>\n",
       "      <td>560</td>\n",
       "      <td>3</td>\n",
       "    </tr>\n",
       "    <tr>\n",
       "      <th>2019</th>\n",
       "      <td>Graduate Degree</td>\n",
       "      <td>461235</td>\n",
       "      <td>0.21</td>\n",
       "      <td>1194</td>\n",
       "      <td>596</td>\n",
       "      <td>598</td>\n",
       "      <td>4</td>\n",
       "    </tr>\n",
       "    <tr>\n",
       "      <th>2019</th>\n",
       "      <td>No Response</td>\n",
       "      <td>171882</td>\n",
       "      <td>0.08</td>\n",
       "      <td>902</td>\n",
       "      <td>450</td>\n",
       "      <td>452</td>\n",
       "      <td>0</td>\n",
       "    </tr>\n",
       "    <tr>\n",
       "      <th>2020</th>\n",
       "      <td>No High School Diploma</td>\n",
       "      <td>198122</td>\n",
       "      <td>0.09</td>\n",
       "      <td>919</td>\n",
       "      <td>461</td>\n",
       "      <td>458</td>\n",
       "      <td>0</td>\n",
       "    </tr>\n",
       "    <tr>\n",
       "      <th>2020</th>\n",
       "      <td>High School Diploma</td>\n",
       "      <td>588120</td>\n",
       "      <td>0.27</td>\n",
       "      <td>981</td>\n",
       "      <td>495</td>\n",
       "      <td>485</td>\n",
       "      <td>1</td>\n",
       "    </tr>\n",
       "    <tr>\n",
       "      <th>2020</th>\n",
       "      <td>Associate Degree</td>\n",
       "      <td>149371</td>\n",
       "      <td>0.07</td>\n",
       "      <td>1019</td>\n",
       "      <td>516</td>\n",
       "      <td>503</td>\n",
       "      <td>2</td>\n",
       "    </tr>\n",
       "    <tr>\n",
       "      <th>2020</th>\n",
       "      <td>Bachelors Degree</td>\n",
       "      <td>625091</td>\n",
       "      <td>0.28</td>\n",
       "      <td>1114</td>\n",
       "      <td>558</td>\n",
       "      <td>556</td>\n",
       "      <td>3</td>\n",
       "    </tr>\n",
       "    <tr>\n",
       "      <th>2020</th>\n",
       "      <td>Graduate Degree</td>\n",
       "      <td>462711</td>\n",
       "      <td>0.21</td>\n",
       "      <td>1186</td>\n",
       "      <td>592</td>\n",
       "      <td>594</td>\n",
       "      <td>4</td>\n",
       "    </tr>\n",
       "    <tr>\n",
       "      <th>2020</th>\n",
       "      <td>No Response</td>\n",
       "      <td>175045</td>\n",
       "      <td>0.08</td>\n",
       "      <td>883</td>\n",
       "      <td>443</td>\n",
       "      <td>440</td>\n",
       "      <td>0</td>\n",
       "    </tr>\n",
       "  </tbody>\n",
       "</table>\n",
       "</div>"
      ],
      "text/plain": [
       "          parental_education  number_of_test_takers  \\\n",
       "year                                                  \n",
       "2017  No High School Diploma                 137437   \n",
       "2017     High School Diploma                 482194   \n",
       "2017        Associate Degree                 134451   \n",
       "2017        Bachelors Degree                 473103   \n",
       "2017         Graduate Degree                 339743   \n",
       "2017             No Response                 148553   \n",
       "2018  No High School Diploma                 172575   \n",
       "2018     High School Diploma                 576612   \n",
       "2018        Associate Degree                 158228   \n",
       "2018        Bachelors Degree                 588211   \n",
       "2018         Graduate Degree                 442830   \n",
       "2018             No Response                 198083   \n",
       "2019  No High School Diploma                 198564   \n",
       "2019     High School Diploma                 608174   \n",
       "2019        Associate Degree                 159521   \n",
       "2019        Bachelors Degree                 620711   \n",
       "2019         Graduate Degree                 461235   \n",
       "2019             No Response                 171882   \n",
       "2020  No High School Diploma                 198122   \n",
       "2020     High School Diploma                 588120   \n",
       "2020        Associate Degree                 149371   \n",
       "2020        Bachelors Degree                 625091   \n",
       "2020         Graduate Degree                 462711   \n",
       "2020             No Response                 175045   \n",
       "\n",
       "      percentage_of_test_takers  total  erw  math  p_edu  \n",
       "year                                                      \n",
       "2017                       0.08    944  472   472      0  \n",
       "2017                       0.28   1003  507   497      1  \n",
       "2017                       0.08   1036  525   511      2  \n",
       "2017                       0.28   1118  562   556      3  \n",
       "2017                       0.20   1177  591   586      4  \n",
       "2017                       0.09    914  455   460      0  \n",
       "2018                       0.08    944  473   471      0  \n",
       "2018                       0.27   1005  507   497      1  \n",
       "2018                       0.07   1039  526   513      2  \n",
       "2018                       0.28   1129  566   563      3  \n",
       "2018                       0.21   1197  599   598      4  \n",
       "2018                       0.09    911  454   457      0  \n",
       "2019                       0.09    926  464   462      0  \n",
       "2019                       0.27    989  500   490      1  \n",
       "2019                       0.07   1027  519   508      2  \n",
       "2019                       0.28   1121  561   560      3  \n",
       "2019                       0.21   1194  596   598      4  \n",
       "2019                       0.08    902  450   452      0  \n",
       "2020                       0.09    919  461   458      0  \n",
       "2020                       0.27    981  495   485      1  \n",
       "2020                       0.07   1019  516   503      2  \n",
       "2020                       0.28   1114  558   556      3  \n",
       "2020                       0.21   1186  592   594      4  \n",
       "2020                       0.08    883  443   440      0  "
      ]
     },
     "execution_count": 64,
     "metadata": {},
     "output_type": "execute_result"
    }
   ],
   "source": [
    "# Indexing the year - may use later\n",
    "edu_test_takers = education.set_index('year')\n",
    "edu_test_takers"
   ]
  },
  {
   "cell_type": "code",
   "execution_count": 65,
   "metadata": {
    "tags": []
   },
   "outputs": [
    {
     "data": {
      "text/html": [
       "<div>\n",
       "<style scoped>\n",
       "    .dataframe tbody tr th:only-of-type {\n",
       "        vertical-align: middle;\n",
       "    }\n",
       "\n",
       "    .dataframe tbody tr th {\n",
       "        vertical-align: top;\n",
       "    }\n",
       "\n",
       "    .dataframe thead th {\n",
       "        text-align: right;\n",
       "    }\n",
       "</style>\n",
       "<table border=\"1\" class=\"dataframe\">\n",
       "  <thead>\n",
       "    <tr style=\"text-align: right;\">\n",
       "      <th></th>\n",
       "      <th></th>\n",
       "      <th>total</th>\n",
       "    </tr>\n",
       "    <tr>\n",
       "      <th>year</th>\n",
       "      <th>parental_education</th>\n",
       "      <th></th>\n",
       "    </tr>\n",
       "  </thead>\n",
       "  <tbody>\n",
       "    <tr>\n",
       "      <th>2018</th>\n",
       "      <th>Graduate Degree</th>\n",
       "      <td>1197</td>\n",
       "    </tr>\n",
       "    <tr>\n",
       "      <th>2019</th>\n",
       "      <th>Graduate Degree</th>\n",
       "      <td>1194</td>\n",
       "    </tr>\n",
       "    <tr>\n",
       "      <th>2020</th>\n",
       "      <th>Graduate Degree</th>\n",
       "      <td>1186</td>\n",
       "    </tr>\n",
       "    <tr>\n",
       "      <th>2017</th>\n",
       "      <th>Graduate Degree</th>\n",
       "      <td>1177</td>\n",
       "    </tr>\n",
       "    <tr>\n",
       "      <th>2018</th>\n",
       "      <th>Bachelors Degree</th>\n",
       "      <td>1129</td>\n",
       "    </tr>\n",
       "    <tr>\n",
       "      <th>2019</th>\n",
       "      <th>Bachelors Degree</th>\n",
       "      <td>1121</td>\n",
       "    </tr>\n",
       "    <tr>\n",
       "      <th>2017</th>\n",
       "      <th>Bachelors Degree</th>\n",
       "      <td>1118</td>\n",
       "    </tr>\n",
       "    <tr>\n",
       "      <th>2020</th>\n",
       "      <th>Bachelors Degree</th>\n",
       "      <td>1114</td>\n",
       "    </tr>\n",
       "    <tr>\n",
       "      <th>2018</th>\n",
       "      <th>Associate Degree</th>\n",
       "      <td>1039</td>\n",
       "    </tr>\n",
       "    <tr>\n",
       "      <th>2017</th>\n",
       "      <th>Associate Degree</th>\n",
       "      <td>1036</td>\n",
       "    </tr>\n",
       "    <tr>\n",
       "      <th>2019</th>\n",
       "      <th>Associate Degree</th>\n",
       "      <td>1027</td>\n",
       "    </tr>\n",
       "    <tr>\n",
       "      <th>2020</th>\n",
       "      <th>Associate Degree</th>\n",
       "      <td>1019</td>\n",
       "    </tr>\n",
       "    <tr>\n",
       "      <th>2018</th>\n",
       "      <th>High School Diploma</th>\n",
       "      <td>1005</td>\n",
       "    </tr>\n",
       "    <tr>\n",
       "      <th>2017</th>\n",
       "      <th>High School Diploma</th>\n",
       "      <td>1003</td>\n",
       "    </tr>\n",
       "    <tr>\n",
       "      <th>2019</th>\n",
       "      <th>High School Diploma</th>\n",
       "      <td>989</td>\n",
       "    </tr>\n",
       "    <tr>\n",
       "      <th>2020</th>\n",
       "      <th>High School Diploma</th>\n",
       "      <td>981</td>\n",
       "    </tr>\n",
       "    <tr>\n",
       "      <th>2018</th>\n",
       "      <th>No High School Diploma</th>\n",
       "      <td>944</td>\n",
       "    </tr>\n",
       "    <tr>\n",
       "      <th>2017</th>\n",
       "      <th>No High School Diploma</th>\n",
       "      <td>944</td>\n",
       "    </tr>\n",
       "    <tr>\n",
       "      <th>2019</th>\n",
       "      <th>No High School Diploma</th>\n",
       "      <td>926</td>\n",
       "    </tr>\n",
       "    <tr>\n",
       "      <th>2020</th>\n",
       "      <th>No High School Diploma</th>\n",
       "      <td>919</td>\n",
       "    </tr>\n",
       "    <tr>\n",
       "      <th>2017</th>\n",
       "      <th>No Response</th>\n",
       "      <td>914</td>\n",
       "    </tr>\n",
       "    <tr>\n",
       "      <th>2018</th>\n",
       "      <th>No Response</th>\n",
       "      <td>911</td>\n",
       "    </tr>\n",
       "    <tr>\n",
       "      <th>2019</th>\n",
       "      <th>No Response</th>\n",
       "      <td>902</td>\n",
       "    </tr>\n",
       "    <tr>\n",
       "      <th>2020</th>\n",
       "      <th>No Response</th>\n",
       "      <td>883</td>\n",
       "    </tr>\n",
       "  </tbody>\n",
       "</table>\n",
       "</div>"
      ],
      "text/plain": [
       "                             total\n",
       "year parental_education           \n",
       "2018 Graduate Degree          1197\n",
       "2019 Graduate Degree          1194\n",
       "2020 Graduate Degree          1186\n",
       "2017 Graduate Degree          1177\n",
       "2018 Bachelors Degree         1129\n",
       "2019 Bachelors Degree         1121\n",
       "2017 Bachelors Degree         1118\n",
       "2020 Bachelors Degree         1114\n",
       "2018 Associate Degree         1039\n",
       "2017 Associate Degree         1036\n",
       "2019 Associate Degree         1027\n",
       "2020 Associate Degree         1019\n",
       "2018 High School Diploma      1005\n",
       "2017 High School Diploma      1003\n",
       "2019 High School Diploma       989\n",
       "2020 High School Diploma       981\n",
       "2018 No High School Diploma    944\n",
       "2017 No High School Diploma    944\n",
       "2019 No High School Diploma    926\n",
       "2020 No High School Diploma    919\n",
       "2017 No Response               914\n",
       "2018 No Response               911\n",
       "2019 No Response               902\n",
       "2020 No Response               883"
      ]
     },
     "execution_count": 65,
     "metadata": {},
     "output_type": "execute_result"
    }
   ],
   "source": [
    "# Year and Parental Education sorted by Total Mean Score\n",
    "\n",
    "total_mean_score = education.groupby(['year','parental_education'])[['total']].mean().sort_values(by = 'total', ascending = False)\n",
    "total_mean_score"
   ]
  },
  {
   "cell_type": "markdown",
   "metadata": {},
   "source": [
    "2018 and 2019 total score averages were higher than 2020 avg. scores, regardless of the level of parental education"
   ]
  },
  {
   "cell_type": "code",
   "execution_count": 66,
   "metadata": {
    "tags": []
   },
   "outputs": [
    {
     "data": {
      "text/html": [
       "<div>\n",
       "<style scoped>\n",
       "    .dataframe tbody tr th:only-of-type {\n",
       "        vertical-align: middle;\n",
       "    }\n",
       "\n",
       "    .dataframe tbody tr th {\n",
       "        vertical-align: top;\n",
       "    }\n",
       "\n",
       "    .dataframe thead th {\n",
       "        text-align: right;\n",
       "    }\n",
       "</style>\n",
       "<table border=\"1\" class=\"dataframe\">\n",
       "  <thead>\n",
       "    <tr style=\"text-align: right;\">\n",
       "      <th></th>\n",
       "      <th></th>\n",
       "      <th>erw</th>\n",
       "    </tr>\n",
       "    <tr>\n",
       "      <th>year</th>\n",
       "      <th>parental_education</th>\n",
       "      <th></th>\n",
       "    </tr>\n",
       "  </thead>\n",
       "  <tbody>\n",
       "    <tr>\n",
       "      <th>2018</th>\n",
       "      <th>Graduate Degree</th>\n",
       "      <td>599</td>\n",
       "    </tr>\n",
       "    <tr>\n",
       "      <th>2019</th>\n",
       "      <th>Graduate Degree</th>\n",
       "      <td>596</td>\n",
       "    </tr>\n",
       "    <tr>\n",
       "      <th>2020</th>\n",
       "      <th>Graduate Degree</th>\n",
       "      <td>592</td>\n",
       "    </tr>\n",
       "    <tr>\n",
       "      <th>2017</th>\n",
       "      <th>Graduate Degree</th>\n",
       "      <td>591</td>\n",
       "    </tr>\n",
       "    <tr>\n",
       "      <th>2018</th>\n",
       "      <th>Bachelors Degree</th>\n",
       "      <td>566</td>\n",
       "    </tr>\n",
       "    <tr>\n",
       "      <th>2017</th>\n",
       "      <th>Bachelors Degree</th>\n",
       "      <td>562</td>\n",
       "    </tr>\n",
       "    <tr>\n",
       "      <th>2019</th>\n",
       "      <th>Bachelors Degree</th>\n",
       "      <td>561</td>\n",
       "    </tr>\n",
       "    <tr>\n",
       "      <th>2020</th>\n",
       "      <th>Bachelors Degree</th>\n",
       "      <td>558</td>\n",
       "    </tr>\n",
       "    <tr>\n",
       "      <th>2018</th>\n",
       "      <th>Associate Degree</th>\n",
       "      <td>526</td>\n",
       "    </tr>\n",
       "    <tr>\n",
       "      <th>2017</th>\n",
       "      <th>Associate Degree</th>\n",
       "      <td>525</td>\n",
       "    </tr>\n",
       "    <tr>\n",
       "      <th>2019</th>\n",
       "      <th>Associate Degree</th>\n",
       "      <td>519</td>\n",
       "    </tr>\n",
       "    <tr>\n",
       "      <th>2020</th>\n",
       "      <th>Associate Degree</th>\n",
       "      <td>516</td>\n",
       "    </tr>\n",
       "    <tr>\n",
       "      <th>2018</th>\n",
       "      <th>High School Diploma</th>\n",
       "      <td>507</td>\n",
       "    </tr>\n",
       "    <tr>\n",
       "      <th>2017</th>\n",
       "      <th>High School Diploma</th>\n",
       "      <td>507</td>\n",
       "    </tr>\n",
       "    <tr>\n",
       "      <th>2019</th>\n",
       "      <th>High School Diploma</th>\n",
       "      <td>500</td>\n",
       "    </tr>\n",
       "    <tr>\n",
       "      <th>2020</th>\n",
       "      <th>High School Diploma</th>\n",
       "      <td>495</td>\n",
       "    </tr>\n",
       "    <tr>\n",
       "      <th>2018</th>\n",
       "      <th>No High School Diploma</th>\n",
       "      <td>473</td>\n",
       "    </tr>\n",
       "    <tr>\n",
       "      <th>2017</th>\n",
       "      <th>No High School Diploma</th>\n",
       "      <td>472</td>\n",
       "    </tr>\n",
       "    <tr>\n",
       "      <th>2019</th>\n",
       "      <th>No High School Diploma</th>\n",
       "      <td>464</td>\n",
       "    </tr>\n",
       "    <tr>\n",
       "      <th>2020</th>\n",
       "      <th>No High School Diploma</th>\n",
       "      <td>461</td>\n",
       "    </tr>\n",
       "    <tr>\n",
       "      <th>2017</th>\n",
       "      <th>No Response</th>\n",
       "      <td>455</td>\n",
       "    </tr>\n",
       "    <tr>\n",
       "      <th>2018</th>\n",
       "      <th>No Response</th>\n",
       "      <td>454</td>\n",
       "    </tr>\n",
       "    <tr>\n",
       "      <th>2019</th>\n",
       "      <th>No Response</th>\n",
       "      <td>450</td>\n",
       "    </tr>\n",
       "    <tr>\n",
       "      <th>2020</th>\n",
       "      <th>No Response</th>\n",
       "      <td>443</td>\n",
       "    </tr>\n",
       "  </tbody>\n",
       "</table>\n",
       "</div>"
      ],
      "text/plain": [
       "                             erw\n",
       "year parental_education         \n",
       "2018 Graduate Degree         599\n",
       "2019 Graduate Degree         596\n",
       "2020 Graduate Degree         592\n",
       "2017 Graduate Degree         591\n",
       "2018 Bachelors Degree        566\n",
       "2017 Bachelors Degree        562\n",
       "2019 Bachelors Degree        561\n",
       "2020 Bachelors Degree        558\n",
       "2018 Associate Degree        526\n",
       "2017 Associate Degree        525\n",
       "2019 Associate Degree        519\n",
       "2020 Associate Degree        516\n",
       "2018 High School Diploma     507\n",
       "2017 High School Diploma     507\n",
       "2019 High School Diploma     500\n",
       "2020 High School Diploma     495\n",
       "2018 No High School Diploma  473\n",
       "2017 No High School Diploma  472\n",
       "2019 No High School Diploma  464\n",
       "2020 No High School Diploma  461\n",
       "2017 No Response             455\n",
       "2018 No Response             454\n",
       "2019 No Response             450\n",
       "2020 No Response             443"
      ]
     },
     "execution_count": 66,
     "metadata": {},
     "output_type": "execute_result"
    }
   ],
   "source": [
    "# Year and Parental Education sorted by ERW Mean Score\n",
    "\n",
    "education.groupby(['year','parental_education'])[['erw']].mean().sort_values(by = 'erw', ascending = False)"
   ]
  },
  {
   "cell_type": "markdown",
   "metadata": {},
   "source": [
    "2018 and 2019 erw score averages were higher than 2020 avg. scores, regardless of the level of parental education"
   ]
  },
  {
   "cell_type": "code",
   "execution_count": 67,
   "metadata": {
    "tags": []
   },
   "outputs": [
    {
     "data": {
      "text/html": [
       "<div>\n",
       "<style scoped>\n",
       "    .dataframe tbody tr th:only-of-type {\n",
       "        vertical-align: middle;\n",
       "    }\n",
       "\n",
       "    .dataframe tbody tr th {\n",
       "        vertical-align: top;\n",
       "    }\n",
       "\n",
       "    .dataframe thead th {\n",
       "        text-align: right;\n",
       "    }\n",
       "</style>\n",
       "<table border=\"1\" class=\"dataframe\">\n",
       "  <thead>\n",
       "    <tr style=\"text-align: right;\">\n",
       "      <th></th>\n",
       "      <th></th>\n",
       "      <th>math</th>\n",
       "    </tr>\n",
       "    <tr>\n",
       "      <th>year</th>\n",
       "      <th>parental_education</th>\n",
       "      <th></th>\n",
       "    </tr>\n",
       "  </thead>\n",
       "  <tbody>\n",
       "    <tr>\n",
       "      <th>2019</th>\n",
       "      <th>Graduate Degree</th>\n",
       "      <td>598</td>\n",
       "    </tr>\n",
       "    <tr>\n",
       "      <th>2018</th>\n",
       "      <th>Graduate Degree</th>\n",
       "      <td>598</td>\n",
       "    </tr>\n",
       "    <tr>\n",
       "      <th>2020</th>\n",
       "      <th>Graduate Degree</th>\n",
       "      <td>594</td>\n",
       "    </tr>\n",
       "    <tr>\n",
       "      <th>2017</th>\n",
       "      <th>Graduate Degree</th>\n",
       "      <td>586</td>\n",
       "    </tr>\n",
       "    <tr>\n",
       "      <th>2018</th>\n",
       "      <th>Bachelors Degree</th>\n",
       "      <td>563</td>\n",
       "    </tr>\n",
       "    <tr>\n",
       "      <th>2019</th>\n",
       "      <th>Bachelors Degree</th>\n",
       "      <td>560</td>\n",
       "    </tr>\n",
       "    <tr>\n",
       "      <th>2017</th>\n",
       "      <th>Bachelors Degree</th>\n",
       "      <td>556</td>\n",
       "    </tr>\n",
       "    <tr>\n",
       "      <th>2020</th>\n",
       "      <th>Bachelors Degree</th>\n",
       "      <td>556</td>\n",
       "    </tr>\n",
       "    <tr>\n",
       "      <th>2018</th>\n",
       "      <th>Associate Degree</th>\n",
       "      <td>513</td>\n",
       "    </tr>\n",
       "    <tr>\n",
       "      <th>2017</th>\n",
       "      <th>Associate Degree</th>\n",
       "      <td>511</td>\n",
       "    </tr>\n",
       "    <tr>\n",
       "      <th>2019</th>\n",
       "      <th>Associate Degree</th>\n",
       "      <td>508</td>\n",
       "    </tr>\n",
       "    <tr>\n",
       "      <th>2020</th>\n",
       "      <th>Associate Degree</th>\n",
       "      <td>503</td>\n",
       "    </tr>\n",
       "    <tr>\n",
       "      <th>2018</th>\n",
       "      <th>High School Diploma</th>\n",
       "      <td>497</td>\n",
       "    </tr>\n",
       "    <tr>\n",
       "      <th>2017</th>\n",
       "      <th>High School Diploma</th>\n",
       "      <td>497</td>\n",
       "    </tr>\n",
       "    <tr>\n",
       "      <th>2019</th>\n",
       "      <th>High School Diploma</th>\n",
       "      <td>490</td>\n",
       "    </tr>\n",
       "    <tr>\n",
       "      <th>2020</th>\n",
       "      <th>High School Diploma</th>\n",
       "      <td>485</td>\n",
       "    </tr>\n",
       "    <tr>\n",
       "      <th>2017</th>\n",
       "      <th>No High School Diploma</th>\n",
       "      <td>472</td>\n",
       "    </tr>\n",
       "    <tr>\n",
       "      <th>2018</th>\n",
       "      <th>No High School Diploma</th>\n",
       "      <td>471</td>\n",
       "    </tr>\n",
       "    <tr>\n",
       "      <th>2019</th>\n",
       "      <th>No High School Diploma</th>\n",
       "      <td>462</td>\n",
       "    </tr>\n",
       "    <tr>\n",
       "      <th>2017</th>\n",
       "      <th>No Response</th>\n",
       "      <td>460</td>\n",
       "    </tr>\n",
       "    <tr>\n",
       "      <th>2020</th>\n",
       "      <th>No High School Diploma</th>\n",
       "      <td>458</td>\n",
       "    </tr>\n",
       "    <tr>\n",
       "      <th>2018</th>\n",
       "      <th>No Response</th>\n",
       "      <td>457</td>\n",
       "    </tr>\n",
       "    <tr>\n",
       "      <th>2019</th>\n",
       "      <th>No Response</th>\n",
       "      <td>452</td>\n",
       "    </tr>\n",
       "    <tr>\n",
       "      <th>2020</th>\n",
       "      <th>No Response</th>\n",
       "      <td>440</td>\n",
       "    </tr>\n",
       "  </tbody>\n",
       "</table>\n",
       "</div>"
      ],
      "text/plain": [
       "                             math\n",
       "year parental_education          \n",
       "2019 Graduate Degree          598\n",
       "2018 Graduate Degree          598\n",
       "2020 Graduate Degree          594\n",
       "2017 Graduate Degree          586\n",
       "2018 Bachelors Degree         563\n",
       "2019 Bachelors Degree         560\n",
       "2017 Bachelors Degree         556\n",
       "2020 Bachelors Degree         556\n",
       "2018 Associate Degree         513\n",
       "2017 Associate Degree         511\n",
       "2019 Associate Degree         508\n",
       "2020 Associate Degree         503\n",
       "2018 High School Diploma      497\n",
       "2017 High School Diploma      497\n",
       "2019 High School Diploma      490\n",
       "2020 High School Diploma      485\n",
       "2017 No High School Diploma   472\n",
       "2018 No High School Diploma   471\n",
       "2019 No High School Diploma   462\n",
       "2017 No Response              460\n",
       "2020 No High School Diploma   458\n",
       "2018 No Response              457\n",
       "2019 No Response              452\n",
       "2020 No Response              440"
      ]
     },
     "execution_count": 67,
     "metadata": {},
     "output_type": "execute_result"
    }
   ],
   "source": [
    "# Year and Parental Education sorted by Math Mean Score\n",
    "\n",
    "education.groupby(['year','parental_education'])[['math']].mean().sort_values(by = 'math', ascending = False)"
   ]
  },
  {
   "cell_type": "markdown",
   "metadata": {},
   "source": [
    "2018 and 2019 math score averages were higher than 2020 avg. scores, regardless of the level of parental education"
   ]
  },
  {
   "cell_type": "code",
   "execution_count": 68,
   "metadata": {
    "tags": []
   },
   "outputs": [
    {
     "data": {
      "text/html": [
       "<div>\n",
       "<style scoped>\n",
       "    .dataframe tbody tr th:only-of-type {\n",
       "        vertical-align: middle;\n",
       "    }\n",
       "\n",
       "    .dataframe tbody tr th {\n",
       "        vertical-align: top;\n",
       "    }\n",
       "\n",
       "    .dataframe thead th {\n",
       "        text-align: right;\n",
       "    }\n",
       "</style>\n",
       "<table border=\"1\" class=\"dataframe\">\n",
       "  <thead>\n",
       "    <tr style=\"text-align: right;\">\n",
       "      <th></th>\n",
       "      <th>total</th>\n",
       "    </tr>\n",
       "    <tr>\n",
       "      <th>year</th>\n",
       "      <th></th>\n",
       "    </tr>\n",
       "  </thead>\n",
       "  <tbody>\n",
       "    <tr>\n",
       "      <th>2017</th>\n",
       "      <td>1126.098039</td>\n",
       "    </tr>\n",
       "    <tr>\n",
       "      <th>2018</th>\n",
       "      <td>1120.019608</td>\n",
       "    </tr>\n",
       "    <tr>\n",
       "      <th>2019</th>\n",
       "      <td>1113.078431</td>\n",
       "    </tr>\n",
       "  </tbody>\n",
       "</table>\n",
       "</div>"
      ],
      "text/plain": [
       "            total\n",
       "year             \n",
       "2017  1126.098039\n",
       "2018  1120.019608\n",
       "2019  1113.078431"
      ]
     },
     "execution_count": 68,
     "metadata": {},
     "output_type": "execute_result"
    }
   ],
   "source": [
    "# Year sorted by Avg. SAT Score\n",
    "\n",
    "total_avg = sat_scores.groupby(['year'])[['total']].mean().sort_values(by = 'total', ascending = False)\n",
    "total_avg"
   ]
  },
  {
   "cell_type": "markdown",
   "metadata": {},
   "source": [
    "Avg total score was highest in 2017"
   ]
  },
  {
   "cell_type": "code",
   "execution_count": 69,
   "metadata": {
    "tags": []
   },
   "outputs": [
    {
     "data": {
      "text/html": [
       "<div>\n",
       "<style scoped>\n",
       "    .dataframe tbody tr th:only-of-type {\n",
       "        vertical-align: middle;\n",
       "    }\n",
       "\n",
       "    .dataframe tbody tr th {\n",
       "        vertical-align: top;\n",
       "    }\n",
       "\n",
       "    .dataframe thead th {\n",
       "        text-align: right;\n",
       "    }\n",
       "</style>\n",
       "<table border=\"1\" class=\"dataframe\">\n",
       "  <thead>\n",
       "    <tr style=\"text-align: right;\">\n",
       "      <th></th>\n",
       "      <th>erw</th>\n",
       "    </tr>\n",
       "    <tr>\n",
       "      <th>year</th>\n",
       "      <th></th>\n",
       "    </tr>\n",
       "  </thead>\n",
       "  <tbody>\n",
       "    <tr>\n",
       "      <th>2017</th>\n",
       "      <td>569.117647</td>\n",
       "    </tr>\n",
       "    <tr>\n",
       "      <th>2018</th>\n",
       "      <td>563.686275</td>\n",
       "    </tr>\n",
       "    <tr>\n",
       "      <th>2019</th>\n",
       "      <td>560.803922</td>\n",
       "    </tr>\n",
       "  </tbody>\n",
       "</table>\n",
       "</div>"
      ],
      "text/plain": [
       "             erw\n",
       "year            \n",
       "2017  569.117647\n",
       "2018  563.686275\n",
       "2019  560.803922"
      ]
     },
     "execution_count": 69,
     "metadata": {},
     "output_type": "execute_result"
    }
   ],
   "source": [
    "# Year sorted by Avg. ERW SAT Score\n",
    "\n",
    "erw_avg = sat_scores.groupby(['year'])[['erw']].mean().sort_values(by = 'erw', ascending = False)\n",
    "erw_avg"
   ]
  },
  {
   "cell_type": "markdown",
   "metadata": {},
   "source": [
    "Avg ERW score was highest in 2017"
   ]
  },
  {
   "cell_type": "code",
   "execution_count": 70,
   "metadata": {
    "tags": []
   },
   "outputs": [
    {
     "data": {
      "text/html": [
       "<div>\n",
       "<style scoped>\n",
       "    .dataframe tbody tr th:only-of-type {\n",
       "        vertical-align: middle;\n",
       "    }\n",
       "\n",
       "    .dataframe tbody tr th {\n",
       "        vertical-align: top;\n",
       "    }\n",
       "\n",
       "    .dataframe thead th {\n",
       "        text-align: right;\n",
       "    }\n",
       "</style>\n",
       "<table border=\"1\" class=\"dataframe\">\n",
       "  <thead>\n",
       "    <tr style=\"text-align: right;\">\n",
       "      <th></th>\n",
       "      <th>math</th>\n",
       "    </tr>\n",
       "    <tr>\n",
       "      <th>year</th>\n",
       "      <th></th>\n",
       "    </tr>\n",
       "  </thead>\n",
       "  <tbody>\n",
       "    <tr>\n",
       "      <th>2018</th>\n",
       "      <td>556.235294</td>\n",
       "    </tr>\n",
       "    <tr>\n",
       "      <th>2019</th>\n",
       "      <td>552.196078</td>\n",
       "    </tr>\n",
       "    <tr>\n",
       "      <th>2017</th>\n",
       "      <td>547.627451</td>\n",
       "    </tr>\n",
       "  </tbody>\n",
       "</table>\n",
       "</div>"
      ],
      "text/plain": [
       "            math\n",
       "year            \n",
       "2018  556.235294\n",
       "2019  552.196078\n",
       "2017  547.627451"
      ]
     },
     "execution_count": 70,
     "metadata": {},
     "output_type": "execute_result"
    }
   ],
   "source": [
    "# Year sorted by Avg. Math Score\n",
    "\n",
    "math_avg = sat_scores.groupby(['year'])[['math']].mean().sort_values(by = 'math', ascending = False)\n",
    "math_avg"
   ]
  },
  {
   "cell_type": "markdown",
   "metadata": {},
   "source": [
    "Avg math score was highest in 2018"
   ]
  },
  {
   "cell_type": "code",
   "execution_count": 71,
   "metadata": {
    "tags": []
   },
   "outputs": [
    {
     "data": {
      "text/html": [
       "<div>\n",
       "<style scoped>\n",
       "    .dataframe tbody tr th:only-of-type {\n",
       "        vertical-align: middle;\n",
       "    }\n",
       "\n",
       "    .dataframe tbody tr th {\n",
       "        vertical-align: top;\n",
       "    }\n",
       "\n",
       "    .dataframe thead th {\n",
       "        text-align: right;\n",
       "    }\n",
       "</style>\n",
       "<table border=\"1\" class=\"dataframe\">\n",
       "  <thead>\n",
       "    <tr style=\"text-align: right;\">\n",
       "      <th></th>\n",
       "      <th>total</th>\n",
       "      <th>erw</th>\n",
       "      <th>math</th>\n",
       "      <th>year</th>\n",
       "    </tr>\n",
       "    <tr>\n",
       "      <th>year</th>\n",
       "      <th></th>\n",
       "      <th></th>\n",
       "      <th></th>\n",
       "      <th></th>\n",
       "    </tr>\n",
       "  </thead>\n",
       "  <tbody>\n",
       "    <tr>\n",
       "      <th>2017</th>\n",
       "      <td>1126.098039</td>\n",
       "      <td>569.117647</td>\n",
       "      <td>547.627451</td>\n",
       "      <td>2017</td>\n",
       "    </tr>\n",
       "    <tr>\n",
       "      <th>2018</th>\n",
       "      <td>1120.019608</td>\n",
       "      <td>563.686275</td>\n",
       "      <td>556.235294</td>\n",
       "      <td>2018</td>\n",
       "    </tr>\n",
       "    <tr>\n",
       "      <th>2019</th>\n",
       "      <td>1113.078431</td>\n",
       "      <td>560.803922</td>\n",
       "      <td>552.196078</td>\n",
       "      <td>2019</td>\n",
       "    </tr>\n",
       "  </tbody>\n",
       "</table>\n",
       "</div>"
      ],
      "text/plain": [
       "            total         erw        math  year\n",
       "year                                           \n",
       "2017  1126.098039  569.117647  547.627451  2017\n",
       "2018  1120.019608  563.686275  556.235294  2018\n",
       "2019  1113.078431  560.803922  552.196078  2019"
      ]
     },
     "execution_count": 71,
     "metadata": {},
     "output_type": "execute_result"
    }
   ],
   "source": [
    "# Score Avg. DataFrame\n",
    "\n",
    "score_avg = pd.merge(total_avg,erw_avg, how = 'left', left_index = True, right_index = True)\n",
    "score_avg = pd.merge(score_avg, math_avg, how = 'left', left_index = True, right_index = True)\n",
    "score_avg['year'] = [2017,2018,2019]\n",
    "score_avg"
   ]
  },
  {
   "cell_type": "code",
   "execution_count": 72,
   "metadata": {},
   "outputs": [
    {
     "data": {
      "text/html": [
       "<div>\n",
       "<style scoped>\n",
       "    .dataframe tbody tr th:only-of-type {\n",
       "        vertical-align: middle;\n",
       "    }\n",
       "\n",
       "    .dataframe tbody tr th {\n",
       "        vertical-align: top;\n",
       "    }\n",
       "\n",
       "    .dataframe thead th {\n",
       "        text-align: right;\n",
       "    }\n",
       "</style>\n",
       "<table border=\"1\" class=\"dataframe\">\n",
       "  <thead>\n",
       "    <tr style=\"text-align: right;\">\n",
       "      <th>parental_education</th>\n",
       "      <th>Associate Degree</th>\n",
       "      <th>Bachelors Degree</th>\n",
       "      <th>Graduate Degree</th>\n",
       "      <th>High School Diploma</th>\n",
       "      <th>No High School Diploma</th>\n",
       "      <th>No Response</th>\n",
       "    </tr>\n",
       "    <tr>\n",
       "      <th>year</th>\n",
       "      <th></th>\n",
       "      <th></th>\n",
       "      <th></th>\n",
       "      <th></th>\n",
       "      <th></th>\n",
       "      <th></th>\n",
       "    </tr>\n",
       "  </thead>\n",
       "  <tbody>\n",
       "    <tr>\n",
       "      <th>2017</th>\n",
       "      <td>NaN</td>\n",
       "      <td>NaN</td>\n",
       "      <td>NaN</td>\n",
       "      <td>NaN</td>\n",
       "      <td>NaN</td>\n",
       "      <td>NaN</td>\n",
       "    </tr>\n",
       "    <tr>\n",
       "      <th>2018</th>\n",
       "      <td>0.002896</td>\n",
       "      <td>0.009839</td>\n",
       "      <td>0.016992</td>\n",
       "      <td>0.001994</td>\n",
       "      <td>0.000000</td>\n",
       "      <td>-0.003282</td>\n",
       "    </tr>\n",
       "    <tr>\n",
       "      <th>2019</th>\n",
       "      <td>-0.011550</td>\n",
       "      <td>-0.007086</td>\n",
       "      <td>-0.002506</td>\n",
       "      <td>-0.015920</td>\n",
       "      <td>-0.019068</td>\n",
       "      <td>-0.009879</td>\n",
       "    </tr>\n",
       "    <tr>\n",
       "      <th>2020</th>\n",
       "      <td>-0.007790</td>\n",
       "      <td>-0.006244</td>\n",
       "      <td>-0.006700</td>\n",
       "      <td>-0.008089</td>\n",
       "      <td>-0.007559</td>\n",
       "      <td>-0.021064</td>\n",
       "    </tr>\n",
       "  </tbody>\n",
       "</table>\n",
       "</div>"
      ],
      "text/plain": [
       "parental_education  Associate Degree  Bachelors Degree  Graduate Degree  \\\n",
       "year                                                                      \n",
       "2017                             NaN               NaN              NaN   \n",
       "2018                        0.002896          0.009839         0.016992   \n",
       "2019                       -0.011550         -0.007086        -0.002506   \n",
       "2020                       -0.007790         -0.006244        -0.006700   \n",
       "\n",
       "parental_education  High School Diploma  No High School Diploma  No Response  \n",
       "year                                                                          \n",
       "2017                                NaN                     NaN          NaN  \n",
       "2018                           0.001994                0.000000    -0.003282  \n",
       "2019                          -0.015920               -0.019068    -0.009879  \n",
       "2020                          -0.008089               -0.007559    -0.021064  "
      ]
     },
     "execution_count": 72,
     "metadata": {},
     "output_type": "execute_result"
    }
   ],
   "source": [
    "# Creating pivot to see percent change year over year for total avg. score by parental education\n",
    "\n",
    "edu_year = education.pivot(index = 'year', columns = 'parental_education', values = 'total')\n",
    "edu_pct_change = edu_year.pct_change()\n",
    "edu_pct_change"
   ]
  },
  {
   "cell_type": "markdown",
   "metadata": {},
   "source": [
    "All total avg. scores increased from 2017 to 2018, except for no response which decreased by .3%. All total avg. scores decreased from 2018 to 2019, regardless of parental education levels. "
   ]
  },
  {
   "cell_type": "code",
   "execution_count": 73,
   "metadata": {},
   "outputs": [
    {
     "data": {
      "text/html": [
       "<div>\n",
       "<style scoped>\n",
       "    .dataframe tbody tr th:only-of-type {\n",
       "        vertical-align: middle;\n",
       "    }\n",
       "\n",
       "    .dataframe tbody tr th {\n",
       "        vertical-align: top;\n",
       "    }\n",
       "\n",
       "    .dataframe thead th {\n",
       "        text-align: right;\n",
       "    }\n",
       "</style>\n",
       "<table border=\"1\" class=\"dataframe\">\n",
       "  <thead>\n",
       "    <tr style=\"text-align: right;\">\n",
       "      <th>parental_education</th>\n",
       "      <th>Associate Degree</th>\n",
       "      <th>Bachelors Degree</th>\n",
       "      <th>Graduate Degree</th>\n",
       "      <th>High School Diploma</th>\n",
       "      <th>No High School Diploma</th>\n",
       "      <th>No Response</th>\n",
       "    </tr>\n",
       "    <tr>\n",
       "      <th>year</th>\n",
       "      <th></th>\n",
       "      <th></th>\n",
       "      <th></th>\n",
       "      <th></th>\n",
       "      <th></th>\n",
       "      <th></th>\n",
       "    </tr>\n",
       "  </thead>\n",
       "  <tbody>\n",
       "    <tr>\n",
       "      <th>2017</th>\n",
       "      <td>NaN</td>\n",
       "      <td>NaN</td>\n",
       "      <td>NaN</td>\n",
       "      <td>NaN</td>\n",
       "      <td>NaN</td>\n",
       "      <td>NaN</td>\n",
       "    </tr>\n",
       "    <tr>\n",
       "      <th>2018</th>\n",
       "      <td>0.176845</td>\n",
       "      <td>0.243304</td>\n",
       "      <td>0.303426</td>\n",
       "      <td>0.195809</td>\n",
       "      <td>0.255666</td>\n",
       "      <td>0.333416</td>\n",
       "    </tr>\n",
       "    <tr>\n",
       "      <th>2019</th>\n",
       "      <td>0.008172</td>\n",
       "      <td>0.055252</td>\n",
       "      <td>0.041562</td>\n",
       "      <td>0.054737</td>\n",
       "      <td>0.150595</td>\n",
       "      <td>-0.132273</td>\n",
       "    </tr>\n",
       "    <tr>\n",
       "      <th>2020</th>\n",
       "      <td>-0.063628</td>\n",
       "      <td>0.007056</td>\n",
       "      <td>0.003200</td>\n",
       "      <td>-0.032974</td>\n",
       "      <td>-0.002226</td>\n",
       "      <td>0.018402</td>\n",
       "    </tr>\n",
       "  </tbody>\n",
       "</table>\n",
       "</div>"
      ],
      "text/plain": [
       "parental_education  Associate Degree  Bachelors Degree  Graduate Degree  \\\n",
       "year                                                                      \n",
       "2017                             NaN               NaN              NaN   \n",
       "2018                        0.176845          0.243304         0.303426   \n",
       "2019                        0.008172          0.055252         0.041562   \n",
       "2020                       -0.063628          0.007056         0.003200   \n",
       "\n",
       "parental_education  High School Diploma  No High School Diploma  No Response  \n",
       "year                                                                          \n",
       "2017                                NaN                     NaN          NaN  \n",
       "2018                           0.195809                0.255666     0.333416  \n",
       "2019                           0.054737                0.150595    -0.132273  \n",
       "2020                          -0.032974               -0.002226     0.018402  "
      ]
     },
     "execution_count": 73,
     "metadata": {},
     "output_type": "execute_result"
    }
   ],
   "source": [
    "# Creating pivot to see percent change year over year for number of test takers by parental education.\n",
    "\n",
    "edu_tt = education.pivot(index = 'year', columns = 'parental_education', values = 'number_of_test_takers')\n",
    "edu_tt_pct_change = edu_tt.pct_change()\n",
    "edu_tt_pct_change"
   ]
  },
  {
   "cell_type": "markdown",
   "metadata": {},
   "source": [
    "The number of SAT test takers increased from 2017 to 2018 in all levels of parental education. From 2018 to 2019, the number of test takers increased in all levels of parental education, except for no response, which decreased by ~13%. The number of test takers decreased from 2019 to 2020 for parental education levels: Associate Degree, High School Diploma, and No High School Diploma. The number of test takers increased from 2019 to 2020 for parental education levels: Bachelors Degree, Graduate Degree, and No Response."
   ]
  },
  {
   "cell_type": "markdown",
   "metadata": {},
   "source": [
    "**Initial Findings:**\n",
    "- Student SAT scores and parental education levels are closely related\n",
    "- All total avg. scores increased from 2017 to 2018, except for no response which decreased by .3%. All total avg. scores decreased from 2018 to 2019, regardless of parental education levels. \n",
    "- The number of SAT test takers increased from 2017 to 2018 in all levels of parental education. From 2018 to 2019, the number of test takers increased in all levels of parental education, except for no response, which decreased by ~13%. The number of test takers decreased from 2019 to 2020 for parental education levels: Associate Degree, High School Diploma, and No High School Diploma. The number of test takers increased from 2019 to 2020 for parental education levels: Bachelors Degree, Graduate Degree, and No Response."
   ]
  },
  {
   "cell_type": "markdown",
   "metadata": {
    "tags": []
   },
   "source": [
    "## Visualize the Data\n",
    "\n",
    "There's not a magic bullet recommendation for the right number of plots to understand a given dataset, but visualizing your data is *always* a good idea. Not only does it allow you to quickly convey your findings (even if you have a non-technical audience), it will often reveal trends in your data that escaped you when you were looking only at numbers. It is important to not only create visualizations, but to **interpret your visualizations** as well.\n",
    "\n",
    "**Every plot should**:\n",
    "- Have a title\n",
    "- Have axis labels\n",
    "- Have appropriate tick labels\n",
    "- Text is legible in a plot\n",
    "- Plots demonstrate meaningful and valid relationships\n",
    "- Have an interpretation to aid understanding\n",
    "\n",
    "Here is an example of what your plots should look like following the above guidelines. Note that while the content of this example is unrelated, the principles of visualization hold:\n",
    "\n",
    "![](https://snag.gy/hCBR1U.jpg)\n",
    "*Interpretation: The above image shows that as we increase our spending on advertising, our sales numbers also tend to increase. There is a positive correlation between advertising spending and sales.*\n",
    "\n",
    "---\n",
    "\n",
    "Here are some prompts to get you started with visualizations. Feel free to add additional visualizations as you see fit:\n",
    "1. Use Seaborn's heatmap with pandas `.corr()` to visualize correlations between all numeric features.\n",
    "    - Heatmaps are generally not appropriate for presentations, and should often be excluded from reports as they can be visually overwhelming. **However**, they can be extremely useful in identify relationships of potential interest (as well as identifying potential collinearity before modeling).\n",
    "    - Please take time to format your output, adding a title. Look through some of the additional arguments and options. (Axis labels aren't really necessary, as long as the title is informative).\n",
    "2. Visualize distributions using histograms. If you have a lot, consider writing a custom function and use subplots.\n",
    "    - *OPTIONAL*: Summarize the underlying distributions of your features (in words & statistics)\n",
    "         - Be thorough in your verbal description of these distributions.\n",
    "         - Be sure to back up these summaries with statistics.\n",
    "         - We generally assume that data we sample from a population will be normally distributed. Do we observe this trend? Explain your answers for each distribution and how you think this will affect estimates made from these data.\n",
    "3. Plot and interpret boxplots. \n",
    "    - Boxplots demonstrate central tendency and spread in variables. In a certain sense, these are somewhat redundant with histograms, but you may be better able to identify clear outliers or differences in IQR, etc.\n",
    "    - Multiple values can be plotted to a single boxplot as long as they are of the same relative scale (meaning they have similar min/max values).\n",
    "    - Each boxplot should:\n",
    "        - Only include variables of a similar scale\n",
    "        - Have clear labels for each variable\n",
    "        - Have appropriate titles and labels\n",
    "4. Plot and interpret scatter plots to view relationships between features. Feel free to write a custom function, and subplot if you'd like. Functions save both time and space.\n",
    "    - Your plots should have:\n",
    "        - Two clearly labeled axes\n",
    "        - A proper title\n",
    "        - Colors and symbols that are clear and unmistakable\n",
    "5. Additional plots of your choosing.\n",
    "    - Are there any additional trends or relationships you haven't explored? Was there something interesting you saw that you'd like to dive further into? It's likely that there are a few more plots you might want to generate to support your narrative and recommendations that you are building toward. **As always, make sure you're interpreting your plots as you go**."
   ]
  },
  {
   "cell_type": "code",
   "execution_count": 74,
   "metadata": {},
   "outputs": [
    {
     "data": {
      "image/png": "[encoded data removed]",
      "text/plain": [
       "<Figure size 1152x648 with 2 Axes>"
      ]
     },
     "metadata": {
      "needs_background": "light"
     },
     "output_type": "display_data"
    }
   ],
   "source": [
    "# Creating education corrleation heatmap to view the linear relationship between variables\n",
    "\n",
    "# Establishing figure size\n",
    "plt.figure(figsize = (16,9))\n",
    "\n",
    "edu_corr = education.corr()\n",
    "\n",
    "# Creating an array of zeros for easier understanding\n",
    "\n",
    "edu_mask = np.zeros_like(edu_corr)\n",
    "\n",
    "# Blocking out half of the matrix above, so we don't get the same values twice since they are mirrored.\n",
    "\n",
    "edu_mask[np.tril_indices_from(edu_mask)] = True\n",
    "\n",
    "sns.heatmap(edu_corr,cmap = 'mako', annot = True, mask = edu_mask, linecolor = 'white', linewidth = 0.1, square = True, vmin = -1, vmax = 1)\n",
    "\n",
    "plt.title('Correlation of Education Dataframe', fontsize = 15);\n",
    "\n",
    "plt.savefig('/Users/jenz/Desktop/GA/submissions/projects/project_1-master/images/corr_edu.png')"
   ]
  },
  {
   "cell_type": "markdown",
   "metadata": {},
   "source": [
    "Interpretation: The above heatmap shows that parental education is strongly correlated with total, erw, and math scores."
   ]
  },
  {
   "cell_type": "code",
   "execution_count": 75,
   "metadata": {},
   "outputs": [],
   "source": [
    "# Creating new dataframe for parental education & number of studends\n",
    "\n",
    "edu_pivot = education.pivot(index = 'parental_education', columns = 'year', values = 'number_of_test_takers')\n",
    "edu_pivot.sort_index(level = ['No Response', 'No High School Diploma', 'High School Diploma', 'Associate Degree', 'Bachelors Degree', 'Graduate Degree'], inplace = True)"
   ]
  },
  {
   "cell_type": "code",
   "execution_count": 76,
   "metadata": {},
   "outputs": [],
   "source": [
    "# Creating new dataframe for parental education & total scores\n",
    "\n",
    "edu_test_pivot = education.pivot(index = 'year', columns = 'parental_education' , values = 'total')"
   ]
  },
  {
   "cell_type": "code",
   "execution_count": 77,
   "metadata": {},
   "outputs": [
    {
     "data": {
      "image/png": "[encoded data removed]",
      "text/plain": [
       "<Figure size 1152x648 with 2 Axes>"
      ]
     },
     "metadata": {
      "needs_background": "light"
     },
     "output_type": "display_data"
    }
   ],
   "source": [
    "# Creating education corrleation heatmap to view the linear relationship between parental education levels and total scores\n",
    "\n",
    "plt.figure(figsize = (16,9))\n",
    "\n",
    "# Creating correlation variable\n",
    "\n",
    "edu_test_corr = edu_test_pivot.corr()\n",
    "\n",
    "# Creating an array of zeros for easier understanding\n",
    "\n",
    "edu_test_mask = np.zeros_like(edu_test_corr)\n",
    "\n",
    "# Blocking out half of the matrix above, so we don't get the same values twice since they are mirrored.\n",
    "\n",
    "edu_test_mask[np.tril_indices_from(edu_test_mask)] = True\n",
    "\n",
    "# Creating heatmap\n",
    "\n",
    "sns.heatmap(edu_test_corr,cmap = 'mako', annot = True, mask = edu_test_mask, linecolor = 'white', linewidth = 0.1, square = True, vmin = -1, vmax = 1)\n",
    "\n",
    "plt.title('Correlation of Parental Education and Total Score', fontsize = 20, pad = 10);\n",
    "\n",
    "plt.savefig('/Users/jenz/Desktop/GA/submissions/projects/project_1-master/images/corr_total_score.png')"
   ]
  },
  {
   "cell_type": "markdown",
   "metadata": {},
   "source": [
    "Interpretation: Students with parental education = Associate Degree have closely related scores to students with parental education = High School Diploma or lower. Students with parental education = Graduate Degree have negatively correlated scores to students with a parental education of high school or lower. "
   ]
  },
  {
   "cell_type": "code",
   "execution_count": 78,
   "metadata": {},
   "outputs": [],
   "source": [
    "# Creating lists of all test values under the education dataseries to use in histograms\n",
    "\n",
    "total_scores_edu = [v  for v in education['total']]\n",
    "math_scores_edu = [v  for v in education['math']]\n",
    "erw_score_edu = [v  for v in education['erw']]"
   ]
  },
  {
   "cell_type": "code",
   "execution_count": 79,
   "metadata": {},
   "outputs": [],
   "source": [
    "# Calling calc_mean function to calculate mean\n",
    "\n",
    "total_score_mean = calc_mean(total_scores_edu)   "
   ]
  },
  {
   "cell_type": "code",
   "execution_count": 80,
   "metadata": {},
   "outputs": [],
   "source": [
    "# Calling calc_mean function to calculate mean\n",
    "\n",
    "erw_score_mean = calc_mean(erw_score_edu)"
   ]
  },
  {
   "cell_type": "code",
   "execution_count": 81,
   "metadata": {},
   "outputs": [],
   "source": [
    "# Calling calc_mean function to calculate mean\n",
    "\n",
    "math_score_mean = calc_mean(math_scores_edu)"
   ]
  },
  {
   "cell_type": "code",
   "execution_count": 82,
   "metadata": {},
   "outputs": [
    {
     "data": {
      "image/png": "[encoded data removed]",
      "text/plain": [
       "<Figure size 1080x576 with 1 Axes>"
      ]
     },
     "metadata": {
      "needs_background": "light"
     },
     "output_type": "display_data"
    }
   ],
   "source": [
    "# Creating histogram to view score distribution for total scores by parental education\n",
    "\n",
    "plt.figure(figsize = (15,8))\n",
    "\n",
    "sns.histplot(x = total_scores_edu, color = 'lightseagreen', bins = 'auto')\n",
    "\n",
    "plt.title('Distibution of Total SAT Scores by Parental Education ', pad = 10, fontsize = 25, fontweight = 'medium' )\n",
    "plt.xlabel('Total Score',labelpad = 10, fontsize = 15);\n",
    "plt.xticks(size = 15);\n",
    "plt.ylabel('Frequency', size = 15)\n",
    "\n",
    "# creating mean line\n",
    "plt.axvline(total_score_mean, color='k', linestyle='dashed', linewidth=1)\n",
    "min_ylim, max_ylim = plt.ylim()\n",
    "\n",
    "# creating mean label\n",
    "plt.text(total_score_mean * 1.02, max_ylim*0.9, 'Mean: {:.2f}'.format(total_score_mean))\n",
    "\n",
    "plt.savefig('/Users/jenz/Desktop/GA/submissions/projects/project_1-master/images/hist_total.png')"
   ]
  },
  {
   "cell_type": "markdown",
   "metadata": {},
   "source": [
    "Interpretation: Distribution is similiar to ERW and Math Histograms. To see if the distribution is normally distributed, we would need a slightly larger sample, as the count of values is 24. Looking at this histogram, there may be more scores closer to the mean and in the lower range of scores. \n"
   ]
  },
  {
   "cell_type": "code",
   "execution_count": 83,
   "metadata": {},
   "outputs": [
    {
     "data": {
      "image/png": "[encoded data removed]",
      "text/plain": [
       "<Figure size 1080x576 with 1 Axes>"
      ]
     },
     "metadata": {
      "needs_background": "light"
     },
     "output_type": "display_data"
    }
   ],
   "source": [
    "# Creating histogram to view score distribution for Math scores by parental education\n",
    "\n",
    "plt.figure(figsize = (15,8))\n",
    "\n",
    "sns.histplot(x = math_scores_edu, color = 'lightseagreen', bins = 'auto')\n",
    "\n",
    "plt.title('Distibution of Math SAT Scores by Parental Education ', pad = 10, fontsize = 25, fontweight = 'medium')\n",
    "\n",
    "plt.xlabel('Total Score',labelpad = 10, fontsize = 15);\n",
    "plt.xticks(size = 15);\n",
    "plt.ylabel('Frequency', size = 15)\n",
    "\n",
    "# creating a vertical mean line\n",
    "plt.axvline(math_score_mean, color='k', linestyle='dashed', linewidth=1)\n",
    "min_ylim, max_ylim = plt.ylim()\n",
    "\n",
    "# Adding mean label\n",
    "plt.text(math_score_mean * 1.02, max_ylim*0.9, 'Mean: {:.2f}'.format(math_score_mean))\n",
    "\n",
    "plt.savefig('/Users/jenz/Desktop/GA/submissions/projects/project_1-master/images/hist_math.png')"
   ]
  },
  {
   "cell_type": "markdown",
   "metadata": {},
   "source": [
    "Interpretation: Distribution is similiar to Total and ERW Histograms. To see if the distribution is normally distributed, we would need a slightly larger sample, as the count of values is 24. Looking at this histogram, there may be more scores closer to the mean and in the lower range of scores."
   ]
  },
  {
   "cell_type": "code",
   "execution_count": 84,
   "metadata": {
    "tags": []
   },
   "outputs": [
    {
     "data": {
      "image/png": "[encoded data removed]",
      "text/plain": [
       "<Figure size 1080x576 with 1 Axes>"
      ]
     },
     "metadata": {
      "needs_background": "light"
     },
     "output_type": "display_data"
    }
   ],
   "source": [
    "# Creating histogram to view score distribution for ERW scores by parental education\n",
    "\n",
    "plt.figure(figsize = (15,8))\n",
    "\n",
    "sns.histplot(x = erw_score_edu, color = 'lightseagreen', bins = 'auto')\n",
    "\n",
    "plt.title('Distibution of Reading and Writing SAT Scores by Parental Education ', pad = 10, fontsize = 25, fontweight = 'medium' )\n",
    "\n",
    "plt.xlabel('Total Score',labelpad = 10, fontsize = 15);\n",
    "plt.xticks(size = 15);\n",
    "plt.ylabel('Frequency', size = 15)\n",
    "\n",
    "# creating mean line\n",
    "plt.axvline(erw_score_mean, color='k', linestyle='dashed', linewidth=1)\n",
    "min_ylim, max_ylim = plt.ylim()\n",
    "\n",
    "# creating mean label \n",
    "plt.text(erw_score_mean * 1.02, max_ylim*0.9, 'Mean: {:.2f}'.format(erw_score_mean))\n",
    "\n",
    "plt.savefig('/Users/jenz/Desktop/GA/submissions/projects/project_1-master/images/hist_erw.png')"
   ]
  },
  {
   "cell_type": "markdown",
   "metadata": {},
   "source": [
    "Interpretation: Distribution is similiar to Total and Math Histograms. To see if the distribution is normally distributed, we would need a slightly larger sample, as the count of values is 24. Looking at this histogram, there may be more scores closer to the mean and in the lower range of scores."
   ]
  },
  {
   "cell_type": "code",
   "execution_count": 85,
   "metadata": {},
   "outputs": [
    {
     "data": {
      "image/png": "[encoded data removed]",
      "text/plain": [
       "<Figure size 1080x576 with 1 Axes>"
      ]
     },
     "metadata": {
      "needs_background": "light"
     },
     "output_type": "display_data"
    }
   ],
   "source": [
    "# Total Average SAT Score BoxPlot\n",
    "\n",
    "plt.figure(figsize = (15,8))\n",
    "\n",
    "sns.boxplot(x = education['total'], width = 0.5, color = 'lightseagreen')\n",
    "\n",
    "plt.title('Total Average SAT Score', pad = 10, fontsize = 25, fontweight = 'medium')\n",
    "plt.xlabel('Total Score',labelpad = 10, fontsize = 15);\n",
    "plt.xticks(size = 15);\n",
    "plt.savefig('/Users/jenz/Desktop/GA/submissions/projects/project_1-master/images/box_total.png')"
   ]
  },
  {
   "cell_type": "markdown",
   "metadata": {},
   "source": [
    "Interpretation: Skewed to the right, indicating the majority of scores are lower than the median score. Need bigger sample to determine whether symmetrical/evenly distributed."
   ]
  },
  {
   "cell_type": "code",
   "execution_count": null,
   "metadata": {},
   "outputs": [],
   "source": [
    "education_desc = education.describe()"
   ]
  },
  {
   "cell_type": "code",
   "execution_count": 86,
   "metadata": {},
   "outputs": [
    {
     "data": {
      "image/png": "[encoded data removed]",
      "text/plain": [
       "<Figure size 1080x576 with 1 Axes>"
      ]
     },
     "metadata": {
      "needs_background": "light"
     },
     "output_type": "display_data"
    }
   ],
   "source": [
    "# Graduate Degree BoxPlot\n",
    "\n",
    "plt.figure(figsize = (15,8))\n",
    "sns.boxplot(x = edu_test_pivot['Graduate Degree'], width = 0.5, color = 'lightseagreen')\n",
    "\n",
    "plt.title('Graduate Degree', pad = 10, fontsize = 25, fontweight = 'medium')\n",
    "plt.xlabel('Total',labelpad = 10, fontsize = 15);\n",
    "plt.xticks(size = 15);\n",
    "plt.savefig('/Users/jenz/Desktop/GA/submissions/projects/project_1-master/images/box_grad.png')"
   ]
  },
  {
   "cell_type": "markdown",
   "metadata": {},
   "source": [
    "Interpretation: Skewed to the left, indicating the majority of scores are higher than the median score. Need bigger sample to determine whether symmetrical/evenly distributed."
   ]
  },
  {
   "cell_type": "code",
   "execution_count": 87,
   "metadata": {},
   "outputs": [
    {
     "data": {
      "image/png": "[encoded data removed]",
      "text/plain": [
       "<Figure size 1080x576 with 1 Axes>"
      ]
     },
     "metadata": {
      "needs_background": "light"
     },
     "output_type": "display_data"
    }
   ],
   "source": [
    "# Associate Degree Boxplot\n",
    "\n",
    "plt.figure(figsize = (15,8))\n",
    "sns.boxplot(x = edu_test_pivot['Associate Degree'], width = 0.5, color = 'lightseagreen')\n",
    "\n",
    "plt.title('Associate Degree', pad = 10, fontsize = 25, fontweight = 'medium')\n",
    "plt.xlabel('Total',labelpad = 10, fontsize = 15);\n",
    "plt.xticks(size = 15);\n",
    "plt.savefig('/Users/jenz/Desktop/GA/submissions/projects/project_1-master/images/box_assoc.png')"
   ]
  },
  {
   "cell_type": "markdown",
   "metadata": {},
   "source": [
    "Interpretation: Skewed to the left, indicating the majority of scores are higher than the median score. Need bigger sample to determine whether symmetrical/evenly distributed."
   ]
  },
  {
   "cell_type": "code",
   "execution_count": 88,
   "metadata": {},
   "outputs": [
    {
     "data": {
      "image/png": "[encoded data removed]",
      "text/plain": [
       "<Figure size 1080x576 with 1 Axes>"
      ]
     },
     "metadata": {
      "needs_background": "light"
     },
     "output_type": "display_data"
    }
   ],
   "source": [
    "# Bachelors Degree Boxplot\n",
    "\n",
    "plt.figure(figsize = (15,8))\n",
    "sns.boxplot(x = edu_test_pivot['Bachelors Degree'], width = 0.5, color = 'lightseagreen')\n",
    "\n",
    "plt.title('Bachelors Degree', pad = 10, fontsize = 25, fontweight = 'medium')\n",
    "plt.xlabel('Total',labelpad = 10, fontsize = 15);\n",
    "plt.xticks(size = 15);\n",
    "plt.savefig('/Users/jenz/Desktop/GA/submissions/projects/project_1-master/images/box_bach.png')"
   ]
  },
  {
   "cell_type": "markdown",
   "metadata": {},
   "source": [
    "Interpretation: Skewed to the right, indicating the majority of scores are lower than the median score. Need bigger sample to determine whether symmetrical/evenly distributed."
   ]
  },
  {
   "cell_type": "code",
   "execution_count": 89,
   "metadata": {},
   "outputs": [
    {
     "data": {
      "image/png": "[encoded data removed]",
      "text/plain": [
       "<Figure size 1080x576 with 1 Axes>"
      ]
     },
     "metadata": {
      "needs_background": "light"
     },
     "output_type": "display_data"
    }
   ],
   "source": [
    "# High School Diploma Box Plots\n",
    "\n",
    "plt.figure(figsize = (15,8))\n",
    "sns.boxplot(x = edu_test_pivot['High School Diploma'], width = 0.5, color = 'lightseagreen')\n",
    "\n",
    "plt.title('High School Diploma', pad = 10, fontsize = 25, fontweight = 'medium')\n",
    "plt.xlabel('Total',labelpad = 10, fontsize = 15);\n",
    "plt.xticks(size = 15);\n",
    "plt.savefig('/Users/jenz/Desktop/GA/submissions/projects/project_1-master/images/box_hs.png')"
   ]
  },
  {
   "cell_type": "markdown",
   "metadata": {},
   "source": [
    "Interpretation: Skewed to the left, indicating the majority of scores are higher than the median score. Need bigger sample to determine whether symmetrical/evenly distributed."
   ]
  },
  {
   "cell_type": "code",
   "execution_count": 90,
   "metadata": {},
   "outputs": [
    {
     "data": {
      "image/png": "[encoded data removed]",
      "text/plain": [
       "<Figure size 1080x576 with 1 Axes>"
      ]
     },
     "metadata": {
      "needs_background": "light"
     },
     "output_type": "display_data"
    }
   ],
   "source": [
    "# No High School Diploma Boxplot\n",
    "\n",
    "plt.figure(figsize = (15,8))\n",
    "sns.boxplot(x = edu_test_pivot['No High School Diploma'], width = 0.5, color = 'lightseagreen')\n",
    "\n",
    "plt.title('No High School Diploma', pad = 10, fontsize = 25, fontweight = 'medium')\n",
    "plt.xlabel('Total',labelpad = 10, fontsize = 15);\n",
    "plt.xticks(size = 15);\n",
    "plt.savefig('/Users/jenz/Desktop/GA/submissions/projects/project_1-master/images/box_no_hs.png')"
   ]
  },
  {
   "cell_type": "markdown",
   "metadata": {},
   "source": [
    "Interpretation: Skewed to the left, indicating the majority of scores are higher than the median score. Need bigger sample to determine whether symmetrical/evenly distributed."
   ]
  },
  {
   "cell_type": "code",
   "execution_count": 91,
   "metadata": {},
   "outputs": [
    {
     "data": {
      "image/png": "[encoded data removed]",
      "text/plain": [
       "<Figure size 1080x576 with 1 Axes>"
      ]
     },
     "metadata": {
      "needs_background": "light"
     },
     "output_type": "display_data"
    }
   ],
   "source": [
    "# No Response Box Plot\n",
    "\n",
    "plt.figure(figsize = (15,8))\n",
    "sns.boxplot(x = edu_test_pivot['No Response'], width = 0.5, color = 'lightseagreen')\n",
    "\n",
    "plt.title('No Response', pad = 10, fontsize = 25, fontweight = 'medium')\n",
    "plt.xlabel('Total',labelpad = 10, fontsize = 15);\n",
    "plt.xticks(size = 15);\n",
    "\n",
    "plt.savefig('/Users/jenz/Desktop/GA/submissions/projects/project_1-master/images/box_no_response.png')"
   ]
  },
  {
   "cell_type": "markdown",
   "metadata": {},
   "source": [
    "Interpretation: Skewed to the left, indicating the majority of scores are higher than the median score. Need bigger sample to determine whether symmetrical/evenly distributed."
   ]
  },
  {
   "cell_type": "code",
   "execution_count": 92,
   "metadata": {},
   "outputs": [
    {
     "data": {
      "image/png": "[encoded data removed]",
      "text/plain": [
       "<Figure size 1440x720 with 1 Axes>"
      ]
     },
     "metadata": {
      "needs_background": "light"
     },
     "output_type": "display_data"
    }
   ],
   "source": [
    "# Bar chart for total students by Parental Education 2017 - 2020\n",
    "\n",
    "edu_pivot.plot(kind = 'bar', figsize = (20,10), colormap = 'tab10_r');\n",
    "\n",
    "plt.xticks(rotation = 0, size = 12);\n",
    "plt.yticks(size = 12)\n",
    "\n",
    "plt.xlabel('Highest Parental Education Achieved', fontsize = 15, labelpad = 10);\n",
    "plt.ylabel('Number of Students', fontsize = 15, labelpad = 10);\n",
    "plt.legend(fontsize = 'large')\n",
    "\n",
    "plt.title('Total Number of Students by Parental Education', fontsize = 25, pad = 20, fontweight = 'medium'); \n",
    "\n",
    "plt.savefig('/Users/jenz/Desktop/GA/submissions/projects/project_1-master/images/num_of_students.png')"
   ]
  },
  {
   "cell_type": "markdown",
   "metadata": {},
   "source": [
    "Interpretation: Students with a parental education of a Bachelors Degree made up the largest portion of students taking the SAT over the last 4 years. In 2020, 28% of Students taking the SAT had a bachelors degree parental education level. High School parental education followed closely, representing 27% of Students taking the SAT. Associate degree was the smallest at 7% \n"
   ]
  },
  {
   "cell_type": "code",
   "execution_count": null,
   "metadata": {},
   "outputs": [],
   "source": [
    "sat_scores['total'].mean()"
   ]
  },
  {
   "cell_type": "code",
   "execution_count": 93,
   "metadata": {},
   "outputs": [
    {
     "data": {
      "image/png": "[encoded data removed]",
      "text/plain": [
       "<Figure size 1440x720 with 1 Axes>"
      ]
     },
     "metadata": {
      "needs_background": "light"
     },
     "output_type": "display_data"
    }
   ],
   "source": [
    "# Bar chart showing average total SAT scores from 2017 - 2019 by parental education\n",
    "\n",
    "educated = education.sort_values(by = 'total', ascending = True)\n",
    "\n",
    "plt.figure(figsize = (20,10))\n",
    "\n",
    "plt.bar(educated['parental_education'], educated['total'], color = 'lightseagreen')\n",
    "\n",
    "plt.xticks(rotation = 0, size = 12);\n",
    "plt.yticks(size = 15)\n",
    "plt.xlabel('Highest Level of Parental Education', fontsize = 20, labelpad = 15);\n",
    "plt.ylabel('Average Total SAT Score', fontsize = 20, labelpad = 15);\n",
    "\n",
    "# Creating horizontal line representing U.S. Avg. Total Score\n",
    "plt.hlines(1119.7320261437908, xmin = -1, xmax = 6, color = 'black')\n",
    "plt.text(5.92, 1080, s = 'US Avg.', color = 'black', fontsize = 15); \n",
    "\n",
    "plt.title('Average Total SAT Scores by Parental Education', fontsize = 25, pad = 20, fontweight = 'medium' );\n",
    "\n",
    "plt.savefig('/Users/jenz/Desktop/GA/submissions/projects/project_1-master/images/avg_total_scores.png')"
   ]
  },
  {
   "cell_type": "markdown",
   "metadata": {},
   "source": [
    "Interpretation: Students with a Graduate Degree parental education scored the highest on the SAT. They scored roughly 69 points higher than the U.S. average, 194 points higher than students with a parental education of a high school diploma and 225 points higher than the avg student with a parental education of no high school diploma."
   ]
  },
  {
   "cell_type": "code",
   "execution_count": 94,
   "metadata": {},
   "outputs": [
    {
     "data": {
      "image/png": "[encoded data removed]",
      "text/plain": [
       "<Figure size 1440x720 with 1 Axes>"
      ]
     },
     "metadata": {
      "needs_background": "light"
     },
     "output_type": "display_data"
    }
   ],
   "source": [
    "# Scatter plot comparing Math & ERW Scores\n",
    "\n",
    "plt.figure(figsize = (20,10))\n",
    "sns.scatterplot(data = education,\n",
    "            x = 'math', # x axis\n",
    "            y = 'erw',  # y axis,\n",
    "            s = 200,   # size of dots\n",
    "            hue = 'p_edu',    \n",
    "            palette = 'tab10',\n",
    "            legend = 'full');  # \n",
    "    \n",
    "plt.title('Math and ERW Scores', fontsize = 25, pad = 20, fontweight = 'medium')\n",
    "plt.legend(fancybox = True, \n",
    "           labels = ['Parental Education','No HS Diploma or No Response', 'HS Diploma', 'Associate','Bachelors','Masters'], \n",
    "           fontsize = 'x-large')\n",
    "\n",
    "plt.xticks(size = 12)\n",
    "plt.yticks(size = 12)\n",
    "\n",
    "plt.xlabel('SAT Evidence-Based Reading and Writing', fontsize = 15, labelpad = 10)\n",
    "plt.ylabel('SAT Math', fontsize = 15, labelpad = 10);\n",
    "\n",
    "plt.savefig('/Users/jenz/Desktop/GA/submissions/projects/project_1-master/images/scatter.png')"
   ]
  },
  {
   "cell_type": "markdown",
   "metadata": {},
   "source": [
    "Interpretation: SAT math scores and reading and writing scores are positively correlated. Students with a higher level of parental education tend to have higher math and reading and writing scores. "
   ]
  },
  {
   "cell_type": "code",
   "execution_count": 95,
   "metadata": {},
   "outputs": [
    {
     "data": {
      "image/png": "[encoded data removed]",
      "text/plain": [
       "<Figure size 1080x720 with 1 Axes>"
      ]
     },
     "metadata": {
      "needs_background": "light"
     },
     "output_type": "display_data"
    }
   ],
   "source": [
    "# Line plot comparing total average score by parental education\n",
    "\n",
    "plt.figure(figsize = (15,10), frameon = False)\n",
    "\n",
    "plt.title('Total Average Score by Parental Education', pad = 20, size = 25, fontweight= 'medium')\n",
    "\n",
    "sns.lineplot(data = education, x = education['year'], y = education['total'],linewidth = 3, \n",
    "             hue = education['parental_education'], markers = True, legend = False, )\n",
    "\n",
    "# Adding line labels\n",
    "plt.text(2020, 1175, s = 'Graduate Degree', color = 'purple', fontsize = 15); \n",
    "plt.text(2020, 1100, s = 'Bachelors Degree', color = 'red', fontsize = 15); \n",
    "plt.text(2020, 1010, s = 'Associate Degree', color = 'green', fontsize = 15); \n",
    "plt.text(2020, 975, s = 'High School Diploma', color = 'orange', fontsize = 15); \n",
    "plt.text(2020, 905, s = 'No High School Diploma', color = 'darkblue', fontsize = 15); \n",
    "plt.text(2020, 875, s = 'No Response', color = 'brown', fontsize = 15); \n",
    "\n",
    "#Adding grid\n",
    "plt.grid(True, linewidth = 0.5, c = 'gray', alpha = 0.25)\n",
    "\n",
    "#Adding U.S. Avg. Total Score Per Year Line\n",
    "ax1 = plt.plot(score_avg['year'],score_avg['total'], linewidth = 2, linestyle = 'solid', color = 'black' )\n",
    "plt.text(2019, 1100, s = 'US Avg.', color = 'black', fontsize = 20); \n",
    "\n",
    "plt.xticks((2017, 2018, 2019, 2020), size = 15)\n",
    "plt.xlabel('Year', fontsize = 20, labelpad = 10)\n",
    "plt.ylabel('Total Average Score', fontsize = 20, labelpad = 10)\n",
    "plt.yticks(size = 15)\n",
    "plt.box(False);\n",
    "\n",
    "plt.savefig('/Users/jenz/Desktop/GA/submissions/projects/project_1-master/images/total_avg_score_line.png')"
   ]
  },
  {
   "cell_type": "markdown",
   "metadata": {},
   "source": [
    "Interpretation: While those students with a parental education of a Bachelors and Graduate degree score the highest and those with a parental education of no high school diploma or no response score the lowest, all total average scores are declining slightly, regardless of the parental education level"
   ]
  },
  {
   "cell_type": "code",
   "execution_count": 96,
   "metadata": {},
   "outputs": [
    {
     "data": {
      "image/png": "[encoded data removed]",
      "text/plain": [
       "<Figure size 1440x864 with 2 Axes>"
      ]
     },
     "metadata": {
      "needs_background": "light"
     },
     "output_type": "display_data"
    }
   ],
   "source": [
    "# Percentage Change in Total Score and Percentage Change in Number of Students Testing\n",
    "\n",
    "plt.figure(figsize = (20,12))\n",
    "\n",
    "# Change in Total Score \n",
    "ax1 = plt.subplot(2,1,1)\n",
    "ax1.set_title('Change in Total SAT Score', fontsize = 20, pad = 10, fontweight = 'medium')\n",
    "ax1.plot(edu_pct_change)\n",
    "plt.xticks([2018,2019,2020], size = 12)\n",
    "plt.legend(['Associate Degree', 'Bachelors Degree','Graduate Degree','High School Diploma', 'No High School Diploma','No Response'])\n",
    "plt.ylabel('Percent Change', fontsize = 12)\n",
    "\n",
    "# Change in Students Testing\n",
    "ax2 = plt.subplot(2,1,2)\n",
    "ax2.set_title('Change in Number of Students Testing', fontsize = 20, pad = 10, fontweight = 'medium')\n",
    "ax2.plot(edu_tt_pct_change)\n",
    "plt.xticks([2018,2019,2020], size = 12);\n",
    "plt.legend(['Associate Degree', 'Bachelors Degree','Graduate Degree','High School Diploma', 'No High School Diploma','No Response'])\n",
    "plt.ylabel('Percent Change', fontsize = 12);\n",
    "plt.savefig('/Users/jenz/Desktop/GA/submissions/projects/project_1-master/images/change_in_total_sat.png')"
   ]
  },
  {
   "cell_type": "markdown",
   "metadata": {},
   "source": [
    "This chart shows the average total score achieved by parental education YoY. While those students with a parental education of a Bachelors and Graduate degree score the highest and those with a parental education of no high school diploma or no response score the lowest, all total average scores are slightly declining from 2017, regardless of the parental education level."
   ]
  },
  {
   "cell_type": "markdown",
   "metadata": {},
   "source": [
    "## Conclusions and Recommendations"
   ]
  },
  {
   "cell_type": "markdown",
   "metadata": {},
   "source": [
    "Based on your exploration of the data, what are you key takeaways and recommendations? Make sure to answer your question of interest or address your problem statement here."
   ]
  },
  {
   "cell_type": "markdown",
   "metadata": {},
   "source": [
    "**Conclusions and Recommendations** \n",
    "\n",
    "<br>Further research and analysis are recommended, and should include the following areas: \n",
    "- Evaluate state level parental education\n",
    "- Evaluate county and school district level parental education\n",
    "- Evaluate participation rates by parental education\n",
    "\n",
    "<br>Due to the decrease in the number of students taking the SAT, evaluate whether students with/without parental education are applying to schools that may not require SAT scores\n",
    "<br>\n",
    "<br>Look into potential reasons why students do not respond to the parental education section and how it correlates with the average low score of those who do not respond\n",
    "<br>\n",
    "<br>Develop programs to provide resources for those students who may not have parents/parental figures with higher levels of education.\n"
   ]
  },
  {
   "cell_type": "markdown",
   "metadata": {},
   "source": [
    "See README"
   ]
  }
 ],
 "metadata": {
  "anaconda-cloud": {},
  "kernelspec": {
   "display_name": "Python 3 (ipykernel)",
   "language": "python",
   "name": "python3"
  },
  "language_info": {
   "codemirror_mode": {
    "name": "ipython",
    "version": 3
   },
   "file_extension": ".py",
   "mimetype": "text/x-python",
   "name": "python",
   "nbconvert_exporter": "python",
   "pygments_lexer": "ipython3",
   "version": "3.8.8"
  }
 },
 "nbformat": 4,
 "nbformat_minor": 4
}
